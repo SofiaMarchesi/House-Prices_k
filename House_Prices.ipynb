{
  "nbformat": 4,
  "nbformat_minor": 0,
  "metadata": {
    "colab": {
      "name": "House_Prices[1st].ipynb",
      "provenance": [],
      "collapsed_sections": [
        "ZwKXgadHHagx",
        "kPav6XvvUr7V"
      ],
      "mount_file_id": "1WgIQe1gbcl_HMPpWCZvfv1kQ3Ypa7mSr",
      "authorship_tag": "ABX9TyOYipcLjvxhOxByJ6Nq4eIC",
      "include_colab_link": true
    },
    "kernelspec": {
      "display_name": "Python 3",
      "name": "python3"
    }
  },
  "cells": [
    {
      "cell_type": "markdown",
      "metadata": {
        "id": "view-in-github",
        "colab_type": "text"
      },
      "source": [
        "<a href=\"https://colab.research.google.com/github/SofiaMarchesi/HousePrices_kaggle/blob/master/House_Prices.ipynb\" target=\"_parent\"><img src=\"https://colab.research.google.com/assets/colab-badge.svg\" alt=\"Open In Colab\"/></a>"
      ]
    },
    {
      "cell_type": "code",
      "metadata": {
        "id": "X8EtrlKFA9Lt",
        "colab": {
          "base_uri": "https://localhost:8080/"
        },
        "outputId": "edc77310-5182-42eb-f33f-72db84fb110f"
      },
      "source": [
        "from google.colab import drive\n",
        "import pandas as pd\n",
        "\n",
        "drive.mount('/content/drive',force_remount=True)\n",
        "train = pd.read_csv('/content/drive/My Drive/Colab Notebooks/Datasets/houses_train.csv')\n",
        "test = pd.read_csv('/content/drive/My Drive/Colab Notebooks/Datasets/houses_test.csv')\n",
        "\n"
      ],
      "execution_count": null,
      "outputs": [
        {
          "output_type": "stream",
          "text": [
            "Mounted at /content/drive\n"
          ],
          "name": "stdout"
        }
      ]
    },
    {
      "cell_type": "code",
      "metadata": {
        "id": "f2ZkwDeUzl3z"
      },
      "source": [
        "test_id = test['Id']\n",
        "\n",
        "train_id = train['Id']"
      ],
      "execution_count": null,
      "outputs": []
    },
    {
      "cell_type": "code",
      "metadata": {
        "id": "-DFTOX6OAYjQ"
      },
      "source": [
        "#pip install hyperopt"
      ],
      "execution_count": null,
      "outputs": []
    },
    {
      "cell_type": "code",
      "metadata": {
        "id": "TWOvq5acsrGR",
        "colab": {
          "base_uri": "https://localhost:8080/"
        },
        "outputId": "dc750b8b-c9a1-4f8b-e179-60967f49cb57"
      },
      "source": [
        "pip install bayesian-optimization"
      ],
      "execution_count": null,
      "outputs": [
        {
          "output_type": "stream",
          "text": [
            "Collecting bayesian-optimization\n",
            "  Downloading https://files.pythonhosted.org/packages/bb/7a/fd8059a3881d3ab37ac8f72f56b73937a14e8bb14a9733e68cc8b17dbe3c/bayesian-optimization-1.2.0.tar.gz\n",
            "Requirement already satisfied: numpy>=1.9.0 in /usr/local/lib/python3.6/dist-packages (from bayesian-optimization) (1.18.5)\n",
            "Requirement already satisfied: scipy>=0.14.0 in /usr/local/lib/python3.6/dist-packages (from bayesian-optimization) (1.4.1)\n",
            "Requirement already satisfied: scikit-learn>=0.18.0 in /usr/local/lib/python3.6/dist-packages (from bayesian-optimization) (0.22.2.post1)\n",
            "Requirement already satisfied: joblib>=0.11 in /usr/local/lib/python3.6/dist-packages (from scikit-learn>=0.18.0->bayesian-optimization) (0.17.0)\n",
            "Building wheels for collected packages: bayesian-optimization\n",
            "  Building wheel for bayesian-optimization (setup.py) ... \u001b[?25l\u001b[?25hdone\n",
            "  Created wheel for bayesian-optimization: filename=bayesian_optimization-1.2.0-cp36-none-any.whl size=11685 sha256=709eec3b7f84815b38879c20f7d1ea58ea1459b2238e798dc6b904414bb54459\n",
            "  Stored in directory: /root/.cache/pip/wheels/5a/56/ae/e0e3c1fc1954dc3ec712e2df547235ed072b448094d8f94aec\n",
            "Successfully built bayesian-optimization\n",
            "Installing collected packages: bayesian-optimization\n",
            "Successfully installed bayesian-optimization-1.2.0\n"
          ],
          "name": "stdout"
        }
      ]
    },
    {
      "cell_type": "code",
      "metadata": {
        "id": "5R9AU3T3hp3X",
        "colab": {
          "base_uri": "https://localhost:8080/"
        },
        "outputId": "d5dc8397-3217-4cad-883d-20ce90caf10e"
      },
      "source": [
        "pip install scikit-optimize\n"
      ],
      "execution_count": null,
      "outputs": [
        {
          "output_type": "stream",
          "text": [
            "Collecting scikit-optimize\n",
            "\u001b[?25l  Downloading https://files.pythonhosted.org/packages/8b/03/be33e89f55866065a02e515c5b319304a801a9f1027a9b311a9b1d1f8dc7/scikit_optimize-0.8.1-py2.py3-none-any.whl (101kB)\n",
            "\r\u001b[K     |███▎                            | 10kB 15.1MB/s eta 0:00:01\r\u001b[K     |██████▌                         | 20kB 2.1MB/s eta 0:00:01\r\u001b[K     |█████████▊                      | 30kB 2.7MB/s eta 0:00:01\r\u001b[K     |█████████████                   | 40kB 3.0MB/s eta 0:00:01\r\u001b[K     |████████████████▏               | 51kB 2.5MB/s eta 0:00:01\r\u001b[K     |███████████████████▍            | 61kB 2.7MB/s eta 0:00:01\r\u001b[K     |██████████████████████▊         | 71kB 3.0MB/s eta 0:00:01\r\u001b[K     |██████████████████████████      | 81kB 3.2MB/s eta 0:00:01\r\u001b[K     |█████████████████████████████▏  | 92kB 3.4MB/s eta 0:00:01\r\u001b[K     |████████████████████████████████| 102kB 2.7MB/s \n",
            "\u001b[?25hRequirement already satisfied: scikit-learn>=0.20.0 in /usr/local/lib/python3.6/dist-packages (from scikit-optimize) (0.22.2.post1)\n",
            "Requirement already satisfied: scipy>=0.19.1 in /usr/local/lib/python3.6/dist-packages (from scikit-optimize) (1.4.1)\n",
            "Collecting pyaml>=16.9\n",
            "  Downloading https://files.pythonhosted.org/packages/15/c4/1310a054d33abc318426a956e7d6df0df76a6ddfa9c66f6310274fb75d42/pyaml-20.4.0-py2.py3-none-any.whl\n",
            "Requirement already satisfied: joblib>=0.11 in /usr/local/lib/python3.6/dist-packages (from scikit-optimize) (0.17.0)\n",
            "Requirement already satisfied: numpy>=1.13.3 in /usr/local/lib/python3.6/dist-packages (from scikit-optimize) (1.18.5)\n",
            "Requirement already satisfied: PyYAML in /usr/local/lib/python3.6/dist-packages (from pyaml>=16.9->scikit-optimize) (3.13)\n",
            "Installing collected packages: pyaml, scikit-optimize\n",
            "Successfully installed pyaml-20.4.0 scikit-optimize-0.8.1\n"
          ],
          "name": "stdout"
        }
      ]
    },
    {
      "cell_type": "markdown",
      "metadata": {
        "id": "YhWJn5mzZlnR"
      },
      "source": [
        "# 1.   Libraries\n",
        "\n"
      ]
    },
    {
      "cell_type": "code",
      "metadata": {
        "id": "9L7i79mPZXKa",
        "colab": {
          "base_uri": "https://localhost:8080/"
        },
        "outputId": "0facfcf9-b3ef-427c-c95e-6c11d6c5bb69"
      },
      "source": [
        "import numpy as np\n",
        "import matplotlib.pyplot as plt\n",
        "import math\n",
        "import seaborn as sns\n",
        "import statsmodels as sm\n",
        "\n",
        "from statsmodels.stats.outliers_influence import variance_inflation_factor\n",
        "from scipy import stats\n",
        "from scipy.stats import norm, skew\n",
        "from scipy.special import boxcox1p\n",
        "\n",
        "\n",
        "from sklearn.preprocessing import RobustScaler\n",
        "from sklearn.svm import SVR\n",
        "from sklearn.linear_model import LinearRegression,Ridge,Lasso,ElasticNet,SGDRegressor\n",
        "from sklearn.tree import DecisionTreeRegressor\n",
        "from sklearn.ensemble import RandomForestRegressor,VotingRegressor,AdaBoostRegressor\n",
        "from sklearn.pipeline import Pipeline\n",
        "from sklearn.metrics import mean_squared_log_error,mean_squared_error\n",
        "from bayes_opt import BayesianOptimization\n",
        "from skopt import BayesSearchCV\n",
        "\n",
        "\n",
        "from sklearn.model_selection import train_test_split,cross_val_score,GridSearchCV,RandomizedSearchCV\n",
        "from xgboost import XGBRegressor\n",
        "import xgboost as xgb"
      ],
      "execution_count": null,
      "outputs": [
        {
          "output_type": "stream",
          "text": [
            "/usr/local/lib/python3.6/dist-packages/statsmodels/tools/_testing.py:19: FutureWarning: pandas.util.testing is deprecated. Use the functions in the public API at pandas.testing instead.\n",
            "  import pandas.util.testing as tm\n"
          ],
          "name": "stderr"
        }
      ]
    },
    {
      "cell_type": "code",
      "metadata": {
        "id": "xEL9Mh_2K5XO",
        "colab": {
          "base_uri": "https://localhost:8080/",
          "height": 35
        },
        "outputId": "2c501712-1610-4fd3-ba20-84110cae48f1"
      },
      "source": [
        "import sklearn\n",
        "sklearn.__version__"
      ],
      "execution_count": null,
      "outputs": [
        {
          "output_type": "execute_result",
          "data": {
            "application/vnd.google.colaboratory.intrinsic+json": {
              "type": "string"
            },
            "text/plain": [
              "'0.22.2.post1'"
            ]
          },
          "metadata": {
            "tags": []
          },
          "execution_count": 8
        }
      ]
    },
    {
      "cell_type": "markdown",
      "metadata": {
        "id": "j19P0c-eUtHc"
      },
      "source": [
        "# 2.   Copy raw data\n",
        "\n"
      ]
    },
    {
      "cell_type": "code",
      "metadata": {
        "id": "2C6wq0ysDIFQ",
        "colab": {
          "base_uri": "https://localhost:8080/"
        },
        "outputId": "03ad3d25-8c6e-4557-e20e-f9857b8ca81f"
      },
      "source": [
        "train1 = train.copy()\n",
        "test1 = test.copy()\n",
        "\n",
        "#train1.drop('Id',axis=1, inplace=True)\n",
        "#test1.drop('Id',axis=1, inplace=True)\n",
        "\n",
        "print(train1.shape)\n",
        "print(test1.shape)\n"
      ],
      "execution_count": null,
      "outputs": [
        {
          "output_type": "stream",
          "text": [
            "(1460, 81)\n",
            "(1459, 80)\n"
          ],
          "name": "stdout"
        }
      ]
    },
    {
      "cell_type": "code",
      "metadata": {
        "id": "a7J4MxtkXSL9"
      },
      "source": [
        "#Show all rows without truncate\n",
        "\n",
        "pd.set_option('display.max_rows', train1.shape[0]+1)"
      ],
      "execution_count": null,
      "outputs": []
    },
    {
      "cell_type": "code",
      "metadata": {
        "id": "mbfGEE2HE-cu",
        "colab": {
          "base_uri": "https://localhost:8080/",
          "height": 417
        },
        "outputId": "201f6f28-14ed-49ac-ee74-5234f2384486"
      },
      "source": [
        "print(display(train1.head(10)))"
      ],
      "execution_count": null,
      "outputs": [
        {
          "output_type": "display_data",
          "data": {
            "text/html": [
              "<div>\n",
              "<style scoped>\n",
              "    .dataframe tbody tr th:only-of-type {\n",
              "        vertical-align: middle;\n",
              "    }\n",
              "\n",
              "    .dataframe tbody tr th {\n",
              "        vertical-align: top;\n",
              "    }\n",
              "\n",
              "    .dataframe thead th {\n",
              "        text-align: right;\n",
              "    }\n",
              "</style>\n",
              "<table border=\"1\" class=\"dataframe\">\n",
              "  <thead>\n",
              "    <tr style=\"text-align: right;\">\n",
              "      <th></th>\n",
              "      <th>Id</th>\n",
              "      <th>MSSubClass</th>\n",
              "      <th>MSZoning</th>\n",
              "      <th>LotFrontage</th>\n",
              "      <th>LotArea</th>\n",
              "      <th>Street</th>\n",
              "      <th>Alley</th>\n",
              "      <th>LotShape</th>\n",
              "      <th>LandContour</th>\n",
              "      <th>Utilities</th>\n",
              "      <th>LotConfig</th>\n",
              "      <th>LandSlope</th>\n",
              "      <th>Neighborhood</th>\n",
              "      <th>Condition1</th>\n",
              "      <th>Condition2</th>\n",
              "      <th>BldgType</th>\n",
              "      <th>HouseStyle</th>\n",
              "      <th>OverallQual</th>\n",
              "      <th>OverallCond</th>\n",
              "      <th>YearBuilt</th>\n",
              "      <th>YearRemodAdd</th>\n",
              "      <th>RoofStyle</th>\n",
              "      <th>RoofMatl</th>\n",
              "      <th>Exterior1st</th>\n",
              "      <th>Exterior2nd</th>\n",
              "      <th>MasVnrType</th>\n",
              "      <th>MasVnrArea</th>\n",
              "      <th>ExterQual</th>\n",
              "      <th>ExterCond</th>\n",
              "      <th>Foundation</th>\n",
              "      <th>BsmtQual</th>\n",
              "      <th>BsmtCond</th>\n",
              "      <th>BsmtExposure</th>\n",
              "      <th>BsmtFinType1</th>\n",
              "      <th>BsmtFinSF1</th>\n",
              "      <th>BsmtFinType2</th>\n",
              "      <th>BsmtFinSF2</th>\n",
              "      <th>BsmtUnfSF</th>\n",
              "      <th>TotalBsmtSF</th>\n",
              "      <th>Heating</th>\n",
              "      <th>...</th>\n",
              "      <th>CentralAir</th>\n",
              "      <th>Electrical</th>\n",
              "      <th>1stFlrSF</th>\n",
              "      <th>2ndFlrSF</th>\n",
              "      <th>LowQualFinSF</th>\n",
              "      <th>GrLivArea</th>\n",
              "      <th>BsmtFullBath</th>\n",
              "      <th>BsmtHalfBath</th>\n",
              "      <th>FullBath</th>\n",
              "      <th>HalfBath</th>\n",
              "      <th>BedroomAbvGr</th>\n",
              "      <th>KitchenAbvGr</th>\n",
              "      <th>KitchenQual</th>\n",
              "      <th>TotRmsAbvGrd</th>\n",
              "      <th>Functional</th>\n",
              "      <th>Fireplaces</th>\n",
              "      <th>FireplaceQu</th>\n",
              "      <th>GarageType</th>\n",
              "      <th>GarageYrBlt</th>\n",
              "      <th>GarageFinish</th>\n",
              "      <th>GarageCars</th>\n",
              "      <th>GarageArea</th>\n",
              "      <th>GarageQual</th>\n",
              "      <th>GarageCond</th>\n",
              "      <th>PavedDrive</th>\n",
              "      <th>WoodDeckSF</th>\n",
              "      <th>OpenPorchSF</th>\n",
              "      <th>EnclosedPorch</th>\n",
              "      <th>3SsnPorch</th>\n",
              "      <th>ScreenPorch</th>\n",
              "      <th>PoolArea</th>\n",
              "      <th>PoolQC</th>\n",
              "      <th>Fence</th>\n",
              "      <th>MiscFeature</th>\n",
              "      <th>MiscVal</th>\n",
              "      <th>MoSold</th>\n",
              "      <th>YrSold</th>\n",
              "      <th>SaleType</th>\n",
              "      <th>SaleCondition</th>\n",
              "      <th>SalePrice</th>\n",
              "    </tr>\n",
              "  </thead>\n",
              "  <tbody>\n",
              "    <tr>\n",
              "      <th>0</th>\n",
              "      <td>1</td>\n",
              "      <td>60</td>\n",
              "      <td>RL</td>\n",
              "      <td>65.0</td>\n",
              "      <td>8450</td>\n",
              "      <td>Pave</td>\n",
              "      <td>NaN</td>\n",
              "      <td>Reg</td>\n",
              "      <td>Lvl</td>\n",
              "      <td>AllPub</td>\n",
              "      <td>Inside</td>\n",
              "      <td>Gtl</td>\n",
              "      <td>CollgCr</td>\n",
              "      <td>Norm</td>\n",
              "      <td>Norm</td>\n",
              "      <td>1Fam</td>\n",
              "      <td>2Story</td>\n",
              "      <td>7</td>\n",
              "      <td>5</td>\n",
              "      <td>2003</td>\n",
              "      <td>2003</td>\n",
              "      <td>Gable</td>\n",
              "      <td>CompShg</td>\n",
              "      <td>VinylSd</td>\n",
              "      <td>VinylSd</td>\n",
              "      <td>BrkFace</td>\n",
              "      <td>196.0</td>\n",
              "      <td>Gd</td>\n",
              "      <td>TA</td>\n",
              "      <td>PConc</td>\n",
              "      <td>Gd</td>\n",
              "      <td>TA</td>\n",
              "      <td>No</td>\n",
              "      <td>GLQ</td>\n",
              "      <td>706</td>\n",
              "      <td>Unf</td>\n",
              "      <td>0</td>\n",
              "      <td>150</td>\n",
              "      <td>856</td>\n",
              "      <td>GasA</td>\n",
              "      <td>...</td>\n",
              "      <td>Y</td>\n",
              "      <td>SBrkr</td>\n",
              "      <td>856</td>\n",
              "      <td>854</td>\n",
              "      <td>0</td>\n",
              "      <td>1710</td>\n",
              "      <td>1</td>\n",
              "      <td>0</td>\n",
              "      <td>2</td>\n",
              "      <td>1</td>\n",
              "      <td>3</td>\n",
              "      <td>1</td>\n",
              "      <td>Gd</td>\n",
              "      <td>8</td>\n",
              "      <td>Typ</td>\n",
              "      <td>0</td>\n",
              "      <td>NaN</td>\n",
              "      <td>Attchd</td>\n",
              "      <td>2003.0</td>\n",
              "      <td>RFn</td>\n",
              "      <td>2</td>\n",
              "      <td>548</td>\n",
              "      <td>TA</td>\n",
              "      <td>TA</td>\n",
              "      <td>Y</td>\n",
              "      <td>0</td>\n",
              "      <td>61</td>\n",
              "      <td>0</td>\n",
              "      <td>0</td>\n",
              "      <td>0</td>\n",
              "      <td>0</td>\n",
              "      <td>NaN</td>\n",
              "      <td>NaN</td>\n",
              "      <td>NaN</td>\n",
              "      <td>0</td>\n",
              "      <td>2</td>\n",
              "      <td>2008</td>\n",
              "      <td>WD</td>\n",
              "      <td>Normal</td>\n",
              "      <td>208500</td>\n",
              "    </tr>\n",
              "    <tr>\n",
              "      <th>1</th>\n",
              "      <td>2</td>\n",
              "      <td>20</td>\n",
              "      <td>RL</td>\n",
              "      <td>80.0</td>\n",
              "      <td>9600</td>\n",
              "      <td>Pave</td>\n",
              "      <td>NaN</td>\n",
              "      <td>Reg</td>\n",
              "      <td>Lvl</td>\n",
              "      <td>AllPub</td>\n",
              "      <td>FR2</td>\n",
              "      <td>Gtl</td>\n",
              "      <td>Veenker</td>\n",
              "      <td>Feedr</td>\n",
              "      <td>Norm</td>\n",
              "      <td>1Fam</td>\n",
              "      <td>1Story</td>\n",
              "      <td>6</td>\n",
              "      <td>8</td>\n",
              "      <td>1976</td>\n",
              "      <td>1976</td>\n",
              "      <td>Gable</td>\n",
              "      <td>CompShg</td>\n",
              "      <td>MetalSd</td>\n",
              "      <td>MetalSd</td>\n",
              "      <td>None</td>\n",
              "      <td>0.0</td>\n",
              "      <td>TA</td>\n",
              "      <td>TA</td>\n",
              "      <td>CBlock</td>\n",
              "      <td>Gd</td>\n",
              "      <td>TA</td>\n",
              "      <td>Gd</td>\n",
              "      <td>ALQ</td>\n",
              "      <td>978</td>\n",
              "      <td>Unf</td>\n",
              "      <td>0</td>\n",
              "      <td>284</td>\n",
              "      <td>1262</td>\n",
              "      <td>GasA</td>\n",
              "      <td>...</td>\n",
              "      <td>Y</td>\n",
              "      <td>SBrkr</td>\n",
              "      <td>1262</td>\n",
              "      <td>0</td>\n",
              "      <td>0</td>\n",
              "      <td>1262</td>\n",
              "      <td>0</td>\n",
              "      <td>1</td>\n",
              "      <td>2</td>\n",
              "      <td>0</td>\n",
              "      <td>3</td>\n",
              "      <td>1</td>\n",
              "      <td>TA</td>\n",
              "      <td>6</td>\n",
              "      <td>Typ</td>\n",
              "      <td>1</td>\n",
              "      <td>TA</td>\n",
              "      <td>Attchd</td>\n",
              "      <td>1976.0</td>\n",
              "      <td>RFn</td>\n",
              "      <td>2</td>\n",
              "      <td>460</td>\n",
              "      <td>TA</td>\n",
              "      <td>TA</td>\n",
              "      <td>Y</td>\n",
              "      <td>298</td>\n",
              "      <td>0</td>\n",
              "      <td>0</td>\n",
              "      <td>0</td>\n",
              "      <td>0</td>\n",
              "      <td>0</td>\n",
              "      <td>NaN</td>\n",
              "      <td>NaN</td>\n",
              "      <td>NaN</td>\n",
              "      <td>0</td>\n",
              "      <td>5</td>\n",
              "      <td>2007</td>\n",
              "      <td>WD</td>\n",
              "      <td>Normal</td>\n",
              "      <td>181500</td>\n",
              "    </tr>\n",
              "    <tr>\n",
              "      <th>2</th>\n",
              "      <td>3</td>\n",
              "      <td>60</td>\n",
              "      <td>RL</td>\n",
              "      <td>68.0</td>\n",
              "      <td>11250</td>\n",
              "      <td>Pave</td>\n",
              "      <td>NaN</td>\n",
              "      <td>IR1</td>\n",
              "      <td>Lvl</td>\n",
              "      <td>AllPub</td>\n",
              "      <td>Inside</td>\n",
              "      <td>Gtl</td>\n",
              "      <td>CollgCr</td>\n",
              "      <td>Norm</td>\n",
              "      <td>Norm</td>\n",
              "      <td>1Fam</td>\n",
              "      <td>2Story</td>\n",
              "      <td>7</td>\n",
              "      <td>5</td>\n",
              "      <td>2001</td>\n",
              "      <td>2002</td>\n",
              "      <td>Gable</td>\n",
              "      <td>CompShg</td>\n",
              "      <td>VinylSd</td>\n",
              "      <td>VinylSd</td>\n",
              "      <td>BrkFace</td>\n",
              "      <td>162.0</td>\n",
              "      <td>Gd</td>\n",
              "      <td>TA</td>\n",
              "      <td>PConc</td>\n",
              "      <td>Gd</td>\n",
              "      <td>TA</td>\n",
              "      <td>Mn</td>\n",
              "      <td>GLQ</td>\n",
              "      <td>486</td>\n",
              "      <td>Unf</td>\n",
              "      <td>0</td>\n",
              "      <td>434</td>\n",
              "      <td>920</td>\n",
              "      <td>GasA</td>\n",
              "      <td>...</td>\n",
              "      <td>Y</td>\n",
              "      <td>SBrkr</td>\n",
              "      <td>920</td>\n",
              "      <td>866</td>\n",
              "      <td>0</td>\n",
              "      <td>1786</td>\n",
              "      <td>1</td>\n",
              "      <td>0</td>\n",
              "      <td>2</td>\n",
              "      <td>1</td>\n",
              "      <td>3</td>\n",
              "      <td>1</td>\n",
              "      <td>Gd</td>\n",
              "      <td>6</td>\n",
              "      <td>Typ</td>\n",
              "      <td>1</td>\n",
              "      <td>TA</td>\n",
              "      <td>Attchd</td>\n",
              "      <td>2001.0</td>\n",
              "      <td>RFn</td>\n",
              "      <td>2</td>\n",
              "      <td>608</td>\n",
              "      <td>TA</td>\n",
              "      <td>TA</td>\n",
              "      <td>Y</td>\n",
              "      <td>0</td>\n",
              "      <td>42</td>\n",
              "      <td>0</td>\n",
              "      <td>0</td>\n",
              "      <td>0</td>\n",
              "      <td>0</td>\n",
              "      <td>NaN</td>\n",
              "      <td>NaN</td>\n",
              "      <td>NaN</td>\n",
              "      <td>0</td>\n",
              "      <td>9</td>\n",
              "      <td>2008</td>\n",
              "      <td>WD</td>\n",
              "      <td>Normal</td>\n",
              "      <td>223500</td>\n",
              "    </tr>\n",
              "    <tr>\n",
              "      <th>3</th>\n",
              "      <td>4</td>\n",
              "      <td>70</td>\n",
              "      <td>RL</td>\n",
              "      <td>60.0</td>\n",
              "      <td>9550</td>\n",
              "      <td>Pave</td>\n",
              "      <td>NaN</td>\n",
              "      <td>IR1</td>\n",
              "      <td>Lvl</td>\n",
              "      <td>AllPub</td>\n",
              "      <td>Corner</td>\n",
              "      <td>Gtl</td>\n",
              "      <td>Crawfor</td>\n",
              "      <td>Norm</td>\n",
              "      <td>Norm</td>\n",
              "      <td>1Fam</td>\n",
              "      <td>2Story</td>\n",
              "      <td>7</td>\n",
              "      <td>5</td>\n",
              "      <td>1915</td>\n",
              "      <td>1970</td>\n",
              "      <td>Gable</td>\n",
              "      <td>CompShg</td>\n",
              "      <td>Wd Sdng</td>\n",
              "      <td>Wd Shng</td>\n",
              "      <td>None</td>\n",
              "      <td>0.0</td>\n",
              "      <td>TA</td>\n",
              "      <td>TA</td>\n",
              "      <td>BrkTil</td>\n",
              "      <td>TA</td>\n",
              "      <td>Gd</td>\n",
              "      <td>No</td>\n",
              "      <td>ALQ</td>\n",
              "      <td>216</td>\n",
              "      <td>Unf</td>\n",
              "      <td>0</td>\n",
              "      <td>540</td>\n",
              "      <td>756</td>\n",
              "      <td>GasA</td>\n",
              "      <td>...</td>\n",
              "      <td>Y</td>\n",
              "      <td>SBrkr</td>\n",
              "      <td>961</td>\n",
              "      <td>756</td>\n",
              "      <td>0</td>\n",
              "      <td>1717</td>\n",
              "      <td>1</td>\n",
              "      <td>0</td>\n",
              "      <td>1</td>\n",
              "      <td>0</td>\n",
              "      <td>3</td>\n",
              "      <td>1</td>\n",
              "      <td>Gd</td>\n",
              "      <td>7</td>\n",
              "      <td>Typ</td>\n",
              "      <td>1</td>\n",
              "      <td>Gd</td>\n",
              "      <td>Detchd</td>\n",
              "      <td>1998.0</td>\n",
              "      <td>Unf</td>\n",
              "      <td>3</td>\n",
              "      <td>642</td>\n",
              "      <td>TA</td>\n",
              "      <td>TA</td>\n",
              "      <td>Y</td>\n",
              "      <td>0</td>\n",
              "      <td>35</td>\n",
              "      <td>272</td>\n",
              "      <td>0</td>\n",
              "      <td>0</td>\n",
              "      <td>0</td>\n",
              "      <td>NaN</td>\n",
              "      <td>NaN</td>\n",
              "      <td>NaN</td>\n",
              "      <td>0</td>\n",
              "      <td>2</td>\n",
              "      <td>2006</td>\n",
              "      <td>WD</td>\n",
              "      <td>Abnorml</td>\n",
              "      <td>140000</td>\n",
              "    </tr>\n",
              "    <tr>\n",
              "      <th>4</th>\n",
              "      <td>5</td>\n",
              "      <td>60</td>\n",
              "      <td>RL</td>\n",
              "      <td>84.0</td>\n",
              "      <td>14260</td>\n",
              "      <td>Pave</td>\n",
              "      <td>NaN</td>\n",
              "      <td>IR1</td>\n",
              "      <td>Lvl</td>\n",
              "      <td>AllPub</td>\n",
              "      <td>FR2</td>\n",
              "      <td>Gtl</td>\n",
              "      <td>NoRidge</td>\n",
              "      <td>Norm</td>\n",
              "      <td>Norm</td>\n",
              "      <td>1Fam</td>\n",
              "      <td>2Story</td>\n",
              "      <td>8</td>\n",
              "      <td>5</td>\n",
              "      <td>2000</td>\n",
              "      <td>2000</td>\n",
              "      <td>Gable</td>\n",
              "      <td>CompShg</td>\n",
              "      <td>VinylSd</td>\n",
              "      <td>VinylSd</td>\n",
              "      <td>BrkFace</td>\n",
              "      <td>350.0</td>\n",
              "      <td>Gd</td>\n",
              "      <td>TA</td>\n",
              "      <td>PConc</td>\n",
              "      <td>Gd</td>\n",
              "      <td>TA</td>\n",
              "      <td>Av</td>\n",
              "      <td>GLQ</td>\n",
              "      <td>655</td>\n",
              "      <td>Unf</td>\n",
              "      <td>0</td>\n",
              "      <td>490</td>\n",
              "      <td>1145</td>\n",
              "      <td>GasA</td>\n",
              "      <td>...</td>\n",
              "      <td>Y</td>\n",
              "      <td>SBrkr</td>\n",
              "      <td>1145</td>\n",
              "      <td>1053</td>\n",
              "      <td>0</td>\n",
              "      <td>2198</td>\n",
              "      <td>1</td>\n",
              "      <td>0</td>\n",
              "      <td>2</td>\n",
              "      <td>1</td>\n",
              "      <td>4</td>\n",
              "      <td>1</td>\n",
              "      <td>Gd</td>\n",
              "      <td>9</td>\n",
              "      <td>Typ</td>\n",
              "      <td>1</td>\n",
              "      <td>TA</td>\n",
              "      <td>Attchd</td>\n",
              "      <td>2000.0</td>\n",
              "      <td>RFn</td>\n",
              "      <td>3</td>\n",
              "      <td>836</td>\n",
              "      <td>TA</td>\n",
              "      <td>TA</td>\n",
              "      <td>Y</td>\n",
              "      <td>192</td>\n",
              "      <td>84</td>\n",
              "      <td>0</td>\n",
              "      <td>0</td>\n",
              "      <td>0</td>\n",
              "      <td>0</td>\n",
              "      <td>NaN</td>\n",
              "      <td>NaN</td>\n",
              "      <td>NaN</td>\n",
              "      <td>0</td>\n",
              "      <td>12</td>\n",
              "      <td>2008</td>\n",
              "      <td>WD</td>\n",
              "      <td>Normal</td>\n",
              "      <td>250000</td>\n",
              "    </tr>\n",
              "    <tr>\n",
              "      <th>5</th>\n",
              "      <td>6</td>\n",
              "      <td>50</td>\n",
              "      <td>RL</td>\n",
              "      <td>85.0</td>\n",
              "      <td>14115</td>\n",
              "      <td>Pave</td>\n",
              "      <td>NaN</td>\n",
              "      <td>IR1</td>\n",
              "      <td>Lvl</td>\n",
              "      <td>AllPub</td>\n",
              "      <td>Inside</td>\n",
              "      <td>Gtl</td>\n",
              "      <td>Mitchel</td>\n",
              "      <td>Norm</td>\n",
              "      <td>Norm</td>\n",
              "      <td>1Fam</td>\n",
              "      <td>1.5Fin</td>\n",
              "      <td>5</td>\n",
              "      <td>5</td>\n",
              "      <td>1993</td>\n",
              "      <td>1995</td>\n",
              "      <td>Gable</td>\n",
              "      <td>CompShg</td>\n",
              "      <td>VinylSd</td>\n",
              "      <td>VinylSd</td>\n",
              "      <td>None</td>\n",
              "      <td>0.0</td>\n",
              "      <td>TA</td>\n",
              "      <td>TA</td>\n",
              "      <td>Wood</td>\n",
              "      <td>Gd</td>\n",
              "      <td>TA</td>\n",
              "      <td>No</td>\n",
              "      <td>GLQ</td>\n",
              "      <td>732</td>\n",
              "      <td>Unf</td>\n",
              "      <td>0</td>\n",
              "      <td>64</td>\n",
              "      <td>796</td>\n",
              "      <td>GasA</td>\n",
              "      <td>...</td>\n",
              "      <td>Y</td>\n",
              "      <td>SBrkr</td>\n",
              "      <td>796</td>\n",
              "      <td>566</td>\n",
              "      <td>0</td>\n",
              "      <td>1362</td>\n",
              "      <td>1</td>\n",
              "      <td>0</td>\n",
              "      <td>1</td>\n",
              "      <td>1</td>\n",
              "      <td>1</td>\n",
              "      <td>1</td>\n",
              "      <td>TA</td>\n",
              "      <td>5</td>\n",
              "      <td>Typ</td>\n",
              "      <td>0</td>\n",
              "      <td>NaN</td>\n",
              "      <td>Attchd</td>\n",
              "      <td>1993.0</td>\n",
              "      <td>Unf</td>\n",
              "      <td>2</td>\n",
              "      <td>480</td>\n",
              "      <td>TA</td>\n",
              "      <td>TA</td>\n",
              "      <td>Y</td>\n",
              "      <td>40</td>\n",
              "      <td>30</td>\n",
              "      <td>0</td>\n",
              "      <td>320</td>\n",
              "      <td>0</td>\n",
              "      <td>0</td>\n",
              "      <td>NaN</td>\n",
              "      <td>MnPrv</td>\n",
              "      <td>Shed</td>\n",
              "      <td>700</td>\n",
              "      <td>10</td>\n",
              "      <td>2009</td>\n",
              "      <td>WD</td>\n",
              "      <td>Normal</td>\n",
              "      <td>143000</td>\n",
              "    </tr>\n",
              "    <tr>\n",
              "      <th>6</th>\n",
              "      <td>7</td>\n",
              "      <td>20</td>\n",
              "      <td>RL</td>\n",
              "      <td>75.0</td>\n",
              "      <td>10084</td>\n",
              "      <td>Pave</td>\n",
              "      <td>NaN</td>\n",
              "      <td>Reg</td>\n",
              "      <td>Lvl</td>\n",
              "      <td>AllPub</td>\n",
              "      <td>Inside</td>\n",
              "      <td>Gtl</td>\n",
              "      <td>Somerst</td>\n",
              "      <td>Norm</td>\n",
              "      <td>Norm</td>\n",
              "      <td>1Fam</td>\n",
              "      <td>1Story</td>\n",
              "      <td>8</td>\n",
              "      <td>5</td>\n",
              "      <td>2004</td>\n",
              "      <td>2005</td>\n",
              "      <td>Gable</td>\n",
              "      <td>CompShg</td>\n",
              "      <td>VinylSd</td>\n",
              "      <td>VinylSd</td>\n",
              "      <td>Stone</td>\n",
              "      <td>186.0</td>\n",
              "      <td>Gd</td>\n",
              "      <td>TA</td>\n",
              "      <td>PConc</td>\n",
              "      <td>Ex</td>\n",
              "      <td>TA</td>\n",
              "      <td>Av</td>\n",
              "      <td>GLQ</td>\n",
              "      <td>1369</td>\n",
              "      <td>Unf</td>\n",
              "      <td>0</td>\n",
              "      <td>317</td>\n",
              "      <td>1686</td>\n",
              "      <td>GasA</td>\n",
              "      <td>...</td>\n",
              "      <td>Y</td>\n",
              "      <td>SBrkr</td>\n",
              "      <td>1694</td>\n",
              "      <td>0</td>\n",
              "      <td>0</td>\n",
              "      <td>1694</td>\n",
              "      <td>1</td>\n",
              "      <td>0</td>\n",
              "      <td>2</td>\n",
              "      <td>0</td>\n",
              "      <td>3</td>\n",
              "      <td>1</td>\n",
              "      <td>Gd</td>\n",
              "      <td>7</td>\n",
              "      <td>Typ</td>\n",
              "      <td>1</td>\n",
              "      <td>Gd</td>\n",
              "      <td>Attchd</td>\n",
              "      <td>2004.0</td>\n",
              "      <td>RFn</td>\n",
              "      <td>2</td>\n",
              "      <td>636</td>\n",
              "      <td>TA</td>\n",
              "      <td>TA</td>\n",
              "      <td>Y</td>\n",
              "      <td>255</td>\n",
              "      <td>57</td>\n",
              "      <td>0</td>\n",
              "      <td>0</td>\n",
              "      <td>0</td>\n",
              "      <td>0</td>\n",
              "      <td>NaN</td>\n",
              "      <td>NaN</td>\n",
              "      <td>NaN</td>\n",
              "      <td>0</td>\n",
              "      <td>8</td>\n",
              "      <td>2007</td>\n",
              "      <td>WD</td>\n",
              "      <td>Normal</td>\n",
              "      <td>307000</td>\n",
              "    </tr>\n",
              "    <tr>\n",
              "      <th>7</th>\n",
              "      <td>8</td>\n",
              "      <td>60</td>\n",
              "      <td>RL</td>\n",
              "      <td>NaN</td>\n",
              "      <td>10382</td>\n",
              "      <td>Pave</td>\n",
              "      <td>NaN</td>\n",
              "      <td>IR1</td>\n",
              "      <td>Lvl</td>\n",
              "      <td>AllPub</td>\n",
              "      <td>Corner</td>\n",
              "      <td>Gtl</td>\n",
              "      <td>NWAmes</td>\n",
              "      <td>PosN</td>\n",
              "      <td>Norm</td>\n",
              "      <td>1Fam</td>\n",
              "      <td>2Story</td>\n",
              "      <td>7</td>\n",
              "      <td>6</td>\n",
              "      <td>1973</td>\n",
              "      <td>1973</td>\n",
              "      <td>Gable</td>\n",
              "      <td>CompShg</td>\n",
              "      <td>HdBoard</td>\n",
              "      <td>HdBoard</td>\n",
              "      <td>Stone</td>\n",
              "      <td>240.0</td>\n",
              "      <td>TA</td>\n",
              "      <td>TA</td>\n",
              "      <td>CBlock</td>\n",
              "      <td>Gd</td>\n",
              "      <td>TA</td>\n",
              "      <td>Mn</td>\n",
              "      <td>ALQ</td>\n",
              "      <td>859</td>\n",
              "      <td>BLQ</td>\n",
              "      <td>32</td>\n",
              "      <td>216</td>\n",
              "      <td>1107</td>\n",
              "      <td>GasA</td>\n",
              "      <td>...</td>\n",
              "      <td>Y</td>\n",
              "      <td>SBrkr</td>\n",
              "      <td>1107</td>\n",
              "      <td>983</td>\n",
              "      <td>0</td>\n",
              "      <td>2090</td>\n",
              "      <td>1</td>\n",
              "      <td>0</td>\n",
              "      <td>2</td>\n",
              "      <td>1</td>\n",
              "      <td>3</td>\n",
              "      <td>1</td>\n",
              "      <td>TA</td>\n",
              "      <td>7</td>\n",
              "      <td>Typ</td>\n",
              "      <td>2</td>\n",
              "      <td>TA</td>\n",
              "      <td>Attchd</td>\n",
              "      <td>1973.0</td>\n",
              "      <td>RFn</td>\n",
              "      <td>2</td>\n",
              "      <td>484</td>\n",
              "      <td>TA</td>\n",
              "      <td>TA</td>\n",
              "      <td>Y</td>\n",
              "      <td>235</td>\n",
              "      <td>204</td>\n",
              "      <td>228</td>\n",
              "      <td>0</td>\n",
              "      <td>0</td>\n",
              "      <td>0</td>\n",
              "      <td>NaN</td>\n",
              "      <td>NaN</td>\n",
              "      <td>Shed</td>\n",
              "      <td>350</td>\n",
              "      <td>11</td>\n",
              "      <td>2009</td>\n",
              "      <td>WD</td>\n",
              "      <td>Normal</td>\n",
              "      <td>200000</td>\n",
              "    </tr>\n",
              "    <tr>\n",
              "      <th>8</th>\n",
              "      <td>9</td>\n",
              "      <td>50</td>\n",
              "      <td>RM</td>\n",
              "      <td>51.0</td>\n",
              "      <td>6120</td>\n",
              "      <td>Pave</td>\n",
              "      <td>NaN</td>\n",
              "      <td>Reg</td>\n",
              "      <td>Lvl</td>\n",
              "      <td>AllPub</td>\n",
              "      <td>Inside</td>\n",
              "      <td>Gtl</td>\n",
              "      <td>OldTown</td>\n",
              "      <td>Artery</td>\n",
              "      <td>Norm</td>\n",
              "      <td>1Fam</td>\n",
              "      <td>1.5Fin</td>\n",
              "      <td>7</td>\n",
              "      <td>5</td>\n",
              "      <td>1931</td>\n",
              "      <td>1950</td>\n",
              "      <td>Gable</td>\n",
              "      <td>CompShg</td>\n",
              "      <td>BrkFace</td>\n",
              "      <td>Wd Shng</td>\n",
              "      <td>None</td>\n",
              "      <td>0.0</td>\n",
              "      <td>TA</td>\n",
              "      <td>TA</td>\n",
              "      <td>BrkTil</td>\n",
              "      <td>TA</td>\n",
              "      <td>TA</td>\n",
              "      <td>No</td>\n",
              "      <td>Unf</td>\n",
              "      <td>0</td>\n",
              "      <td>Unf</td>\n",
              "      <td>0</td>\n",
              "      <td>952</td>\n",
              "      <td>952</td>\n",
              "      <td>GasA</td>\n",
              "      <td>...</td>\n",
              "      <td>Y</td>\n",
              "      <td>FuseF</td>\n",
              "      <td>1022</td>\n",
              "      <td>752</td>\n",
              "      <td>0</td>\n",
              "      <td>1774</td>\n",
              "      <td>0</td>\n",
              "      <td>0</td>\n",
              "      <td>2</td>\n",
              "      <td>0</td>\n",
              "      <td>2</td>\n",
              "      <td>2</td>\n",
              "      <td>TA</td>\n",
              "      <td>8</td>\n",
              "      <td>Min1</td>\n",
              "      <td>2</td>\n",
              "      <td>TA</td>\n",
              "      <td>Detchd</td>\n",
              "      <td>1931.0</td>\n",
              "      <td>Unf</td>\n",
              "      <td>2</td>\n",
              "      <td>468</td>\n",
              "      <td>Fa</td>\n",
              "      <td>TA</td>\n",
              "      <td>Y</td>\n",
              "      <td>90</td>\n",
              "      <td>0</td>\n",
              "      <td>205</td>\n",
              "      <td>0</td>\n",
              "      <td>0</td>\n",
              "      <td>0</td>\n",
              "      <td>NaN</td>\n",
              "      <td>NaN</td>\n",
              "      <td>NaN</td>\n",
              "      <td>0</td>\n",
              "      <td>4</td>\n",
              "      <td>2008</td>\n",
              "      <td>WD</td>\n",
              "      <td>Abnorml</td>\n",
              "      <td>129900</td>\n",
              "    </tr>\n",
              "    <tr>\n",
              "      <th>9</th>\n",
              "      <td>10</td>\n",
              "      <td>190</td>\n",
              "      <td>RL</td>\n",
              "      <td>50.0</td>\n",
              "      <td>7420</td>\n",
              "      <td>Pave</td>\n",
              "      <td>NaN</td>\n",
              "      <td>Reg</td>\n",
              "      <td>Lvl</td>\n",
              "      <td>AllPub</td>\n",
              "      <td>Corner</td>\n",
              "      <td>Gtl</td>\n",
              "      <td>BrkSide</td>\n",
              "      <td>Artery</td>\n",
              "      <td>Artery</td>\n",
              "      <td>2fmCon</td>\n",
              "      <td>1.5Unf</td>\n",
              "      <td>5</td>\n",
              "      <td>6</td>\n",
              "      <td>1939</td>\n",
              "      <td>1950</td>\n",
              "      <td>Gable</td>\n",
              "      <td>CompShg</td>\n",
              "      <td>MetalSd</td>\n",
              "      <td>MetalSd</td>\n",
              "      <td>None</td>\n",
              "      <td>0.0</td>\n",
              "      <td>TA</td>\n",
              "      <td>TA</td>\n",
              "      <td>BrkTil</td>\n",
              "      <td>TA</td>\n",
              "      <td>TA</td>\n",
              "      <td>No</td>\n",
              "      <td>GLQ</td>\n",
              "      <td>851</td>\n",
              "      <td>Unf</td>\n",
              "      <td>0</td>\n",
              "      <td>140</td>\n",
              "      <td>991</td>\n",
              "      <td>GasA</td>\n",
              "      <td>...</td>\n",
              "      <td>Y</td>\n",
              "      <td>SBrkr</td>\n",
              "      <td>1077</td>\n",
              "      <td>0</td>\n",
              "      <td>0</td>\n",
              "      <td>1077</td>\n",
              "      <td>1</td>\n",
              "      <td>0</td>\n",
              "      <td>1</td>\n",
              "      <td>0</td>\n",
              "      <td>2</td>\n",
              "      <td>2</td>\n",
              "      <td>TA</td>\n",
              "      <td>5</td>\n",
              "      <td>Typ</td>\n",
              "      <td>2</td>\n",
              "      <td>TA</td>\n",
              "      <td>Attchd</td>\n",
              "      <td>1939.0</td>\n",
              "      <td>RFn</td>\n",
              "      <td>1</td>\n",
              "      <td>205</td>\n",
              "      <td>Gd</td>\n",
              "      <td>TA</td>\n",
              "      <td>Y</td>\n",
              "      <td>0</td>\n",
              "      <td>4</td>\n",
              "      <td>0</td>\n",
              "      <td>0</td>\n",
              "      <td>0</td>\n",
              "      <td>0</td>\n",
              "      <td>NaN</td>\n",
              "      <td>NaN</td>\n",
              "      <td>NaN</td>\n",
              "      <td>0</td>\n",
              "      <td>1</td>\n",
              "      <td>2008</td>\n",
              "      <td>WD</td>\n",
              "      <td>Normal</td>\n",
              "      <td>118000</td>\n",
              "    </tr>\n",
              "  </tbody>\n",
              "</table>\n",
              "<p>10 rows × 81 columns</p>\n",
              "</div>"
            ],
            "text/plain": [
              "   Id  MSSubClass MSZoning  ...  SaleType  SaleCondition SalePrice\n",
              "0   1          60       RL  ...        WD         Normal    208500\n",
              "1   2          20       RL  ...        WD         Normal    181500\n",
              "2   3          60       RL  ...        WD         Normal    223500\n",
              "3   4          70       RL  ...        WD        Abnorml    140000\n",
              "4   5          60       RL  ...        WD         Normal    250000\n",
              "5   6          50       RL  ...        WD         Normal    143000\n",
              "6   7          20       RL  ...        WD         Normal    307000\n",
              "7   8          60       RL  ...        WD         Normal    200000\n",
              "8   9          50       RM  ...        WD        Abnorml    129900\n",
              "9  10         190       RL  ...        WD         Normal    118000\n",
              "\n",
              "[10 rows x 81 columns]"
            ]
          },
          "metadata": {
            "tags": []
          }
        },
        {
          "output_type": "stream",
          "text": [
            "None\n"
          ],
          "name": "stdout"
        }
      ]
    },
    {
      "cell_type": "code",
      "metadata": {
        "id": "L6Oy5X4rFEnM",
        "colab": {
          "base_uri": "https://localhost:8080/"
        },
        "outputId": "8291b3cd-cb75-463f-ba53-9beda69b7795"
      },
      "source": [
        "train1.info()"
      ],
      "execution_count": null,
      "outputs": [
        {
          "output_type": "stream",
          "text": [
            "<class 'pandas.core.frame.DataFrame'>\n",
            "RangeIndex: 1460 entries, 0 to 1459\n",
            "Data columns (total 81 columns):\n",
            " #   Column         Non-Null Count  Dtype  \n",
            "---  ------         --------------  -----  \n",
            " 0   Id             1460 non-null   int64  \n",
            " 1   MSSubClass     1460 non-null   int64  \n",
            " 2   MSZoning       1460 non-null   object \n",
            " 3   LotFrontage    1201 non-null   float64\n",
            " 4   LotArea        1460 non-null   int64  \n",
            " 5   Street         1460 non-null   object \n",
            " 6   Alley          91 non-null     object \n",
            " 7   LotShape       1460 non-null   object \n",
            " 8   LandContour    1460 non-null   object \n",
            " 9   Utilities      1460 non-null   object \n",
            " 10  LotConfig      1460 non-null   object \n",
            " 11  LandSlope      1460 non-null   object \n",
            " 12  Neighborhood   1460 non-null   object \n",
            " 13  Condition1     1460 non-null   object \n",
            " 14  Condition2     1460 non-null   object \n",
            " 15  BldgType       1460 non-null   object \n",
            " 16  HouseStyle     1460 non-null   object \n",
            " 17  OverallQual    1460 non-null   int64  \n",
            " 18  OverallCond    1460 non-null   int64  \n",
            " 19  YearBuilt      1460 non-null   int64  \n",
            " 20  YearRemodAdd   1460 non-null   int64  \n",
            " 21  RoofStyle      1460 non-null   object \n",
            " 22  RoofMatl       1460 non-null   object \n",
            " 23  Exterior1st    1460 non-null   object \n",
            " 24  Exterior2nd    1460 non-null   object \n",
            " 25  MasVnrType     1452 non-null   object \n",
            " 26  MasVnrArea     1452 non-null   float64\n",
            " 27  ExterQual      1460 non-null   object \n",
            " 28  ExterCond      1460 non-null   object \n",
            " 29  Foundation     1460 non-null   object \n",
            " 30  BsmtQual       1423 non-null   object \n",
            " 31  BsmtCond       1423 non-null   object \n",
            " 32  BsmtExposure   1422 non-null   object \n",
            " 33  BsmtFinType1   1423 non-null   object \n",
            " 34  BsmtFinSF1     1460 non-null   int64  \n",
            " 35  BsmtFinType2   1422 non-null   object \n",
            " 36  BsmtFinSF2     1460 non-null   int64  \n",
            " 37  BsmtUnfSF      1460 non-null   int64  \n",
            " 38  TotalBsmtSF    1460 non-null   int64  \n",
            " 39  Heating        1460 non-null   object \n",
            " 40  HeatingQC      1460 non-null   object \n",
            " 41  CentralAir     1460 non-null   object \n",
            " 42  Electrical     1459 non-null   object \n",
            " 43  1stFlrSF       1460 non-null   int64  \n",
            " 44  2ndFlrSF       1460 non-null   int64  \n",
            " 45  LowQualFinSF   1460 non-null   int64  \n",
            " 46  GrLivArea      1460 non-null   int64  \n",
            " 47  BsmtFullBath   1460 non-null   int64  \n",
            " 48  BsmtHalfBath   1460 non-null   int64  \n",
            " 49  FullBath       1460 non-null   int64  \n",
            " 50  HalfBath       1460 non-null   int64  \n",
            " 51  BedroomAbvGr   1460 non-null   int64  \n",
            " 52  KitchenAbvGr   1460 non-null   int64  \n",
            " 53  KitchenQual    1460 non-null   object \n",
            " 54  TotRmsAbvGrd   1460 non-null   int64  \n",
            " 55  Functional     1460 non-null   object \n",
            " 56  Fireplaces     1460 non-null   int64  \n",
            " 57  FireplaceQu    770 non-null    object \n",
            " 58  GarageType     1379 non-null   object \n",
            " 59  GarageYrBlt    1379 non-null   float64\n",
            " 60  GarageFinish   1379 non-null   object \n",
            " 61  GarageCars     1460 non-null   int64  \n",
            " 62  GarageArea     1460 non-null   int64  \n",
            " 63  GarageQual     1379 non-null   object \n",
            " 64  GarageCond     1379 non-null   object \n",
            " 65  PavedDrive     1460 non-null   object \n",
            " 66  WoodDeckSF     1460 non-null   int64  \n",
            " 67  OpenPorchSF    1460 non-null   int64  \n",
            " 68  EnclosedPorch  1460 non-null   int64  \n",
            " 69  3SsnPorch      1460 non-null   int64  \n",
            " 70  ScreenPorch    1460 non-null   int64  \n",
            " 71  PoolArea       1460 non-null   int64  \n",
            " 72  PoolQC         7 non-null      object \n",
            " 73  Fence          281 non-null    object \n",
            " 74  MiscFeature    54 non-null     object \n",
            " 75  MiscVal        1460 non-null   int64  \n",
            " 76  MoSold         1460 non-null   int64  \n",
            " 77  YrSold         1460 non-null   int64  \n",
            " 78  SaleType       1460 non-null   object \n",
            " 79  SaleCondition  1460 non-null   object \n",
            " 80  SalePrice      1460 non-null   int64  \n",
            "dtypes: float64(3), int64(35), object(43)\n",
            "memory usage: 924.0+ KB\n"
          ],
          "name": "stdout"
        }
      ]
    },
    {
      "cell_type": "code",
      "metadata": {
        "id": "ZiaiPbqS1rlV",
        "colab": {
          "base_uri": "https://localhost:8080/"
        },
        "outputId": "6d97375f-16cd-44ad-9cb7-a3e4f9654ac0"
      },
      "source": [
        "test1.info()"
      ],
      "execution_count": null,
      "outputs": [
        {
          "output_type": "stream",
          "text": [
            "<class 'pandas.core.frame.DataFrame'>\n",
            "RangeIndex: 1459 entries, 0 to 1458\n",
            "Data columns (total 80 columns):\n",
            " #   Column         Non-Null Count  Dtype  \n",
            "---  ------         --------------  -----  \n",
            " 0   Id             1459 non-null   int64  \n",
            " 1   MSSubClass     1459 non-null   int64  \n",
            " 2   MSZoning       1455 non-null   object \n",
            " 3   LotFrontage    1232 non-null   float64\n",
            " 4   LotArea        1459 non-null   int64  \n",
            " 5   Street         1459 non-null   object \n",
            " 6   Alley          107 non-null    object \n",
            " 7   LotShape       1459 non-null   object \n",
            " 8   LandContour    1459 non-null   object \n",
            " 9   Utilities      1457 non-null   object \n",
            " 10  LotConfig      1459 non-null   object \n",
            " 11  LandSlope      1459 non-null   object \n",
            " 12  Neighborhood   1459 non-null   object \n",
            " 13  Condition1     1459 non-null   object \n",
            " 14  Condition2     1459 non-null   object \n",
            " 15  BldgType       1459 non-null   object \n",
            " 16  HouseStyle     1459 non-null   object \n",
            " 17  OverallQual    1459 non-null   int64  \n",
            " 18  OverallCond    1459 non-null   int64  \n",
            " 19  YearBuilt      1459 non-null   int64  \n",
            " 20  YearRemodAdd   1459 non-null   int64  \n",
            " 21  RoofStyle      1459 non-null   object \n",
            " 22  RoofMatl       1459 non-null   object \n",
            " 23  Exterior1st    1458 non-null   object \n",
            " 24  Exterior2nd    1458 non-null   object \n",
            " 25  MasVnrType     1443 non-null   object \n",
            " 26  MasVnrArea     1444 non-null   float64\n",
            " 27  ExterQual      1459 non-null   object \n",
            " 28  ExterCond      1459 non-null   object \n",
            " 29  Foundation     1459 non-null   object \n",
            " 30  BsmtQual       1415 non-null   object \n",
            " 31  BsmtCond       1414 non-null   object \n",
            " 32  BsmtExposure   1415 non-null   object \n",
            " 33  BsmtFinType1   1417 non-null   object \n",
            " 34  BsmtFinSF1     1458 non-null   float64\n",
            " 35  BsmtFinType2   1417 non-null   object \n",
            " 36  BsmtFinSF2     1458 non-null   float64\n",
            " 37  BsmtUnfSF      1458 non-null   float64\n",
            " 38  TotalBsmtSF    1458 non-null   float64\n",
            " 39  Heating        1459 non-null   object \n",
            " 40  HeatingQC      1459 non-null   object \n",
            " 41  CentralAir     1459 non-null   object \n",
            " 42  Electrical     1459 non-null   object \n",
            " 43  1stFlrSF       1459 non-null   int64  \n",
            " 44  2ndFlrSF       1459 non-null   int64  \n",
            " 45  LowQualFinSF   1459 non-null   int64  \n",
            " 46  GrLivArea      1459 non-null   int64  \n",
            " 47  BsmtFullBath   1457 non-null   float64\n",
            " 48  BsmtHalfBath   1457 non-null   float64\n",
            " 49  FullBath       1459 non-null   int64  \n",
            " 50  HalfBath       1459 non-null   int64  \n",
            " 51  BedroomAbvGr   1459 non-null   int64  \n",
            " 52  KitchenAbvGr   1459 non-null   int64  \n",
            " 53  KitchenQual    1458 non-null   object \n",
            " 54  TotRmsAbvGrd   1459 non-null   int64  \n",
            " 55  Functional     1457 non-null   object \n",
            " 56  Fireplaces     1459 non-null   int64  \n",
            " 57  FireplaceQu    729 non-null    object \n",
            " 58  GarageType     1383 non-null   object \n",
            " 59  GarageYrBlt    1381 non-null   float64\n",
            " 60  GarageFinish   1381 non-null   object \n",
            " 61  GarageCars     1458 non-null   float64\n",
            " 62  GarageArea     1458 non-null   float64\n",
            " 63  GarageQual     1381 non-null   object \n",
            " 64  GarageCond     1381 non-null   object \n",
            " 65  PavedDrive     1459 non-null   object \n",
            " 66  WoodDeckSF     1459 non-null   int64  \n",
            " 67  OpenPorchSF    1459 non-null   int64  \n",
            " 68  EnclosedPorch  1459 non-null   int64  \n",
            " 69  3SsnPorch      1459 non-null   int64  \n",
            " 70  ScreenPorch    1459 non-null   int64  \n",
            " 71  PoolArea       1459 non-null   int64  \n",
            " 72  PoolQC         3 non-null      object \n",
            " 73  Fence          290 non-null    object \n",
            " 74  MiscFeature    51 non-null     object \n",
            " 75  MiscVal        1459 non-null   int64  \n",
            " 76  MoSold         1459 non-null   int64  \n",
            " 77  YrSold         1459 non-null   int64  \n",
            " 78  SaleType       1458 non-null   object \n",
            " 79  SaleCondition  1459 non-null   object \n",
            "dtypes: float64(11), int64(26), object(43)\n",
            "memory usage: 912.0+ KB\n"
          ],
          "name": "stdout"
        }
      ]
    },
    {
      "cell_type": "code",
      "metadata": {
        "id": "_sn68UmcDvHE",
        "colab": {
          "base_uri": "https://localhost:8080/",
          "height": 310
        },
        "outputId": "eb7907cc-0536-4a84-c481-0d2b194e4679"
      },
      "source": [
        "train1.describe()"
      ],
      "execution_count": null,
      "outputs": [
        {
          "output_type": "execute_result",
          "data": {
            "text/html": [
              "<div>\n",
              "<style scoped>\n",
              "    .dataframe tbody tr th:only-of-type {\n",
              "        vertical-align: middle;\n",
              "    }\n",
              "\n",
              "    .dataframe tbody tr th {\n",
              "        vertical-align: top;\n",
              "    }\n",
              "\n",
              "    .dataframe thead th {\n",
              "        text-align: right;\n",
              "    }\n",
              "</style>\n",
              "<table border=\"1\" class=\"dataframe\">\n",
              "  <thead>\n",
              "    <tr style=\"text-align: right;\">\n",
              "      <th></th>\n",
              "      <th>Id</th>\n",
              "      <th>MSSubClass</th>\n",
              "      <th>LotFrontage</th>\n",
              "      <th>LotArea</th>\n",
              "      <th>OverallQual</th>\n",
              "      <th>OverallCond</th>\n",
              "      <th>YearBuilt</th>\n",
              "      <th>YearRemodAdd</th>\n",
              "      <th>MasVnrArea</th>\n",
              "      <th>BsmtFinSF1</th>\n",
              "      <th>BsmtFinSF2</th>\n",
              "      <th>BsmtUnfSF</th>\n",
              "      <th>TotalBsmtSF</th>\n",
              "      <th>1stFlrSF</th>\n",
              "      <th>2ndFlrSF</th>\n",
              "      <th>LowQualFinSF</th>\n",
              "      <th>GrLivArea</th>\n",
              "      <th>BsmtFullBath</th>\n",
              "      <th>BsmtHalfBath</th>\n",
              "      <th>FullBath</th>\n",
              "      <th>HalfBath</th>\n",
              "      <th>BedroomAbvGr</th>\n",
              "      <th>KitchenAbvGr</th>\n",
              "      <th>TotRmsAbvGrd</th>\n",
              "      <th>Fireplaces</th>\n",
              "      <th>GarageYrBlt</th>\n",
              "      <th>GarageCars</th>\n",
              "      <th>GarageArea</th>\n",
              "      <th>WoodDeckSF</th>\n",
              "      <th>OpenPorchSF</th>\n",
              "      <th>EnclosedPorch</th>\n",
              "      <th>3SsnPorch</th>\n",
              "      <th>ScreenPorch</th>\n",
              "      <th>PoolArea</th>\n",
              "      <th>MiscVal</th>\n",
              "      <th>MoSold</th>\n",
              "      <th>YrSold</th>\n",
              "      <th>SalePrice</th>\n",
              "    </tr>\n",
              "  </thead>\n",
              "  <tbody>\n",
              "    <tr>\n",
              "      <th>count</th>\n",
              "      <td>1460.000000</td>\n",
              "      <td>1460.000000</td>\n",
              "      <td>1201.000000</td>\n",
              "      <td>1460.000000</td>\n",
              "      <td>1460.000000</td>\n",
              "      <td>1460.000000</td>\n",
              "      <td>1460.000000</td>\n",
              "      <td>1460.000000</td>\n",
              "      <td>1452.000000</td>\n",
              "      <td>1460.000000</td>\n",
              "      <td>1460.000000</td>\n",
              "      <td>1460.000000</td>\n",
              "      <td>1460.000000</td>\n",
              "      <td>1460.000000</td>\n",
              "      <td>1460.000000</td>\n",
              "      <td>1460.000000</td>\n",
              "      <td>1460.000000</td>\n",
              "      <td>1460.000000</td>\n",
              "      <td>1460.000000</td>\n",
              "      <td>1460.000000</td>\n",
              "      <td>1460.000000</td>\n",
              "      <td>1460.000000</td>\n",
              "      <td>1460.000000</td>\n",
              "      <td>1460.000000</td>\n",
              "      <td>1460.000000</td>\n",
              "      <td>1379.000000</td>\n",
              "      <td>1460.000000</td>\n",
              "      <td>1460.000000</td>\n",
              "      <td>1460.000000</td>\n",
              "      <td>1460.000000</td>\n",
              "      <td>1460.000000</td>\n",
              "      <td>1460.000000</td>\n",
              "      <td>1460.000000</td>\n",
              "      <td>1460.000000</td>\n",
              "      <td>1460.000000</td>\n",
              "      <td>1460.000000</td>\n",
              "      <td>1460.000000</td>\n",
              "      <td>1460.000000</td>\n",
              "    </tr>\n",
              "    <tr>\n",
              "      <th>mean</th>\n",
              "      <td>730.500000</td>\n",
              "      <td>56.897260</td>\n",
              "      <td>70.049958</td>\n",
              "      <td>10516.828082</td>\n",
              "      <td>6.099315</td>\n",
              "      <td>5.575342</td>\n",
              "      <td>1971.267808</td>\n",
              "      <td>1984.865753</td>\n",
              "      <td>103.685262</td>\n",
              "      <td>443.639726</td>\n",
              "      <td>46.549315</td>\n",
              "      <td>567.240411</td>\n",
              "      <td>1057.429452</td>\n",
              "      <td>1162.626712</td>\n",
              "      <td>346.992466</td>\n",
              "      <td>5.844521</td>\n",
              "      <td>1515.463699</td>\n",
              "      <td>0.425342</td>\n",
              "      <td>0.057534</td>\n",
              "      <td>1.565068</td>\n",
              "      <td>0.382877</td>\n",
              "      <td>2.866438</td>\n",
              "      <td>1.046575</td>\n",
              "      <td>6.517808</td>\n",
              "      <td>0.613014</td>\n",
              "      <td>1978.506164</td>\n",
              "      <td>1.767123</td>\n",
              "      <td>472.980137</td>\n",
              "      <td>94.244521</td>\n",
              "      <td>46.660274</td>\n",
              "      <td>21.954110</td>\n",
              "      <td>3.409589</td>\n",
              "      <td>15.060959</td>\n",
              "      <td>2.758904</td>\n",
              "      <td>43.489041</td>\n",
              "      <td>6.321918</td>\n",
              "      <td>2007.815753</td>\n",
              "      <td>180921.195890</td>\n",
              "    </tr>\n",
              "    <tr>\n",
              "      <th>std</th>\n",
              "      <td>421.610009</td>\n",
              "      <td>42.300571</td>\n",
              "      <td>24.284752</td>\n",
              "      <td>9981.264932</td>\n",
              "      <td>1.382997</td>\n",
              "      <td>1.112799</td>\n",
              "      <td>30.202904</td>\n",
              "      <td>20.645407</td>\n",
              "      <td>181.066207</td>\n",
              "      <td>456.098091</td>\n",
              "      <td>161.319273</td>\n",
              "      <td>441.866955</td>\n",
              "      <td>438.705324</td>\n",
              "      <td>386.587738</td>\n",
              "      <td>436.528436</td>\n",
              "      <td>48.623081</td>\n",
              "      <td>525.480383</td>\n",
              "      <td>0.518911</td>\n",
              "      <td>0.238753</td>\n",
              "      <td>0.550916</td>\n",
              "      <td>0.502885</td>\n",
              "      <td>0.815778</td>\n",
              "      <td>0.220338</td>\n",
              "      <td>1.625393</td>\n",
              "      <td>0.644666</td>\n",
              "      <td>24.689725</td>\n",
              "      <td>0.747315</td>\n",
              "      <td>213.804841</td>\n",
              "      <td>125.338794</td>\n",
              "      <td>66.256028</td>\n",
              "      <td>61.119149</td>\n",
              "      <td>29.317331</td>\n",
              "      <td>55.757415</td>\n",
              "      <td>40.177307</td>\n",
              "      <td>496.123024</td>\n",
              "      <td>2.703626</td>\n",
              "      <td>1.328095</td>\n",
              "      <td>79442.502883</td>\n",
              "    </tr>\n",
              "    <tr>\n",
              "      <th>min</th>\n",
              "      <td>1.000000</td>\n",
              "      <td>20.000000</td>\n",
              "      <td>21.000000</td>\n",
              "      <td>1300.000000</td>\n",
              "      <td>1.000000</td>\n",
              "      <td>1.000000</td>\n",
              "      <td>1872.000000</td>\n",
              "      <td>1950.000000</td>\n",
              "      <td>0.000000</td>\n",
              "      <td>0.000000</td>\n",
              "      <td>0.000000</td>\n",
              "      <td>0.000000</td>\n",
              "      <td>0.000000</td>\n",
              "      <td>334.000000</td>\n",
              "      <td>0.000000</td>\n",
              "      <td>0.000000</td>\n",
              "      <td>334.000000</td>\n",
              "      <td>0.000000</td>\n",
              "      <td>0.000000</td>\n",
              "      <td>0.000000</td>\n",
              "      <td>0.000000</td>\n",
              "      <td>0.000000</td>\n",
              "      <td>0.000000</td>\n",
              "      <td>2.000000</td>\n",
              "      <td>0.000000</td>\n",
              "      <td>1900.000000</td>\n",
              "      <td>0.000000</td>\n",
              "      <td>0.000000</td>\n",
              "      <td>0.000000</td>\n",
              "      <td>0.000000</td>\n",
              "      <td>0.000000</td>\n",
              "      <td>0.000000</td>\n",
              "      <td>0.000000</td>\n",
              "      <td>0.000000</td>\n",
              "      <td>0.000000</td>\n",
              "      <td>1.000000</td>\n",
              "      <td>2006.000000</td>\n",
              "      <td>34900.000000</td>\n",
              "    </tr>\n",
              "    <tr>\n",
              "      <th>25%</th>\n",
              "      <td>365.750000</td>\n",
              "      <td>20.000000</td>\n",
              "      <td>59.000000</td>\n",
              "      <td>7553.500000</td>\n",
              "      <td>5.000000</td>\n",
              "      <td>5.000000</td>\n",
              "      <td>1954.000000</td>\n",
              "      <td>1967.000000</td>\n",
              "      <td>0.000000</td>\n",
              "      <td>0.000000</td>\n",
              "      <td>0.000000</td>\n",
              "      <td>223.000000</td>\n",
              "      <td>795.750000</td>\n",
              "      <td>882.000000</td>\n",
              "      <td>0.000000</td>\n",
              "      <td>0.000000</td>\n",
              "      <td>1129.500000</td>\n",
              "      <td>0.000000</td>\n",
              "      <td>0.000000</td>\n",
              "      <td>1.000000</td>\n",
              "      <td>0.000000</td>\n",
              "      <td>2.000000</td>\n",
              "      <td>1.000000</td>\n",
              "      <td>5.000000</td>\n",
              "      <td>0.000000</td>\n",
              "      <td>1961.000000</td>\n",
              "      <td>1.000000</td>\n",
              "      <td>334.500000</td>\n",
              "      <td>0.000000</td>\n",
              "      <td>0.000000</td>\n",
              "      <td>0.000000</td>\n",
              "      <td>0.000000</td>\n",
              "      <td>0.000000</td>\n",
              "      <td>0.000000</td>\n",
              "      <td>0.000000</td>\n",
              "      <td>5.000000</td>\n",
              "      <td>2007.000000</td>\n",
              "      <td>129975.000000</td>\n",
              "    </tr>\n",
              "    <tr>\n",
              "      <th>50%</th>\n",
              "      <td>730.500000</td>\n",
              "      <td>50.000000</td>\n",
              "      <td>69.000000</td>\n",
              "      <td>9478.500000</td>\n",
              "      <td>6.000000</td>\n",
              "      <td>5.000000</td>\n",
              "      <td>1973.000000</td>\n",
              "      <td>1994.000000</td>\n",
              "      <td>0.000000</td>\n",
              "      <td>383.500000</td>\n",
              "      <td>0.000000</td>\n",
              "      <td>477.500000</td>\n",
              "      <td>991.500000</td>\n",
              "      <td>1087.000000</td>\n",
              "      <td>0.000000</td>\n",
              "      <td>0.000000</td>\n",
              "      <td>1464.000000</td>\n",
              "      <td>0.000000</td>\n",
              "      <td>0.000000</td>\n",
              "      <td>2.000000</td>\n",
              "      <td>0.000000</td>\n",
              "      <td>3.000000</td>\n",
              "      <td>1.000000</td>\n",
              "      <td>6.000000</td>\n",
              "      <td>1.000000</td>\n",
              "      <td>1980.000000</td>\n",
              "      <td>2.000000</td>\n",
              "      <td>480.000000</td>\n",
              "      <td>0.000000</td>\n",
              "      <td>25.000000</td>\n",
              "      <td>0.000000</td>\n",
              "      <td>0.000000</td>\n",
              "      <td>0.000000</td>\n",
              "      <td>0.000000</td>\n",
              "      <td>0.000000</td>\n",
              "      <td>6.000000</td>\n",
              "      <td>2008.000000</td>\n",
              "      <td>163000.000000</td>\n",
              "    </tr>\n",
              "    <tr>\n",
              "      <th>75%</th>\n",
              "      <td>1095.250000</td>\n",
              "      <td>70.000000</td>\n",
              "      <td>80.000000</td>\n",
              "      <td>11601.500000</td>\n",
              "      <td>7.000000</td>\n",
              "      <td>6.000000</td>\n",
              "      <td>2000.000000</td>\n",
              "      <td>2004.000000</td>\n",
              "      <td>166.000000</td>\n",
              "      <td>712.250000</td>\n",
              "      <td>0.000000</td>\n",
              "      <td>808.000000</td>\n",
              "      <td>1298.250000</td>\n",
              "      <td>1391.250000</td>\n",
              "      <td>728.000000</td>\n",
              "      <td>0.000000</td>\n",
              "      <td>1776.750000</td>\n",
              "      <td>1.000000</td>\n",
              "      <td>0.000000</td>\n",
              "      <td>2.000000</td>\n",
              "      <td>1.000000</td>\n",
              "      <td>3.000000</td>\n",
              "      <td>1.000000</td>\n",
              "      <td>7.000000</td>\n",
              "      <td>1.000000</td>\n",
              "      <td>2002.000000</td>\n",
              "      <td>2.000000</td>\n",
              "      <td>576.000000</td>\n",
              "      <td>168.000000</td>\n",
              "      <td>68.000000</td>\n",
              "      <td>0.000000</td>\n",
              "      <td>0.000000</td>\n",
              "      <td>0.000000</td>\n",
              "      <td>0.000000</td>\n",
              "      <td>0.000000</td>\n",
              "      <td>8.000000</td>\n",
              "      <td>2009.000000</td>\n",
              "      <td>214000.000000</td>\n",
              "    </tr>\n",
              "    <tr>\n",
              "      <th>max</th>\n",
              "      <td>1460.000000</td>\n",
              "      <td>190.000000</td>\n",
              "      <td>313.000000</td>\n",
              "      <td>215245.000000</td>\n",
              "      <td>10.000000</td>\n",
              "      <td>9.000000</td>\n",
              "      <td>2010.000000</td>\n",
              "      <td>2010.000000</td>\n",
              "      <td>1600.000000</td>\n",
              "      <td>5644.000000</td>\n",
              "      <td>1474.000000</td>\n",
              "      <td>2336.000000</td>\n",
              "      <td>6110.000000</td>\n",
              "      <td>4692.000000</td>\n",
              "      <td>2065.000000</td>\n",
              "      <td>572.000000</td>\n",
              "      <td>5642.000000</td>\n",
              "      <td>3.000000</td>\n",
              "      <td>2.000000</td>\n",
              "      <td>3.000000</td>\n",
              "      <td>2.000000</td>\n",
              "      <td>8.000000</td>\n",
              "      <td>3.000000</td>\n",
              "      <td>14.000000</td>\n",
              "      <td>3.000000</td>\n",
              "      <td>2010.000000</td>\n",
              "      <td>4.000000</td>\n",
              "      <td>1418.000000</td>\n",
              "      <td>857.000000</td>\n",
              "      <td>547.000000</td>\n",
              "      <td>552.000000</td>\n",
              "      <td>508.000000</td>\n",
              "      <td>480.000000</td>\n",
              "      <td>738.000000</td>\n",
              "      <td>15500.000000</td>\n",
              "      <td>12.000000</td>\n",
              "      <td>2010.000000</td>\n",
              "      <td>755000.000000</td>\n",
              "    </tr>\n",
              "  </tbody>\n",
              "</table>\n",
              "</div>"
            ],
            "text/plain": [
              "                Id   MSSubClass  ...       YrSold      SalePrice\n",
              "count  1460.000000  1460.000000  ...  1460.000000    1460.000000\n",
              "mean    730.500000    56.897260  ...  2007.815753  180921.195890\n",
              "std     421.610009    42.300571  ...     1.328095   79442.502883\n",
              "min       1.000000    20.000000  ...  2006.000000   34900.000000\n",
              "25%     365.750000    20.000000  ...  2007.000000  129975.000000\n",
              "50%     730.500000    50.000000  ...  2008.000000  163000.000000\n",
              "75%    1095.250000    70.000000  ...  2009.000000  214000.000000\n",
              "max    1460.000000   190.000000  ...  2010.000000  755000.000000\n",
              "\n",
              "[8 rows x 38 columns]"
            ]
          },
          "metadata": {
            "tags": []
          },
          "execution_count": 14
        }
      ]
    },
    {
      "cell_type": "markdown",
      "metadata": {
        "id": "ygytpmZKggrt"
      },
      "source": [
        "# 3. Treating NaN values\n",
        "- Make a function to fill null (NaN) values with a given value\n",
        "- In categorical/object, it will be fill with 'NA' or 'None', depends of the type of the feature"
      ]
    },
    {
      "cell_type": "code",
      "metadata": {
        "id": "S-STrpg7o3cg"
      },
      "source": [
        "def FillNa(df,value):\n",
        "  df = df.fillna(value)\n",
        "  return df"
      ],
      "execution_count": null,
      "outputs": []
    },
    {
      "cell_type": "markdown",
      "metadata": {
        "id": "9C2KF0nqOjoK"
      },
      "source": [
        "# Alley\n",
        "- Analyse 'Alley' - lot of values null: 1369 - 93%\n",
        "- There is 3 types: Gravel, Paved and No alley acess.\n",
        "- NaN = No Alley Acess, fill with 'NA'"
      ]
    },
    {
      "cell_type": "code",
      "metadata": {
        "id": "5H-qurT1vXy0"
      },
      "source": [
        "train1 = train.copy()\n",
        "test1 = test.copy()"
      ],
      "execution_count": null,
      "outputs": []
    },
    {
      "cell_type": "code",
      "metadata": {
        "id": "yhWO5geJPdJq",
        "colab": {
          "base_uri": "https://localhost:8080/"
        },
        "outputId": "f3f97a65-b98a-4db7-b6b6-e453e99e9b58"
      },
      "source": [
        "train1[~train1.Alley.isna()].groupby('Alley')['Alley'].count()"
      ],
      "execution_count": null,
      "outputs": [
        {
          "output_type": "execute_result",
          "data": {
            "text/plain": [
              "Alley\n",
              "Grvl    50\n",
              "Pave    41\n",
              "Name: Alley, dtype: int64"
            ]
          },
          "metadata": {
            "tags": []
          },
          "execution_count": 17
        }
      ]
    },
    {
      "cell_type": "code",
      "metadata": {
        "id": "3vDSXkxgQDpj"
      },
      "source": [
        "train1['Alley']=FillNa(train1.Alley,'NA')\n",
        "test1['Alley']=FillNa(test1.Alley,'NA')"
      ],
      "execution_count": null,
      "outputs": []
    },
    {
      "cell_type": "markdown",
      "metadata": {
        "id": "kbXRJbz_RS0q"
      },
      "source": [
        "# MasVnrType and MasVnrArea\n",
        "- Analyse MasVnrType e MasVnrArea, both with the same number of NaN: 8\n",
        "- The NaN refers to the same houses\n",
        "- [MasVnrType] Great number of houses is in 'None' (59%), so, will be fill with 'None' the 'NaN'.\n",
        "- [MasVnrArea] with the same logic of MasVnrType, but fill with 0.0, because in this case, is a continuous value."
      ]
    },
    {
      "cell_type": "code",
      "metadata": {
        "id": "381nh4ugYkgx",
        "colab": {
          "base_uri": "https://localhost:8080/"
        },
        "outputId": "8617bc1c-f00b-478c-edb7-f1c8cea3734d"
      },
      "source": [
        "#The same houses have the 'NaN' in the both features, so the treat will be the same\n",
        "print(train1['MasVnrType'][train1.MasVnrType.isna()])\n",
        "print(train1['MasVnrArea'][train1.MasVnrArea.isna()])"
      ],
      "execution_count": null,
      "outputs": [
        {
          "output_type": "stream",
          "text": [
            "234     NaN\n",
            "529     NaN\n",
            "650     NaN\n",
            "936     NaN\n",
            "973     NaN\n",
            "977     NaN\n",
            "1243    NaN\n",
            "1278    NaN\n",
            "Name: MasVnrType, dtype: object\n",
            "234    NaN\n",
            "529    NaN\n",
            "650    NaN\n",
            "936    NaN\n",
            "973    NaN\n",
            "977    NaN\n",
            "1243   NaN\n",
            "1278   NaN\n",
            "Name: MasVnrArea, dtype: float64\n"
          ],
          "name": "stdout"
        }
      ]
    },
    {
      "cell_type": "code",
      "metadata": {
        "id": "Gk0oacHkVVQP",
        "colab": {
          "base_uri": "https://localhost:8080/"
        },
        "outputId": "cc08cdf0-8bb3-4bee-efa4-d42691ca5780"
      },
      "source": [
        "train1.MasVnrType.value_counts(normalize=True)"
      ],
      "execution_count": null,
      "outputs": [
        {
          "output_type": "execute_result",
          "data": {
            "text/plain": [
              "None       0.595041\n",
              "BrkFace    0.306474\n",
              "Stone      0.088154\n",
              "BrkCmn     0.010331\n",
              "Name: MasVnrType, dtype: float64"
            ]
          },
          "metadata": {
            "tags": []
          },
          "execution_count": 20
        }
      ]
    },
    {
      "cell_type": "code",
      "metadata": {
        "id": "TWAcpDHxTXWh",
        "colab": {
          "base_uri": "https://localhost:8080/"
        },
        "outputId": "bfb12aea-a530-4418-d9f2-3e947beacf3e"
      },
      "source": [
        "train1.MasVnrArea.value_counts(normalize=True,sort=True).iloc[:11]"
      ],
      "execution_count": null,
      "outputs": [
        {
          "output_type": "execute_result",
          "data": {
            "text/plain": [
              "0.0      0.592975\n",
              "72.0     0.005510\n",
              "180.0    0.005510\n",
              "108.0    0.005510\n",
              "120.0    0.004821\n",
              "16.0     0.004821\n",
              "80.0     0.004132\n",
              "200.0    0.004132\n",
              "106.0    0.004132\n",
              "340.0    0.004132\n",
              "170.0    0.003444\n",
              "Name: MasVnrArea, dtype: float64"
            ]
          },
          "metadata": {
            "tags": []
          },
          "execution_count": 21
        }
      ]
    },
    {
      "cell_type": "code",
      "metadata": {
        "id": "nMn22H7lVtow"
      },
      "source": [
        "train1['MasVnrType'] = FillNa(train1['MasVnrType'],'None')\n",
        "train1['MasVnrArea'] = FillNa(train1['MasVnrArea'],0.0)\n",
        "\n",
        "test1['MasVnrType']=FillNa(test1['MasVnrType'],'None')\n",
        "test1['MasVnrArea'] = FillNa(test1['MasVnrArea'],0.0)\n"
      ],
      "execution_count": null,
      "outputs": []
    },
    {
      "cell_type": "code",
      "metadata": {
        "id": "1ryn8BdRWB1o",
        "colab": {
          "base_uri": "https://localhost:8080/"
        },
        "outputId": "b87080bf-1f0a-4a21-f8fc-1d29c398b761"
      },
      "source": [
        "train1.MasVnrType.shape"
      ],
      "execution_count": null,
      "outputs": [
        {
          "output_type": "execute_result",
          "data": {
            "text/plain": [
              "(1460,)"
            ]
          },
          "metadata": {
            "tags": []
          },
          "execution_count": 23
        }
      ]
    },
    {
      "cell_type": "code",
      "metadata": {
        "id": "7FLNU1N6WQaF",
        "colab": {
          "base_uri": "https://localhost:8080/"
        },
        "outputId": "4f53d6df-b14a-4da4-8e87-238c46d91bbf"
      },
      "source": [
        "train1.MasVnrArea.shape"
      ],
      "execution_count": null,
      "outputs": [
        {
          "output_type": "execute_result",
          "data": {
            "text/plain": [
              "(1460,)"
            ]
          },
          "metadata": {
            "tags": []
          },
          "execution_count": 24
        }
      ]
    },
    {
      "cell_type": "markdown",
      "metadata": {
        "id": "S95MgpfsXttn"
      },
      "source": [
        "# BsmtQual, BsmtCond, BstmExposure, BstmFinType1, BstmFinType2\n",
        "- All with 37 NaN, and refers to the same houses.\n",
        "- Will be fill with 'NA'"
      ]
    },
    {
      "cell_type": "code",
      "metadata": {
        "id": "L_3lWD26Xa7n"
      },
      "source": [
        "index_Qual = train1.BsmtQual[train1.BsmtQual.isna()].index\n",
        "\n",
        "index_Cond = train1.BsmtCond[train1.BsmtCond.isna()].index\n",
        "\n",
        "index_Exp = train1.BsmtExposure[train1.BsmtExposure.isna()].index\n",
        "\n",
        "index_Type1 = train1.BsmtFinType1[train1.BsmtFinType1.isna()].index\n",
        "\n",
        "index_Type2 = train1.BsmtFinType2[train1.BsmtFinType2.isna()].index\n"
      ],
      "execution_count": null,
      "outputs": []
    },
    {
      "cell_type": "code",
      "metadata": {
        "id": "r8S74Qy9dkrI",
        "colab": {
          "base_uri": "https://localhost:8080/"
        },
        "outputId": "46ac9682-b3c5-45c0-faaf-175441fd269d"
      },
      "source": [
        "print('BsmtQual \\n')\n",
        "print(train1.BsmtQual.value_counts())\n",
        "print('\\nBsmtCond\\n')\n",
        "print(train1.BsmtCond.value_counts())\n",
        "print('\\nBsmtExposure\\n')\n",
        "print(train1.BsmtExposure.value_counts())\n",
        "print('\\nBsmtFinType1\\n')\n",
        "print(train1.BsmtFinType1.value_counts())\n",
        "print('\\nBsmtFinType2\\n')\n",
        "print(train1.BsmtFinType2.value_counts())"
      ],
      "execution_count": null,
      "outputs": [
        {
          "output_type": "stream",
          "text": [
            "BsmtQual \n",
            "\n",
            "TA    649\n",
            "Gd    618\n",
            "Ex    121\n",
            "Fa     35\n",
            "Name: BsmtQual, dtype: int64\n",
            "\n",
            "BsmtCond\n",
            "\n",
            "TA    1311\n",
            "Gd      65\n",
            "Fa      45\n",
            "Po       2\n",
            "Name: BsmtCond, dtype: int64\n",
            "\n",
            "BsmtExposure\n",
            "\n",
            "No    953\n",
            "Av    221\n",
            "Gd    134\n",
            "Mn    114\n",
            "Name: BsmtExposure, dtype: int64\n",
            "\n",
            "BsmtFinType1\n",
            "\n",
            "Unf    430\n",
            "GLQ    418\n",
            "ALQ    220\n",
            "BLQ    148\n",
            "Rec    133\n",
            "LwQ     74\n",
            "Name: BsmtFinType1, dtype: int64\n",
            "\n",
            "BsmtFinType2\n",
            "\n",
            "Unf    1256\n",
            "Rec      54\n",
            "LwQ      46\n",
            "BLQ      33\n",
            "ALQ      19\n",
            "GLQ      14\n",
            "Name: BsmtFinType2, dtype: int64\n"
          ],
          "name": "stdout"
        }
      ]
    },
    {
      "cell_type": "code",
      "metadata": {
        "id": "-8TsZhebfoCd"
      },
      "source": [
        "train1.BsmtQual = FillNa(train1.BsmtQual,'NA')\n",
        "train1.BsmtCond = FillNa(train1.BsmtCond,'NA')\n",
        "train1.BsmtExposure = FillNa(train1.BsmtExposure,'NA')\n",
        "train1.BsmtFinType1 = FillNa(train1.BsmtFinType1,'NA')\n",
        "train1.BsmtFinType2 = FillNa(train1.BsmtFinType2,'NA')\n",
        "\n",
        "\n",
        "test1.BsmtQual = FillNa(test1.BsmtQual,'NA')\n",
        "test1.BsmtCond = FillNa(test1.BsmtCond,'NA')\n",
        "test1.BsmtExposure = FillNa(test1.BsmtExposure,'NA')\n",
        "test1.BsmtFinType1 = FillNa(test1.BsmtFinType1,'NA')\n",
        "test1.BsmtFinType2 = FillNa(test1.BsmtFinType2,'NA')\n"
      ],
      "execution_count": null,
      "outputs": []
    },
    {
      "cell_type": "markdown",
      "metadata": {
        "id": "ZS0PKNDNlbgB"
      },
      "source": [
        "# Electrical \n",
        "- 1 NaN\n",
        "- Fill with the most commmon: 'SBrkr'"
      ]
    },
    {
      "cell_type": "code",
      "metadata": {
        "id": "yXuxTzrclipq",
        "colab": {
          "base_uri": "https://localhost:8080/"
        },
        "outputId": "2bb7751b-3379-492d-aeed-fac515679ef5"
      },
      "source": [
        "train1.Electrical.value_counts()"
      ],
      "execution_count": null,
      "outputs": [
        {
          "output_type": "execute_result",
          "data": {
            "text/plain": [
              "SBrkr    1334\n",
              "FuseA      94\n",
              "FuseF      27\n",
              "FuseP       3\n",
              "Mix         1\n",
              "Name: Electrical, dtype: int64"
            ]
          },
          "metadata": {
            "tags": []
          },
          "execution_count": 28
        }
      ]
    },
    {
      "cell_type": "code",
      "metadata": {
        "id": "Kqp0Gzwrlwp6"
      },
      "source": [
        "train1.Electrical = FillNa(train1.Electrical,'SBrkr')\n",
        "\n",
        "test1.Electrical = FillNa(test1.Electrical,'SBrkr')"
      ],
      "execution_count": null,
      "outputs": []
    },
    {
      "cell_type": "markdown",
      "metadata": {
        "id": "YFqb351Yl9Ru"
      },
      "source": [
        "# FirePlacesQu\n",
        "- 690 NaN\n",
        "- Verifying the values of 'FirePlace', witch are complete, there are 690 houses without fireplaces and 690 'NaN' in 'FirePlaceQu'. So, it will be fill with 'NA'.\n"
      ]
    },
    {
      "cell_type": "code",
      "metadata": {
        "id": "1YEv4NUjmvUK",
        "colab": {
          "base_uri": "https://localhost:8080/"
        },
        "outputId": "55a2e1b0-7118-40dc-a8e2-00ec42196c67"
      },
      "source": [
        "print(train1.Fireplaces.value_counts())"
      ],
      "execution_count": null,
      "outputs": [
        {
          "output_type": "stream",
          "text": [
            "0    690\n",
            "1    650\n",
            "2    115\n",
            "3      5\n",
            "Name: Fireplaces, dtype: int64\n"
          ],
          "name": "stdout"
        }
      ]
    },
    {
      "cell_type": "code",
      "metadata": {
        "id": "RsiQ4fQHoCbi"
      },
      "source": [
        "train1.FireplaceQu = FillNa(train1.FireplaceQu,'NA')\n",
        "\n",
        "test1.FireplaceQu = FillNa(test1.FireplaceQu,'NA')"
      ],
      "execution_count": null,
      "outputs": []
    },
    {
      "cell_type": "markdown",
      "metadata": {
        "id": "rD1ahEjZRBqL"
      },
      "source": [
        "# [Garages] GarageType, GarageFinish, GarageCars, GarageAreas,GarageQual, GarageCond\n",
        "- Have 81 NaN.\n",
        "- Compare the GarageCars and GarageArea witch are complete, with the incomplete features.\n",
        "- So, the number of 0 in Garagecars match with the NaN of the another NaN features. Will be fill with 'NA'"
      ]
    },
    {
      "cell_type": "code",
      "metadata": {
        "id": "eBay1f23V_yz",
        "colab": {
          "base_uri": "https://localhost:8080/"
        },
        "outputId": "de76c192-b6ef-40b6-eb4a-d5656022def1"
      },
      "source": [
        "print(train1.GarageCars.value_counts())\n",
        "print(train1.GarageType.value_counts())\n",
        "\n",
        "\n",
        "train1.GarageType=FillNa(train1.GarageType,'NA')\n",
        "#GarageYrBlt will be fit in the section of features engireering\n",
        "#train1.GarageYrBlt=FillNa(train1.GarageYrBlt,0.0)\n",
        "train1.GarageFinish=FillNa(train1.GarageFinish,'NA')\n",
        "train1.GarageQual=FillNa(train1.GarageQual,'NA')\n",
        "train1.GarageCond=FillNa(train1.GarageCond,'NA')\n",
        "\n",
        "\n",
        "test1.GarageType=FillNa(test1.GarageType,'NA')\n",
        "test1.GarageFinish=FillNa(test1.GarageFinish,'NA')\n",
        "test1.GarageQual=FillNa(test1.GarageQual,'NA')\n",
        "test1.GarageCond=FillNa(test1.GarageCond,'NA')\n",
        "#GarageYrBlt will be fit in the section of features engireering\n",
        "#test1.GarageYrBlt=FillNa(test1.GarageYrBlt,0.0)\n",
        "\n"
      ],
      "execution_count": null,
      "outputs": [
        {
          "output_type": "stream",
          "text": [
            "2    824\n",
            "1    369\n",
            "3    181\n",
            "0     81\n",
            "4      5\n",
            "Name: GarageCars, dtype: int64\n",
            "Attchd     870\n",
            "Detchd     387\n",
            "BuiltIn     88\n",
            "Basment     19\n",
            "CarPort      9\n",
            "2Types       6\n",
            "Name: GarageType, dtype: int64\n"
          ],
          "name": "stdout"
        }
      ]
    },
    {
      "cell_type": "code",
      "metadata": {
        "id": "FI12cb3Z52Es",
        "colab": {
          "base_uri": "https://localhost:8080/",
          "height": 296
        },
        "outputId": "b76d2ec5-09f0-4a79-c632-2bde74a8a727"
      },
      "source": [
        "sns.scatterplot(x='GarageYrBlt',y='SalePrice', data=train1,)"
      ],
      "execution_count": null,
      "outputs": [
        {
          "output_type": "execute_result",
          "data": {
            "text/plain": [
              "<matplotlib.axes._subplots.AxesSubplot at 0x7f2d089f4b70>"
            ]
          },
          "metadata": {
            "tags": []
          },
          "execution_count": 33
        },
        {
          "output_type": "display_data",
          "data": {
            "image/png": "[encoded data removed]",
            "text/plain": [
              "<Figure size 432x288 with 1 Axes>"
            ]
          },
          "metadata": {
            "tags": [],
            "needs_background": "light"
          }
        }
      ]
    },
    {
      "cell_type": "markdown",
      "metadata": {
        "id": "w7cAs5qIcWL8"
      },
      "source": [
        "# Pool\n",
        "- PoolArea,PoolQC(7 Non-null)\n",
        "- Just 7 with values! Probably, this feature will be drop. But now, will fill with 'NA'"
      ]
    },
    {
      "cell_type": "code",
      "metadata": {
        "id": "iWuQvKYvcHnj",
        "colab": {
          "base_uri": "https://localhost:8080/"
        },
        "outputId": "b906deb3-02db-4ee5-9009-7a48ba20b321"
      },
      "source": [
        "train1.PoolQC[~train1.PoolQC.isna()]\n"
      ],
      "execution_count": null,
      "outputs": [
        {
          "output_type": "execute_result",
          "data": {
            "text/plain": [
              "197     Ex\n",
              "810     Fa\n",
              "1170    Gd\n",
              "1182    Ex\n",
              "1298    Gd\n",
              "1386    Fa\n",
              "1423    Gd\n",
              "Name: PoolQC, dtype: object"
            ]
          },
          "metadata": {
            "tags": []
          },
          "execution_count": 34
        }
      ]
    },
    {
      "cell_type": "code",
      "metadata": {
        "id": "0jMjtcpcAJ-0",
        "colab": {
          "base_uri": "https://localhost:8080/"
        },
        "outputId": "1bacbdae-977e-4e4b-c2fb-66df2077762c"
      },
      "source": [
        "train1.PoolArea.value_counts()"
      ],
      "execution_count": null,
      "outputs": [
        {
          "output_type": "execute_result",
          "data": {
            "text/plain": [
              "0      1453\n",
              "738       1\n",
              "648       1\n",
              "576       1\n",
              "555       1\n",
              "519       1\n",
              "512       1\n",
              "480       1\n",
              "Name: PoolArea, dtype: int64"
            ]
          },
          "metadata": {
            "tags": []
          },
          "execution_count": 35
        }
      ]
    },
    {
      "cell_type": "code",
      "metadata": {
        "id": "Y_skdmzodViJ"
      },
      "source": [
        "train1.PoolQC=FillNa(train1.PoolQC,'NA')\n",
        "test1.PoolQC=FillNa(test1.PoolQC,'NA')"
      ],
      "execution_count": null,
      "outputs": []
    },
    {
      "cell_type": "markdown",
      "metadata": {
        "id": "hxnnalGDdl5p"
      },
      "source": [
        "# Fence \n",
        "- 281 non-null\n",
        "- Fill NaN with 'NA'"
      ]
    },
    {
      "cell_type": "code",
      "metadata": {
        "id": "aVBf0EtedsC5",
        "colab": {
          "base_uri": "https://localhost:8080/"
        },
        "outputId": "277ee9fd-9ea1-412d-fab2-c1e51c99e5e1"
      },
      "source": [
        "train1.Fence.value_counts()"
      ],
      "execution_count": null,
      "outputs": [
        {
          "output_type": "execute_result",
          "data": {
            "text/plain": [
              "MnPrv    157\n",
              "GdPrv     59\n",
              "GdWo      54\n",
              "MnWw      11\n",
              "Name: Fence, dtype: int64"
            ]
          },
          "metadata": {
            "tags": []
          },
          "execution_count": 37
        }
      ]
    },
    {
      "cell_type": "code",
      "metadata": {
        "id": "GvGvlnCrdyPG"
      },
      "source": [
        "train1.Fence = FillNa(train1.Fence,'NA')\n",
        "test1.Fence = FillNa(test1.Fence,'NA')"
      ],
      "execution_count": null,
      "outputs": []
    },
    {
      "cell_type": "markdown",
      "metadata": {
        "id": "dOVcc6gud6bi"
      },
      "source": [
        "# MiscFeature\n",
        "- 54 Non-null\n",
        "- Fill with NA"
      ]
    },
    {
      "cell_type": "code",
      "metadata": {
        "id": "uH0UY3zheEqF",
        "colab": {
          "base_uri": "https://localhost:8080/"
        },
        "outputId": "f699583c-0471-4f4f-f406-6016ac3efdbb"
      },
      "source": [
        "train1.MiscFeature.value_counts()"
      ],
      "execution_count": null,
      "outputs": [
        {
          "output_type": "execute_result",
          "data": {
            "text/plain": [
              "Shed    49\n",
              "Othr     2\n",
              "Gar2     2\n",
              "TenC     1\n",
              "Name: MiscFeature, dtype: int64"
            ]
          },
          "metadata": {
            "tags": []
          },
          "execution_count": 39
        }
      ]
    },
    {
      "cell_type": "code",
      "metadata": {
        "id": "W6cypUYIelbE"
      },
      "source": [
        "train1.MiscFeature = FillNa(train1.MiscFeature,'NA')\n",
        "\n",
        "test1.MiscFeature = FillNa(test1.MiscFeature,'NA')"
      ],
      "execution_count": null,
      "outputs": []
    },
    {
      "cell_type": "markdown",
      "metadata": {
        "id": "WKxi7z9fgtqi"
      },
      "source": [
        "# 4. Transform some features in to categoricals:\n",
        "1. Just change the dtype\n",
        "or\n",
        "2. Change to categorical with numerical scale."
      ]
    },
    {
      "cell_type": "code",
      "metadata": {
        "id": "QTCsjVBaT0gA"
      },
      "source": [
        "train2 = train1.copy()\n",
        "test2 = test1.copy()"
      ],
      "execution_count": null,
      "outputs": []
    },
    {
      "cell_type": "code",
      "metadata": {
        "id": "9GnMJCgHk-rj",
        "colab": {
          "base_uri": "https://localhost:8080/"
        },
        "outputId": "d30287df-f99f-40ba-97e5-e459712f7945"
      },
      "source": [
        "train2.info()"
      ],
      "execution_count": null,
      "outputs": [
        {
          "output_type": "stream",
          "text": [
            "<class 'pandas.core.frame.DataFrame'>\n",
            "RangeIndex: 1460 entries, 0 to 1459\n",
            "Data columns (total 81 columns):\n",
            " #   Column         Non-Null Count  Dtype  \n",
            "---  ------         --------------  -----  \n",
            " 0   Id             1460 non-null   int64  \n",
            " 1   MSSubClass     1460 non-null   int64  \n",
            " 2   MSZoning       1460 non-null   object \n",
            " 3   LotFrontage    1201 non-null   float64\n",
            " 4   LotArea        1460 non-null   int64  \n",
            " 5   Street         1460 non-null   object \n",
            " 6   Alley          1460 non-null   object \n",
            " 7   LotShape       1460 non-null   object \n",
            " 8   LandContour    1460 non-null   object \n",
            " 9   Utilities      1460 non-null   object \n",
            " 10  LotConfig      1460 non-null   object \n",
            " 11  LandSlope      1460 non-null   object \n",
            " 12  Neighborhood   1460 non-null   object \n",
            " 13  Condition1     1460 non-null   object \n",
            " 14  Condition2     1460 non-null   object \n",
            " 15  BldgType       1460 non-null   object \n",
            " 16  HouseStyle     1460 non-null   object \n",
            " 17  OverallQual    1460 non-null   int64  \n",
            " 18  OverallCond    1460 non-null   int64  \n",
            " 19  YearBuilt      1460 non-null   int64  \n",
            " 20  YearRemodAdd   1460 non-null   int64  \n",
            " 21  RoofStyle      1460 non-null   object \n",
            " 22  RoofMatl       1460 non-null   object \n",
            " 23  Exterior1st    1460 non-null   object \n",
            " 24  Exterior2nd    1460 non-null   object \n",
            " 25  MasVnrType     1460 non-null   object \n",
            " 26  MasVnrArea     1460 non-null   float64\n",
            " 27  ExterQual      1460 non-null   object \n",
            " 28  ExterCond      1460 non-null   object \n",
            " 29  Foundation     1460 non-null   object \n",
            " 30  BsmtQual       1460 non-null   object \n",
            " 31  BsmtCond       1460 non-null   object \n",
            " 32  BsmtExposure   1460 non-null   object \n",
            " 33  BsmtFinType1   1460 non-null   object \n",
            " 34  BsmtFinSF1     1460 non-null   int64  \n",
            " 35  BsmtFinType2   1460 non-null   object \n",
            " 36  BsmtFinSF2     1460 non-null   int64  \n",
            " 37  BsmtUnfSF      1460 non-null   int64  \n",
            " 38  TotalBsmtSF    1460 non-null   int64  \n",
            " 39  Heating        1460 non-null   object \n",
            " 40  HeatingQC      1460 non-null   object \n",
            " 41  CentralAir     1460 non-null   object \n",
            " 42  Electrical     1460 non-null   object \n",
            " 43  1stFlrSF       1460 non-null   int64  \n",
            " 44  2ndFlrSF       1460 non-null   int64  \n",
            " 45  LowQualFinSF   1460 non-null   int64  \n",
            " 46  GrLivArea      1460 non-null   int64  \n",
            " 47  BsmtFullBath   1460 non-null   int64  \n",
            " 48  BsmtHalfBath   1460 non-null   int64  \n",
            " 49  FullBath       1460 non-null   int64  \n",
            " 50  HalfBath       1460 non-null   int64  \n",
            " 51  BedroomAbvGr   1460 non-null   int64  \n",
            " 52  KitchenAbvGr   1460 non-null   int64  \n",
            " 53  KitchenQual    1460 non-null   object \n",
            " 54  TotRmsAbvGrd   1460 non-null   int64  \n",
            " 55  Functional     1460 non-null   object \n",
            " 56  Fireplaces     1460 non-null   int64  \n",
            " 57  FireplaceQu    1460 non-null   object \n",
            " 58  GarageType     1460 non-null   object \n",
            " 59  GarageYrBlt    1379 non-null   float64\n",
            " 60  GarageFinish   1460 non-null   object \n",
            " 61  GarageCars     1460 non-null   int64  \n",
            " 62  GarageArea     1460 non-null   int64  \n",
            " 63  GarageQual     1460 non-null   object \n",
            " 64  GarageCond     1460 non-null   object \n",
            " 65  PavedDrive     1460 non-null   object \n",
            " 66  WoodDeckSF     1460 non-null   int64  \n",
            " 67  OpenPorchSF    1460 non-null   int64  \n",
            " 68  EnclosedPorch  1460 non-null   int64  \n",
            " 69  3SsnPorch      1460 non-null   int64  \n",
            " 70  ScreenPorch    1460 non-null   int64  \n",
            " 71  PoolArea       1460 non-null   int64  \n",
            " 72  PoolQC         1460 non-null   object \n",
            " 73  Fence          1460 non-null   object \n",
            " 74  MiscFeature    1460 non-null   object \n",
            " 75  MiscVal        1460 non-null   int64  \n",
            " 76  MoSold         1460 non-null   int64  \n",
            " 77  YrSold         1460 non-null   int64  \n",
            " 78  SaleType       1460 non-null   object \n",
            " 79  SaleCondition  1460 non-null   object \n",
            " 80  SalePrice      1460 non-null   int64  \n",
            "dtypes: float64(3), int64(35), object(43)\n",
            "memory usage: 924.0+ KB\n"
          ],
          "name": "stdout"
        }
      ]
    },
    {
      "cell_type": "code",
      "metadata": {
        "id": "Uyh6t87Rj4Tx",
        "colab": {
          "base_uri": "https://localhost:8080/"
        },
        "outputId": "8d8a9c3a-7fcf-4175-e838-199fbf90bf84"
      },
      "source": [
        "categorical = ['MSSubClass','MSZoning','Street','Alley','LotShape','LandContour', 'Utilities', 'LotConfig','LandSlope', 'Neighborhood', \n",
        "               'Condition1', 'Condition2','BldgType','HouseStyle','RoofStyle', 'RoofMatl', 'Exterior1st', 'Exterior2nd', 'MasVnrType','Foundation',\n",
        "               'Heating','HeatingQC','Electrical','GarageType','MiscFeature', 'SaleType','SaleCondition','OverallQual','OverallCond','ExterQual',\n",
        "               'ExterCond','BsmtQual','BsmtCond','BsmtExposure','BsmtFinType1','BsmtFinType2','KitchenQual','Functional','Fireplaces','FireplaceQu',\n",
        "               'GarageFinish','GarageCars','GarageQual','GarageCond','PoolQC','Fence','MoSold','YrSold','CentralAir','PavedDrive']\n",
        "len(categorical)"
      ],
      "execution_count": null,
      "outputs": [
        {
          "output_type": "execute_result",
          "data": {
            "text/plain": [
              "50"
            ]
          },
          "metadata": {
            "tags": []
          },
          "execution_count": 43
        }
      ]
    },
    {
      "cell_type": "code",
      "metadata": {
        "id": "NeSu8_8gng_k"
      },
      "source": [
        "train2[categorical] = train2[categorical].astype('category')\n",
        "test2[categorical] = test2[categorical].astype('category')"
      ],
      "execution_count": null,
      "outputs": []
    },
    {
      "cell_type": "code",
      "metadata": {
        "id": "H2bdVYCen5HZ",
        "colab": {
          "base_uri": "https://localhost:8080/"
        },
        "outputId": "bd8bf16a-f099-4b5b-df15-04d0f6381644"
      },
      "source": [
        "train2.info()"
      ],
      "execution_count": null,
      "outputs": [
        {
          "output_type": "stream",
          "text": [
            "<class 'pandas.core.frame.DataFrame'>\n",
            "RangeIndex: 1460 entries, 0 to 1459\n",
            "Data columns (total 81 columns):\n",
            " #   Column         Non-Null Count  Dtype   \n",
            "---  ------         --------------  -----   \n",
            " 0   Id             1460 non-null   int64   \n",
            " 1   MSSubClass     1460 non-null   category\n",
            " 2   MSZoning       1460 non-null   category\n",
            " 3   LotFrontage    1201 non-null   float64 \n",
            " 4   LotArea        1460 non-null   int64   \n",
            " 5   Street         1460 non-null   category\n",
            " 6   Alley          1460 non-null   category\n",
            " 7   LotShape       1460 non-null   category\n",
            " 8   LandContour    1460 non-null   category\n",
            " 9   Utilities      1460 non-null   category\n",
            " 10  LotConfig      1460 non-null   category\n",
            " 11  LandSlope      1460 non-null   category\n",
            " 12  Neighborhood   1460 non-null   category\n",
            " 13  Condition1     1460 non-null   category\n",
            " 14  Condition2     1460 non-null   category\n",
            " 15  BldgType       1460 non-null   category\n",
            " 16  HouseStyle     1460 non-null   category\n",
            " 17  OverallQual    1460 non-null   category\n",
            " 18  OverallCond    1460 non-null   category\n",
            " 19  YearBuilt      1460 non-null   int64   \n",
            " 20  YearRemodAdd   1460 non-null   int64   \n",
            " 21  RoofStyle      1460 non-null   category\n",
            " 22  RoofMatl       1460 non-null   category\n",
            " 23  Exterior1st    1460 non-null   category\n",
            " 24  Exterior2nd    1460 non-null   category\n",
            " 25  MasVnrType     1460 non-null   category\n",
            " 26  MasVnrArea     1460 non-null   float64 \n",
            " 27  ExterQual      1460 non-null   category\n",
            " 28  ExterCond      1460 non-null   category\n",
            " 29  Foundation     1460 non-null   category\n",
            " 30  BsmtQual       1460 non-null   category\n",
            " 31  BsmtCond       1460 non-null   category\n",
            " 32  BsmtExposure   1460 non-null   category\n",
            " 33  BsmtFinType1   1460 non-null   category\n",
            " 34  BsmtFinSF1     1460 non-null   int64   \n",
            " 35  BsmtFinType2   1460 non-null   category\n",
            " 36  BsmtFinSF2     1460 non-null   int64   \n",
            " 37  BsmtUnfSF      1460 non-null   int64   \n",
            " 38  TotalBsmtSF    1460 non-null   int64   \n",
            " 39  Heating        1460 non-null   category\n",
            " 40  HeatingQC      1460 non-null   category\n",
            " 41  CentralAir     1460 non-null   category\n",
            " 42  Electrical     1460 non-null   category\n",
            " 43  1stFlrSF       1460 non-null   int64   \n",
            " 44  2ndFlrSF       1460 non-null   int64   \n",
            " 45  LowQualFinSF   1460 non-null   int64   \n",
            " 46  GrLivArea      1460 non-null   int64   \n",
            " 47  BsmtFullBath   1460 non-null   int64   \n",
            " 48  BsmtHalfBath   1460 non-null   int64   \n",
            " 49  FullBath       1460 non-null   int64   \n",
            " 50  HalfBath       1460 non-null   int64   \n",
            " 51  BedroomAbvGr   1460 non-null   int64   \n",
            " 52  KitchenAbvGr   1460 non-null   int64   \n",
            " 53  KitchenQual    1460 non-null   category\n",
            " 54  TotRmsAbvGrd   1460 non-null   int64   \n",
            " 55  Functional     1460 non-null   category\n",
            " 56  Fireplaces     1460 non-null   category\n",
            " 57  FireplaceQu    1460 non-null   category\n",
            " 58  GarageType     1460 non-null   category\n",
            " 59  GarageYrBlt    1379 non-null   float64 \n",
            " 60  GarageFinish   1460 non-null   category\n",
            " 61  GarageCars     1460 non-null   category\n",
            " 62  GarageArea     1460 non-null   int64   \n",
            " 63  GarageQual     1460 non-null   category\n",
            " 64  GarageCond     1460 non-null   category\n",
            " 65  PavedDrive     1460 non-null   category\n",
            " 66  WoodDeckSF     1460 non-null   int64   \n",
            " 67  OpenPorchSF    1460 non-null   int64   \n",
            " 68  EnclosedPorch  1460 non-null   int64   \n",
            " 69  3SsnPorch      1460 non-null   int64   \n",
            " 70  ScreenPorch    1460 non-null   int64   \n",
            " 71  PoolArea       1460 non-null   int64   \n",
            " 72  PoolQC         1460 non-null   category\n",
            " 73  Fence          1460 non-null   category\n",
            " 74  MiscFeature    1460 non-null   category\n",
            " 75  MiscVal        1460 non-null   int64   \n",
            " 76  MoSold         1460 non-null   category\n",
            " 77  YrSold         1460 non-null   category\n",
            " 78  SaleType       1460 non-null   category\n",
            " 79  SaleCondition  1460 non-null   category\n",
            " 80  SalePrice      1460 non-null   int64   \n",
            "dtypes: category(50), float64(3), int64(28)\n",
            "memory usage: 438.6 KB\n"
          ],
          "name": "stdout"
        }
      ]
    },
    {
      "cell_type": "code",
      "metadata": {
        "id": "_lhhmMYW7aMh",
        "colab": {
          "base_uri": "https://localhost:8080/"
        },
        "outputId": "916f8185-11f4-4bdc-94f1-6c3446178c86"
      },
      "source": [
        "test2.info()"
      ],
      "execution_count": null,
      "outputs": [
        {
          "output_type": "stream",
          "text": [
            "<class 'pandas.core.frame.DataFrame'>\n",
            "RangeIndex: 1459 entries, 0 to 1458\n",
            "Data columns (total 80 columns):\n",
            " #   Column         Non-Null Count  Dtype   \n",
            "---  ------         --------------  -----   \n",
            " 0   Id             1459 non-null   int64   \n",
            " 1   MSSubClass     1459 non-null   category\n",
            " 2   MSZoning       1455 non-null   category\n",
            " 3   LotFrontage    1232 non-null   float64 \n",
            " 4   LotArea        1459 non-null   int64   \n",
            " 5   Street         1459 non-null   category\n",
            " 6   Alley          1459 non-null   category\n",
            " 7   LotShape       1459 non-null   category\n",
            " 8   LandContour    1459 non-null   category\n",
            " 9   Utilities      1457 non-null   category\n",
            " 10  LotConfig      1459 non-null   category\n",
            " 11  LandSlope      1459 non-null   category\n",
            " 12  Neighborhood   1459 non-null   category\n",
            " 13  Condition1     1459 non-null   category\n",
            " 14  Condition2     1459 non-null   category\n",
            " 15  BldgType       1459 non-null   category\n",
            " 16  HouseStyle     1459 non-null   category\n",
            " 17  OverallQual    1459 non-null   category\n",
            " 18  OverallCond    1459 non-null   category\n",
            " 19  YearBuilt      1459 non-null   int64   \n",
            " 20  YearRemodAdd   1459 non-null   int64   \n",
            " 21  RoofStyle      1459 non-null   category\n",
            " 22  RoofMatl       1459 non-null   category\n",
            " 23  Exterior1st    1458 non-null   category\n",
            " 24  Exterior2nd    1458 non-null   category\n",
            " 25  MasVnrType     1459 non-null   category\n",
            " 26  MasVnrArea     1459 non-null   float64 \n",
            " 27  ExterQual      1459 non-null   category\n",
            " 28  ExterCond      1459 non-null   category\n",
            " 29  Foundation     1459 non-null   category\n",
            " 30  BsmtQual       1459 non-null   category\n",
            " 31  BsmtCond       1459 non-null   category\n",
            " 32  BsmtExposure   1459 non-null   category\n",
            " 33  BsmtFinType1   1459 non-null   category\n",
            " 34  BsmtFinSF1     1458 non-null   float64 \n",
            " 35  BsmtFinType2   1459 non-null   category\n",
            " 36  BsmtFinSF2     1458 non-null   float64 \n",
            " 37  BsmtUnfSF      1458 non-null   float64 \n",
            " 38  TotalBsmtSF    1458 non-null   float64 \n",
            " 39  Heating        1459 non-null   category\n",
            " 40  HeatingQC      1459 non-null   category\n",
            " 41  CentralAir     1459 non-null   category\n",
            " 42  Electrical     1459 non-null   category\n",
            " 43  1stFlrSF       1459 non-null   int64   \n",
            " 44  2ndFlrSF       1459 non-null   int64   \n",
            " 45  LowQualFinSF   1459 non-null   int64   \n",
            " 46  GrLivArea      1459 non-null   int64   \n",
            " 47  BsmtFullBath   1457 non-null   float64 \n",
            " 48  BsmtHalfBath   1457 non-null   float64 \n",
            " 49  FullBath       1459 non-null   int64   \n",
            " 50  HalfBath       1459 non-null   int64   \n",
            " 51  BedroomAbvGr   1459 non-null   int64   \n",
            " 52  KitchenAbvGr   1459 non-null   int64   \n",
            " 53  KitchenQual    1458 non-null   category\n",
            " 54  TotRmsAbvGrd   1459 non-null   int64   \n",
            " 55  Functional     1457 non-null   category\n",
            " 56  Fireplaces     1459 non-null   category\n",
            " 57  FireplaceQu    1459 non-null   category\n",
            " 58  GarageType     1459 non-null   category\n",
            " 59  GarageYrBlt    1381 non-null   float64 \n",
            " 60  GarageFinish   1459 non-null   category\n",
            " 61  GarageCars     1458 non-null   category\n",
            " 62  GarageArea     1458 non-null   float64 \n",
            " 63  GarageQual     1459 non-null   category\n",
            " 64  GarageCond     1459 non-null   category\n",
            " 65  PavedDrive     1459 non-null   category\n",
            " 66  WoodDeckSF     1459 non-null   int64   \n",
            " 67  OpenPorchSF    1459 non-null   int64   \n",
            " 68  EnclosedPorch  1459 non-null   int64   \n",
            " 69  3SsnPorch      1459 non-null   int64   \n",
            " 70  ScreenPorch    1459 non-null   int64   \n",
            " 71  PoolArea       1459 non-null   int64   \n",
            " 72  PoolQC         1459 non-null   category\n",
            " 73  Fence          1459 non-null   category\n",
            " 74  MiscFeature    1459 non-null   category\n",
            " 75  MiscVal        1459 non-null   int64   \n",
            " 76  MoSold         1459 non-null   category\n",
            " 77  YrSold         1459 non-null   category\n",
            " 78  SaleType       1458 non-null   category\n",
            " 79  SaleCondition  1459 non-null   category\n",
            "dtypes: category(50), float64(10), int64(20)\n",
            "memory usage: 426.5 KB\n"
          ],
          "name": "stdout"
        }
      ]
    },
    {
      "cell_type": "markdown",
      "metadata": {
        "id": "GvebwIWxoUBV"
      },
      "source": [
        "# Change some features to numerical scale"
      ]
    },
    {
      "cell_type": "code",
      "metadata": {
        "id": "Gd96SZHRxJ4c",
        "colab": {
          "base_uri": "https://localhost:8080/"
        },
        "outputId": "597bf6e4-02bf-4e49-99ea-338eafea2aaf"
      },
      "source": [
        "train2['MSSubClass'].unique()"
      ],
      "execution_count": null,
      "outputs": [
        {
          "output_type": "execute_result",
          "data": {
            "text/plain": [
              "[60, 20, 70, 50, 190, ..., 80, 160, 75, 180, 40]\n",
              "Length: 15\n",
              "Categories (15, int64): [60, 20, 70, 50, ..., 160, 75, 180, 40]"
            ]
          },
          "metadata": {
            "tags": []
          },
          "execution_count": 47
        }
      ]
    },
    {
      "cell_type": "code",
      "metadata": {
        "id": "r9bowUTAocKi"
      },
      "source": [
        "train2['MSSubClass']=train2['MSSubClass'].cat.rename_categories({20:'A',30:'B',40:'C',45:'D',50:'E',\n",
        "                                                                 60:'F',70:'G',75:'H',80:'I',85:'J',\n",
        "                                                                 90:'L',120:'M',150:'N',160:'O',180:'P'\n",
        "                                                                 ,190:'Q'})\n",
        "\n",
        "test2['MSSubClass']=test2['MSSubClass'].cat.rename_categories({20:'A',30:'B',40:'C',45:'D',50:'E',\n",
        "                                                                 60:'F',70:'G',75:'H',80:'I',85:'J',\n",
        "                                                                 90:'L',120:'M',150:'N',160:'O',180:'P'\n",
        "                                                                 ,190:'Q'})\n"
      ],
      "execution_count": null,
      "outputs": []
    },
    {
      "cell_type": "code",
      "metadata": {
        "id": "5ZhjvjUe0ftS",
        "colab": {
          "base_uri": "https://localhost:8080/"
        },
        "outputId": "97cc76e8-b736-4700-8820-04e43cbaec1c"
      },
      "source": [
        "print(train2.MSSubClass.value_counts())\n",
        "print('\\n')\n",
        "print(test2.MSSubClass.value_counts())"
      ],
      "execution_count": null,
      "outputs": [
        {
          "output_type": "stream",
          "text": [
            "A    536\n",
            "F    299\n",
            "E    144\n",
            "M     87\n",
            "B     69\n",
            "O     63\n",
            "G     60\n",
            "I     58\n",
            "L     52\n",
            "Q     30\n",
            "J     20\n",
            "H     16\n",
            "D     12\n",
            "P     10\n",
            "C      4\n",
            "Name: MSSubClass, dtype: int64\n",
            "\n",
            "\n",
            "A    543\n",
            "F    276\n",
            "E    143\n",
            "M     95\n",
            "B     70\n",
            "G     68\n",
            "O     65\n",
            "I     60\n",
            "L     57\n",
            "Q     31\n",
            "J     28\n",
            "P      7\n",
            "H      7\n",
            "D      6\n",
            "C      2\n",
            "N      1\n",
            "Name: MSSubClass, dtype: int64\n"
          ],
          "name": "stdout"
        }
      ]
    },
    {
      "cell_type": "code",
      "metadata": {
        "id": "mOs7fKdi0ixR",
        "colab": {
          "base_uri": "https://localhost:8080/"
        },
        "outputId": "1b8dc082-6463-47fb-aaa1-3eaea3052e0d"
      },
      "source": [
        "train2['ExterQual'].unique()"
      ],
      "execution_count": null,
      "outputs": [
        {
          "output_type": "execute_result",
          "data": {
            "text/plain": [
              "['Gd', 'TA', 'Ex', 'Fa']\n",
              "Categories (4, object): ['Gd', 'TA', 'Ex', 'Fa']"
            ]
          },
          "metadata": {
            "tags": []
          },
          "execution_count": 50
        }
      ]
    },
    {
      "cell_type": "code",
      "metadata": {
        "id": "ezwkOP2p0ema"
      },
      "source": [
        "train2['ExterQual']=train2['ExterQual'].cat.rename_categories({'Ex':5,'Gd':4,'TA':3,'Fa':2,'Po':1})\n",
        "\n",
        "test2['ExterQual']=test2['ExterQual'].cat.rename_categories({'Ex':5,'Gd':4,'TA':3,'Fa':2,'Po':1})"
      ],
      "execution_count": null,
      "outputs": []
    },
    {
      "cell_type": "code",
      "metadata": {
        "id": "i_NabSjD1pTm"
      },
      "source": [
        "train2['ExterCond']=train2['ExterCond'].cat.rename_categories(({'Ex':5,'Gd':4,'TA':3,'Fa':2,'Po':1}))\n",
        "test2['ExterCond']=test2['ExterCond'].cat.rename_categories(({'Ex':5,'Gd':4,'TA':3,'Fa':2,'Po':1}))"
      ],
      "execution_count": null,
      "outputs": []
    },
    {
      "cell_type": "code",
      "metadata": {
        "id": "WVpTkiP8855A"
      },
      "source": [
        "train2['BsmtQual']=train2['BsmtQual'].cat.rename_categories({'Ex':5,'Gd':4,'TA':3,'Fa':2,'Po':1,'NA':0})\n",
        "test2['BsmtQual']=test2['BsmtQual'].cat.rename_categories({'Ex':5,'Gd':4,'TA':3,'Fa':2,'Po':1,'NA':0})"
      ],
      "execution_count": null,
      "outputs": []
    },
    {
      "cell_type": "code",
      "metadata": {
        "id": "NMnGDEGV9N1v"
      },
      "source": [
        "train2['BsmtCond']=train2['BsmtCond'].cat.rename_categories({'Ex':5,'Gd':4,'TA':3,'Fa':2,'Po':1,'NA':0})\n",
        "test2['BsmtCond']=test2['BsmtCond'].cat.rename_categories({'Ex':5,'Gd':4,'TA':3,'Fa':2,'Po':1,'NA':0})"
      ],
      "execution_count": null,
      "outputs": []
    },
    {
      "cell_type": "code",
      "metadata": {
        "id": "E1CEu-P29Yzd"
      },
      "source": [
        "train2['BsmtExposure']=train2['BsmtExposure'].cat.rename_categories({'Gd':4,'Av':3,'Mn':2,'No':1,'NA':0})\n",
        "\n",
        "test2['BsmtExposure']=test2['BsmtExposure'].cat.rename_categories({'Gd':4,'Av':3,'Mn':2,'No':1,'NA':0})"
      ],
      "execution_count": null,
      "outputs": []
    },
    {
      "cell_type": "code",
      "metadata": {
        "id": "gVuKY9Jm-zpN",
        "colab": {
          "base_uri": "https://localhost:8080/"
        },
        "outputId": "c4fd4107-51a7-443a-c5f9-3c90b1ca9e46"
      },
      "source": [
        "train2['BsmtFinType1'].unique()"
      ],
      "execution_count": null,
      "outputs": [
        {
          "output_type": "execute_result",
          "data": {
            "text/plain": [
              "['GLQ', 'ALQ', 'Unf', 'Rec', 'BLQ', 'NA', 'LwQ']\n",
              "Categories (7, object): ['GLQ', 'ALQ', 'Unf', 'Rec', 'BLQ', 'NA', 'LwQ']"
            ]
          },
          "metadata": {
            "tags": []
          },
          "execution_count": 56
        }
      ]
    },
    {
      "cell_type": "code",
      "metadata": {
        "id": "EEL4Hpcs-un1"
      },
      "source": [
        "train2['BsmtFinType1']=train2['BsmtFinType1'].cat.rename_categories({'GLQ':6, 'ALQ':5, 'Unf':1, 'Rec':3, 'BLQ':4, 'NA':0, 'LwQ':2})\n",
        "\n",
        "test2['BsmtFinType1']=test2['BsmtFinType1'].cat.rename_categories({'GLQ':6, 'ALQ':5, 'Unf':1, 'Rec':3, 'BLQ':4, 'NA':0, 'LwQ':2})"
      ],
      "execution_count": null,
      "outputs": []
    },
    {
      "cell_type": "code",
      "metadata": {
        "id": "5AyVTKRI_SBl"
      },
      "source": [
        "train2['BsmtFinType2']=train2['BsmtFinType2'].cat.rename_categories({'GLQ':6, 'ALQ':5, 'Unf':1, 'Rec':3, 'BLQ':4, 'NA':0, 'LwQ':2})\n",
        "\n",
        "test2['BsmtFinType2']=test2['BsmtFinType2'].cat.rename_categories({'GLQ':6, 'ALQ':5, 'Unf':1, 'Rec':3, 'BLQ':4, 'NA':0, 'LwQ':2})\n",
        "\n"
      ],
      "execution_count": null,
      "outputs": []
    },
    {
      "cell_type": "code",
      "metadata": {
        "id": "cFYmJcEgcoEI",
        "colab": {
          "base_uri": "https://localhost:8080/"
        },
        "outputId": "7c5bbc3e-e36c-4000-dba4-42c56aaf7ce4"
      },
      "source": [
        "train2['GarageQual'].unique()"
      ],
      "execution_count": null,
      "outputs": [
        {
          "output_type": "execute_result",
          "data": {
            "text/plain": [
              "['TA', 'Fa', 'Gd', 'NA', 'Ex', 'Po']\n",
              "Categories (6, object): ['TA', 'Fa', 'Gd', 'NA', 'Ex', 'Po']"
            ]
          },
          "metadata": {
            "tags": []
          },
          "execution_count": 59
        }
      ]
    },
    {
      "cell_type": "code",
      "metadata": {
        "id": "YuNjwY-_cRSE"
      },
      "source": [
        "train2['KitchenQual']=train2['KitchenQual'].cat.rename_categories({'Gd':4, 'TA':3, 'Ex':5, 'Fa':2,'Po':1})\n",
        "\n",
        "test2['KitchenQual']=test2['KitchenQual'].cat.rename_categories({'Gd':4, 'TA':3, 'Ex':5, 'Fa':2,'Po':1})"
      ],
      "execution_count": null,
      "outputs": []
    },
    {
      "cell_type": "code",
      "metadata": {
        "id": "wVRGmItrdAlh"
      },
      "source": [
        "train2['Functional']=train2['Functional'].cat.rename_categories({'Typ':8, 'Min1':7, 'Maj1':4, 'Min2':6, 'Mod':5, 'Maj2':3, 'Sev':2,'Sal':1})\n",
        "\n",
        "test2['Functional']=test2['Functional'].cat.rename_categories({'Typ':8, 'Min1':7, 'Maj1':4, 'Min2':6, 'Mod':5, 'Maj2':3, 'Sev':2,'Sal':1})"
      ],
      "execution_count": null,
      "outputs": []
    },
    {
      "cell_type": "code",
      "metadata": {
        "id": "RkAXLED5d3qW"
      },
      "source": [
        "train2['FireplaceQu']=train2['FireplaceQu'].cat.rename_categories({'NA':0, 'TA':3, 'Gd':4, 'Fa':2, 'Ex':5, 'Po':1})\n",
        "\n",
        "test2['FireplaceQu']=test2['FireplaceQu'].cat.rename_categories({'NA':0, 'TA':3, 'Gd':4, 'Fa':2, 'Ex':5, 'Po':1})"
      ],
      "execution_count": null,
      "outputs": []
    },
    {
      "cell_type": "code",
      "metadata": {
        "id": "2-QAtyTRfhh-"
      },
      "source": [
        "train2['GarageFinish']=train2['GarageFinish'].cat.rename_categories({'RFn':2, 'Unf':1, 'Fin':3, 'NA':0})\n",
        "\n",
        "test2['GarageFinish']=test2['GarageFinish'].cat.rename_categories({'RFn':2, 'Unf':1, 'Fin':3, 'NA':0})"
      ],
      "execution_count": null,
      "outputs": []
    },
    {
      "cell_type": "code",
      "metadata": {
        "id": "_LOLk87RgLR2"
      },
      "source": [
        "train2['GarageQual']=train2['GarageQual'].cat.rename_categories({'TA':3, 'Fa':2, 'Gd':4, 'NA':0, 'Ex':5, 'Po':1})\n",
        "test2['GarageQual']=test2['GarageQual'].cat.rename_categories({'TA':3, 'Fa':2, 'Gd':4, 'NA':0, 'Ex':5, 'Po':1})"
      ],
      "execution_count": null,
      "outputs": []
    },
    {
      "cell_type": "code",
      "metadata": {
        "id": "ynpGFENPg9ju"
      },
      "source": [
        "train2['GarageCond']=train2['GarageCond'].cat.rename_categories({'TA':3, 'Fa':2, 'Gd':4, 'NA':0, 'Ex':5, 'Po':1})\n",
        "test2['GarageCond']=test2['GarageCond'].cat.rename_categories({'TA':3, 'Fa':2, 'Gd':4, 'NA':0, 'Ex':5, 'Po':1})"
      ],
      "execution_count": null,
      "outputs": []
    },
    {
      "cell_type": "code",
      "metadata": {
        "id": "GJd_ZhMWiJgJ",
        "colab": {
          "base_uri": "https://localhost:8080/"
        },
        "outputId": "35861170-ef7c-4ad6-d738-cb948c0b80c0"
      },
      "source": [
        "train2['PavedDrive'].unique()"
      ],
      "execution_count": null,
      "outputs": [
        {
          "output_type": "execute_result",
          "data": {
            "text/plain": [
              "['Y', 'N', 'P']\n",
              "Categories (3, object): ['Y', 'N', 'P']"
            ]
          },
          "metadata": {
            "tags": []
          },
          "execution_count": 66
        }
      ]
    },
    {
      "cell_type": "code",
      "metadata": {
        "id": "0MerElh-hHv-"
      },
      "source": [
        "train2['PavedDrive']=train2['PavedDrive'].cat.rename_categories({'Y':2,'P':1,'N':0})\n",
        "\n",
        "test2['PavedDrive']=test2['PavedDrive'].cat.rename_categories({'Y':2,'P':1,'N':0})\n"
      ],
      "execution_count": null,
      "outputs": []
    },
    {
      "cell_type": "code",
      "metadata": {
        "id": "cBr_vOGljLiu",
        "colab": {
          "base_uri": "https://localhost:8080/"
        },
        "outputId": "cd290db5-a938-4bd8-e85c-f5780ea30a4d"
      },
      "source": [
        "train2['CentralAir'].unique()"
      ],
      "execution_count": null,
      "outputs": [
        {
          "output_type": "execute_result",
          "data": {
            "text/plain": [
              "['Y', 'N']\n",
              "Categories (2, object): ['Y', 'N']"
            ]
          },
          "metadata": {
            "tags": []
          },
          "execution_count": 68
        }
      ]
    },
    {
      "cell_type": "code",
      "metadata": {
        "id": "i0qm-AKsjHxY"
      },
      "source": [
        "train2['PoolQC']=train2['PoolQC'].cat.rename_categories({'NA':0, 'Ex':4, 'Fa':1, 'Gd':3,'TA':2})\n",
        "\n",
        "test2['PoolQC']=test2['PoolQC'].cat.rename_categories({'NA':0, 'Ex':4, 'Fa':1, 'Gd':3,'TA':2})"
      ],
      "execution_count": null,
      "outputs": []
    },
    {
      "cell_type": "code",
      "metadata": {
        "id": "OWXyiT_DjtFA"
      },
      "source": [
        "train2['CentralAir']=train2['CentralAir'].cat.rename_categories({'Y':1,'N':0})\n",
        "test2['CentralAir']=test2['CentralAir'].cat.rename_categories({'Y':1,'N':0})\n"
      ],
      "execution_count": null,
      "outputs": []
    },
    {
      "cell_type": "code",
      "metadata": {
        "id": "Y_XsIQF2URnJ"
      },
      "source": [
        "train2['HeatingQC']=train2['HeatingQC'].cat.rename_categories({'Ex':5,'Gd':4,'TA':3,'Fa':2,'Po':1})\n",
        "\n",
        "test2['HeatingQC']=test2['HeatingQC'].cat.rename_categories({'Ex':5,'Gd':4,'TA':3,'Fa':2,'Po':1})"
      ],
      "execution_count": null,
      "outputs": []
    },
    {
      "cell_type": "code",
      "metadata": {
        "id": "Ock6raLx0de0"
      },
      "source": [
        "test3 = test2.copy()\n",
        "train3 = train2.copy()"
      ],
      "execution_count": null,
      "outputs": []
    },
    {
      "cell_type": "code",
      "metadata": {
        "id": "PeRbtQsgkk5s",
        "colab": {
          "base_uri": "https://localhost:8080/",
          "height": 189
        },
        "outputId": "40058a65-5e57-45da-dbe5-a8f24e504168"
      },
      "source": [
        "test3[categorical].describe()"
      ],
      "execution_count": null,
      "outputs": [
        {
          "output_type": "execute_result",
          "data": {
            "text/html": [
              "<div>\n",
              "<style scoped>\n",
              "    .dataframe tbody tr th:only-of-type {\n",
              "        vertical-align: middle;\n",
              "    }\n",
              "\n",
              "    .dataframe tbody tr th {\n",
              "        vertical-align: top;\n",
              "    }\n",
              "\n",
              "    .dataframe thead th {\n",
              "        text-align: right;\n",
              "    }\n",
              "</style>\n",
              "<table border=\"1\" class=\"dataframe\">\n",
              "  <thead>\n",
              "    <tr style=\"text-align: right;\">\n",
              "      <th></th>\n",
              "      <th>MSSubClass</th>\n",
              "      <th>MSZoning</th>\n",
              "      <th>Street</th>\n",
              "      <th>Alley</th>\n",
              "      <th>LotShape</th>\n",
              "      <th>LandContour</th>\n",
              "      <th>Utilities</th>\n",
              "      <th>LotConfig</th>\n",
              "      <th>LandSlope</th>\n",
              "      <th>Neighborhood</th>\n",
              "      <th>Condition1</th>\n",
              "      <th>Condition2</th>\n",
              "      <th>BldgType</th>\n",
              "      <th>HouseStyle</th>\n",
              "      <th>RoofStyle</th>\n",
              "      <th>RoofMatl</th>\n",
              "      <th>Exterior1st</th>\n",
              "      <th>Exterior2nd</th>\n",
              "      <th>MasVnrType</th>\n",
              "      <th>Foundation</th>\n",
              "      <th>Heating</th>\n",
              "      <th>HeatingQC</th>\n",
              "      <th>Electrical</th>\n",
              "      <th>GarageType</th>\n",
              "      <th>MiscFeature</th>\n",
              "      <th>SaleType</th>\n",
              "      <th>SaleCondition</th>\n",
              "      <th>OverallQual</th>\n",
              "      <th>OverallCond</th>\n",
              "      <th>ExterQual</th>\n",
              "      <th>ExterCond</th>\n",
              "      <th>BsmtQual</th>\n",
              "      <th>BsmtCond</th>\n",
              "      <th>BsmtExposure</th>\n",
              "      <th>BsmtFinType1</th>\n",
              "      <th>BsmtFinType2</th>\n",
              "      <th>KitchenQual</th>\n",
              "      <th>Functional</th>\n",
              "      <th>Fireplaces</th>\n",
              "      <th>FireplaceQu</th>\n",
              "      <th>GarageFinish</th>\n",
              "      <th>GarageCars</th>\n",
              "      <th>GarageQual</th>\n",
              "      <th>GarageCond</th>\n",
              "      <th>PoolQC</th>\n",
              "      <th>Fence</th>\n",
              "      <th>MoSold</th>\n",
              "      <th>YrSold</th>\n",
              "      <th>CentralAir</th>\n",
              "      <th>PavedDrive</th>\n",
              "    </tr>\n",
              "  </thead>\n",
              "  <tbody>\n",
              "    <tr>\n",
              "      <th>count</th>\n",
              "      <td>1459</td>\n",
              "      <td>1455</td>\n",
              "      <td>1459</td>\n",
              "      <td>1459</td>\n",
              "      <td>1459</td>\n",
              "      <td>1459</td>\n",
              "      <td>1457</td>\n",
              "      <td>1459</td>\n",
              "      <td>1459</td>\n",
              "      <td>1459</td>\n",
              "      <td>1459</td>\n",
              "      <td>1459</td>\n",
              "      <td>1459</td>\n",
              "      <td>1459</td>\n",
              "      <td>1459</td>\n",
              "      <td>1459</td>\n",
              "      <td>1458</td>\n",
              "      <td>1458</td>\n",
              "      <td>1459</td>\n",
              "      <td>1459</td>\n",
              "      <td>1459</td>\n",
              "      <td>1459</td>\n",
              "      <td>1459</td>\n",
              "      <td>1459</td>\n",
              "      <td>1459</td>\n",
              "      <td>1458</td>\n",
              "      <td>1459</td>\n",
              "      <td>1459</td>\n",
              "      <td>1459</td>\n",
              "      <td>1459</td>\n",
              "      <td>1459</td>\n",
              "      <td>1459</td>\n",
              "      <td>1459</td>\n",
              "      <td>1459</td>\n",
              "      <td>1459</td>\n",
              "      <td>1459</td>\n",
              "      <td>1458</td>\n",
              "      <td>1457</td>\n",
              "      <td>1459</td>\n",
              "      <td>1459</td>\n",
              "      <td>1459</td>\n",
              "      <td>1458.0</td>\n",
              "      <td>1459</td>\n",
              "      <td>1459</td>\n",
              "      <td>1459</td>\n",
              "      <td>1459</td>\n",
              "      <td>1459</td>\n",
              "      <td>1459</td>\n",
              "      <td>1459</td>\n",
              "      <td>1459</td>\n",
              "    </tr>\n",
              "    <tr>\n",
              "      <th>unique</th>\n",
              "      <td>16</td>\n",
              "      <td>5</td>\n",
              "      <td>2</td>\n",
              "      <td>3</td>\n",
              "      <td>4</td>\n",
              "      <td>4</td>\n",
              "      <td>1</td>\n",
              "      <td>5</td>\n",
              "      <td>3</td>\n",
              "      <td>25</td>\n",
              "      <td>9</td>\n",
              "      <td>5</td>\n",
              "      <td>5</td>\n",
              "      <td>7</td>\n",
              "      <td>6</td>\n",
              "      <td>4</td>\n",
              "      <td>13</td>\n",
              "      <td>15</td>\n",
              "      <td>4</td>\n",
              "      <td>6</td>\n",
              "      <td>4</td>\n",
              "      <td>5</td>\n",
              "      <td>4</td>\n",
              "      <td>7</td>\n",
              "      <td>4</td>\n",
              "      <td>9</td>\n",
              "      <td>6</td>\n",
              "      <td>10</td>\n",
              "      <td>9</td>\n",
              "      <td>4</td>\n",
              "      <td>5</td>\n",
              "      <td>5</td>\n",
              "      <td>5</td>\n",
              "      <td>5</td>\n",
              "      <td>7</td>\n",
              "      <td>7</td>\n",
              "      <td>4</td>\n",
              "      <td>7</td>\n",
              "      <td>5</td>\n",
              "      <td>6</td>\n",
              "      <td>4</td>\n",
              "      <td>6.0</td>\n",
              "      <td>5</td>\n",
              "      <td>6</td>\n",
              "      <td>3</td>\n",
              "      <td>5</td>\n",
              "      <td>12</td>\n",
              "      <td>5</td>\n",
              "      <td>2</td>\n",
              "      <td>3</td>\n",
              "    </tr>\n",
              "    <tr>\n",
              "      <th>top</th>\n",
              "      <td>A</td>\n",
              "      <td>RL</td>\n",
              "      <td>Pave</td>\n",
              "      <td>NA</td>\n",
              "      <td>Reg</td>\n",
              "      <td>Lvl</td>\n",
              "      <td>AllPub</td>\n",
              "      <td>Inside</td>\n",
              "      <td>Gtl</td>\n",
              "      <td>NAmes</td>\n",
              "      <td>Norm</td>\n",
              "      <td>Norm</td>\n",
              "      <td>1Fam</td>\n",
              "      <td>1Story</td>\n",
              "      <td>Gable</td>\n",
              "      <td>CompShg</td>\n",
              "      <td>VinylSd</td>\n",
              "      <td>VinylSd</td>\n",
              "      <td>None</td>\n",
              "      <td>PConc</td>\n",
              "      <td>GasA</td>\n",
              "      <td>5</td>\n",
              "      <td>SBrkr</td>\n",
              "      <td>Attchd</td>\n",
              "      <td>NA</td>\n",
              "      <td>WD</td>\n",
              "      <td>Normal</td>\n",
              "      <td>5</td>\n",
              "      <td>5</td>\n",
              "      <td>3</td>\n",
              "      <td>3</td>\n",
              "      <td>3</td>\n",
              "      <td>3</td>\n",
              "      <td>1</td>\n",
              "      <td>6</td>\n",
              "      <td>1</td>\n",
              "      <td>3</td>\n",
              "      <td>8</td>\n",
              "      <td>0</td>\n",
              "      <td>0</td>\n",
              "      <td>1</td>\n",
              "      <td>2.0</td>\n",
              "      <td>3</td>\n",
              "      <td>3</td>\n",
              "      <td>0</td>\n",
              "      <td>NA</td>\n",
              "      <td>6</td>\n",
              "      <td>2007</td>\n",
              "      <td>1</td>\n",
              "      <td>2</td>\n",
              "    </tr>\n",
              "    <tr>\n",
              "      <th>freq</th>\n",
              "      <td>543</td>\n",
              "      <td>1114</td>\n",
              "      <td>1453</td>\n",
              "      <td>1352</td>\n",
              "      <td>934</td>\n",
              "      <td>1311</td>\n",
              "      <td>1457</td>\n",
              "      <td>1081</td>\n",
              "      <td>1396</td>\n",
              "      <td>218</td>\n",
              "      <td>1251</td>\n",
              "      <td>1444</td>\n",
              "      <td>1205</td>\n",
              "      <td>745</td>\n",
              "      <td>1169</td>\n",
              "      <td>1442</td>\n",
              "      <td>510</td>\n",
              "      <td>510</td>\n",
              "      <td>894</td>\n",
              "      <td>661</td>\n",
              "      <td>1446</td>\n",
              "      <td>752</td>\n",
              "      <td>1337</td>\n",
              "      <td>853</td>\n",
              "      <td>1408</td>\n",
              "      <td>1258</td>\n",
              "      <td>1204</td>\n",
              "      <td>428</td>\n",
              "      <td>824</td>\n",
              "      <td>892</td>\n",
              "      <td>1256</td>\n",
              "      <td>634</td>\n",
              "      <td>1295</td>\n",
              "      <td>951</td>\n",
              "      <td>431</td>\n",
              "      <td>1237</td>\n",
              "      <td>757</td>\n",
              "      <td>1357</td>\n",
              "      <td>730</td>\n",
              "      <td>730</td>\n",
              "      <td>625</td>\n",
              "      <td>770.0</td>\n",
              "      <td>1293</td>\n",
              "      <td>1328</td>\n",
              "      <td>1456</td>\n",
              "      <td>1169</td>\n",
              "      <td>250</td>\n",
              "      <td>363</td>\n",
              "      <td>1358</td>\n",
              "      <td>1301</td>\n",
              "    </tr>\n",
              "  </tbody>\n",
              "</table>\n",
              "</div>"
            ],
            "text/plain": [
              "       MSSubClass MSZoning Street Alley  ... MoSold YrSold CentralAir PavedDrive\n",
              "count        1459     1455   1459  1459  ...   1459   1459       1459       1459\n",
              "unique         16        5      2     3  ...     12      5          2          3\n",
              "top             A       RL   Pave    NA  ...      6   2007          1          2\n",
              "freq          543     1114   1453  1352  ...    250    363       1358       1301\n",
              "\n",
              "[4 rows x 50 columns]"
            ]
          },
          "metadata": {
            "tags": []
          },
          "execution_count": 73
        }
      ]
    },
    {
      "cell_type": "code",
      "metadata": {
        "id": "GWcMTsM0g1Yn",
        "colab": {
          "base_uri": "https://localhost:8080/",
          "height": 189
        },
        "outputId": "685ebb59-4fdb-475c-c1b0-ebfba889809e"
      },
      "source": [
        "train3[categorical].describe()"
      ],
      "execution_count": null,
      "outputs": [
        {
          "output_type": "execute_result",
          "data": {
            "text/html": [
              "<div>\n",
              "<style scoped>\n",
              "    .dataframe tbody tr th:only-of-type {\n",
              "        vertical-align: middle;\n",
              "    }\n",
              "\n",
              "    .dataframe tbody tr th {\n",
              "        vertical-align: top;\n",
              "    }\n",
              "\n",
              "    .dataframe thead th {\n",
              "        text-align: right;\n",
              "    }\n",
              "</style>\n",
              "<table border=\"1\" class=\"dataframe\">\n",
              "  <thead>\n",
              "    <tr style=\"text-align: right;\">\n",
              "      <th></th>\n",
              "      <th>MSSubClass</th>\n",
              "      <th>MSZoning</th>\n",
              "      <th>Street</th>\n",
              "      <th>Alley</th>\n",
              "      <th>LotShape</th>\n",
              "      <th>LandContour</th>\n",
              "      <th>Utilities</th>\n",
              "      <th>LotConfig</th>\n",
              "      <th>LandSlope</th>\n",
              "      <th>Neighborhood</th>\n",
              "      <th>Condition1</th>\n",
              "      <th>Condition2</th>\n",
              "      <th>BldgType</th>\n",
              "      <th>HouseStyle</th>\n",
              "      <th>RoofStyle</th>\n",
              "      <th>RoofMatl</th>\n",
              "      <th>Exterior1st</th>\n",
              "      <th>Exterior2nd</th>\n",
              "      <th>MasVnrType</th>\n",
              "      <th>Foundation</th>\n",
              "      <th>Heating</th>\n",
              "      <th>HeatingQC</th>\n",
              "      <th>Electrical</th>\n",
              "      <th>GarageType</th>\n",
              "      <th>MiscFeature</th>\n",
              "      <th>SaleType</th>\n",
              "      <th>SaleCondition</th>\n",
              "      <th>OverallQual</th>\n",
              "      <th>OverallCond</th>\n",
              "      <th>ExterQual</th>\n",
              "      <th>ExterCond</th>\n",
              "      <th>BsmtQual</th>\n",
              "      <th>BsmtCond</th>\n",
              "      <th>BsmtExposure</th>\n",
              "      <th>BsmtFinType1</th>\n",
              "      <th>BsmtFinType2</th>\n",
              "      <th>KitchenQual</th>\n",
              "      <th>Functional</th>\n",
              "      <th>Fireplaces</th>\n",
              "      <th>FireplaceQu</th>\n",
              "      <th>GarageFinish</th>\n",
              "      <th>GarageCars</th>\n",
              "      <th>GarageQual</th>\n",
              "      <th>GarageCond</th>\n",
              "      <th>PoolQC</th>\n",
              "      <th>Fence</th>\n",
              "      <th>MoSold</th>\n",
              "      <th>YrSold</th>\n",
              "      <th>CentralAir</th>\n",
              "      <th>PavedDrive</th>\n",
              "    </tr>\n",
              "  </thead>\n",
              "  <tbody>\n",
              "    <tr>\n",
              "      <th>count</th>\n",
              "      <td>1460</td>\n",
              "      <td>1460</td>\n",
              "      <td>1460</td>\n",
              "      <td>1460</td>\n",
              "      <td>1460</td>\n",
              "      <td>1460</td>\n",
              "      <td>1460</td>\n",
              "      <td>1460</td>\n",
              "      <td>1460</td>\n",
              "      <td>1460</td>\n",
              "      <td>1460</td>\n",
              "      <td>1460</td>\n",
              "      <td>1460</td>\n",
              "      <td>1460</td>\n",
              "      <td>1460</td>\n",
              "      <td>1460</td>\n",
              "      <td>1460</td>\n",
              "      <td>1460</td>\n",
              "      <td>1460</td>\n",
              "      <td>1460</td>\n",
              "      <td>1460</td>\n",
              "      <td>1460</td>\n",
              "      <td>1460</td>\n",
              "      <td>1460</td>\n",
              "      <td>1460</td>\n",
              "      <td>1460</td>\n",
              "      <td>1460</td>\n",
              "      <td>1460</td>\n",
              "      <td>1460</td>\n",
              "      <td>1460</td>\n",
              "      <td>1460</td>\n",
              "      <td>1460</td>\n",
              "      <td>1460</td>\n",
              "      <td>1460</td>\n",
              "      <td>1460</td>\n",
              "      <td>1460</td>\n",
              "      <td>1460</td>\n",
              "      <td>1460</td>\n",
              "      <td>1460</td>\n",
              "      <td>1460</td>\n",
              "      <td>1460</td>\n",
              "      <td>1460</td>\n",
              "      <td>1460</td>\n",
              "      <td>1460</td>\n",
              "      <td>1460</td>\n",
              "      <td>1460</td>\n",
              "      <td>1460</td>\n",
              "      <td>1460</td>\n",
              "      <td>1460</td>\n",
              "      <td>1460</td>\n",
              "    </tr>\n",
              "    <tr>\n",
              "      <th>unique</th>\n",
              "      <td>15</td>\n",
              "      <td>5</td>\n",
              "      <td>2</td>\n",
              "      <td>3</td>\n",
              "      <td>4</td>\n",
              "      <td>4</td>\n",
              "      <td>2</td>\n",
              "      <td>5</td>\n",
              "      <td>3</td>\n",
              "      <td>25</td>\n",
              "      <td>9</td>\n",
              "      <td>8</td>\n",
              "      <td>5</td>\n",
              "      <td>8</td>\n",
              "      <td>6</td>\n",
              "      <td>8</td>\n",
              "      <td>15</td>\n",
              "      <td>16</td>\n",
              "      <td>4</td>\n",
              "      <td>6</td>\n",
              "      <td>6</td>\n",
              "      <td>5</td>\n",
              "      <td>5</td>\n",
              "      <td>7</td>\n",
              "      <td>5</td>\n",
              "      <td>9</td>\n",
              "      <td>6</td>\n",
              "      <td>10</td>\n",
              "      <td>9</td>\n",
              "      <td>4</td>\n",
              "      <td>5</td>\n",
              "      <td>5</td>\n",
              "      <td>5</td>\n",
              "      <td>5</td>\n",
              "      <td>7</td>\n",
              "      <td>7</td>\n",
              "      <td>4</td>\n",
              "      <td>7</td>\n",
              "      <td>4</td>\n",
              "      <td>6</td>\n",
              "      <td>4</td>\n",
              "      <td>5</td>\n",
              "      <td>6</td>\n",
              "      <td>6</td>\n",
              "      <td>4</td>\n",
              "      <td>5</td>\n",
              "      <td>12</td>\n",
              "      <td>5</td>\n",
              "      <td>2</td>\n",
              "      <td>3</td>\n",
              "    </tr>\n",
              "    <tr>\n",
              "      <th>top</th>\n",
              "      <td>A</td>\n",
              "      <td>RL</td>\n",
              "      <td>Pave</td>\n",
              "      <td>NA</td>\n",
              "      <td>Reg</td>\n",
              "      <td>Lvl</td>\n",
              "      <td>AllPub</td>\n",
              "      <td>Inside</td>\n",
              "      <td>Gtl</td>\n",
              "      <td>NAmes</td>\n",
              "      <td>Norm</td>\n",
              "      <td>Norm</td>\n",
              "      <td>1Fam</td>\n",
              "      <td>1Story</td>\n",
              "      <td>Gable</td>\n",
              "      <td>CompShg</td>\n",
              "      <td>VinylSd</td>\n",
              "      <td>VinylSd</td>\n",
              "      <td>None</td>\n",
              "      <td>PConc</td>\n",
              "      <td>GasA</td>\n",
              "      <td>5</td>\n",
              "      <td>SBrkr</td>\n",
              "      <td>Attchd</td>\n",
              "      <td>NA</td>\n",
              "      <td>WD</td>\n",
              "      <td>Normal</td>\n",
              "      <td>5</td>\n",
              "      <td>5</td>\n",
              "      <td>3</td>\n",
              "      <td>3</td>\n",
              "      <td>3</td>\n",
              "      <td>3</td>\n",
              "      <td>1</td>\n",
              "      <td>1</td>\n",
              "      <td>1</td>\n",
              "      <td>3</td>\n",
              "      <td>8</td>\n",
              "      <td>0</td>\n",
              "      <td>0</td>\n",
              "      <td>1</td>\n",
              "      <td>2</td>\n",
              "      <td>3</td>\n",
              "      <td>3</td>\n",
              "      <td>0</td>\n",
              "      <td>NA</td>\n",
              "      <td>6</td>\n",
              "      <td>2009</td>\n",
              "      <td>1</td>\n",
              "      <td>2</td>\n",
              "    </tr>\n",
              "    <tr>\n",
              "      <th>freq</th>\n",
              "      <td>536</td>\n",
              "      <td>1151</td>\n",
              "      <td>1454</td>\n",
              "      <td>1369</td>\n",
              "      <td>925</td>\n",
              "      <td>1311</td>\n",
              "      <td>1459</td>\n",
              "      <td>1052</td>\n",
              "      <td>1382</td>\n",
              "      <td>225</td>\n",
              "      <td>1260</td>\n",
              "      <td>1445</td>\n",
              "      <td>1220</td>\n",
              "      <td>726</td>\n",
              "      <td>1141</td>\n",
              "      <td>1434</td>\n",
              "      <td>515</td>\n",
              "      <td>504</td>\n",
              "      <td>872</td>\n",
              "      <td>647</td>\n",
              "      <td>1428</td>\n",
              "      <td>741</td>\n",
              "      <td>1335</td>\n",
              "      <td>870</td>\n",
              "      <td>1406</td>\n",
              "      <td>1267</td>\n",
              "      <td>1198</td>\n",
              "      <td>397</td>\n",
              "      <td>821</td>\n",
              "      <td>906</td>\n",
              "      <td>1282</td>\n",
              "      <td>649</td>\n",
              "      <td>1311</td>\n",
              "      <td>953</td>\n",
              "      <td>430</td>\n",
              "      <td>1256</td>\n",
              "      <td>735</td>\n",
              "      <td>1360</td>\n",
              "      <td>690</td>\n",
              "      <td>690</td>\n",
              "      <td>605</td>\n",
              "      <td>824</td>\n",
              "      <td>1311</td>\n",
              "      <td>1326</td>\n",
              "      <td>1453</td>\n",
              "      <td>1179</td>\n",
              "      <td>253</td>\n",
              "      <td>338</td>\n",
              "      <td>1365</td>\n",
              "      <td>1340</td>\n",
              "    </tr>\n",
              "  </tbody>\n",
              "</table>\n",
              "</div>"
            ],
            "text/plain": [
              "       MSSubClass MSZoning Street Alley  ... MoSold YrSold CentralAir PavedDrive\n",
              "count        1460     1460   1460  1460  ...   1460   1460       1460       1460\n",
              "unique         15        5      2     3  ...     12      5          2          3\n",
              "top             A       RL   Pave    NA  ...      6   2009          1          2\n",
              "freq          536     1151   1454  1369  ...    253    338       1365       1340\n",
              "\n",
              "[4 rows x 50 columns]"
            ]
          },
          "metadata": {
            "tags": []
          },
          "execution_count": 74
        }
      ]
    },
    {
      "cell_type": "markdown",
      "metadata": {
        "id": "xbpn0B0-qbSW"
      },
      "source": [
        "# Fill NaN of test values test3/train3"
      ]
    },
    {
      "cell_type": "code",
      "metadata": {
        "id": "Td_VCduCEjOe"
      },
      "source": [
        "test3 = test2.copy()\n",
        "train3 = train2.copy()"
      ],
      "execution_count": null,
      "outputs": []
    },
    {
      "cell_type": "code",
      "metadata": {
        "id": "5dSUHkAPqell"
      },
      "source": [
        "# Fill with the most frequently value - category values\n",
        "test_nan_categ =['MSZoning','Utilities','Exterior1st','Exterior2nd','KitchenQual','Functional','GarageCars','SaleType']\n",
        "\n",
        "#Fill with de mean - float and integer values\n",
        "test_nan_float= ['BsmtFinSF1','BsmtFinSF2','BsmtUnfSF','TotalBsmtSF','BsmtFullBath','BsmtHalfBath','GarageArea']"
      ],
      "execution_count": null,
      "outputs": []
    },
    {
      "cell_type": "code",
      "metadata": {
        "id": "repzJTx5qelo",
        "colab": {
          "base_uri": "https://localhost:8080/"
        },
        "outputId": "842c91a6-f8fa-4e43-94f9-6601ea38888c"
      },
      "source": [
        "fill_float = test3[test_nan_float].mean().round()\n",
        "fill_float"
      ],
      "execution_count": null,
      "outputs": [
        {
          "output_type": "execute_result",
          "data": {
            "text/plain": [
              "BsmtFinSF1       439.0\n",
              "BsmtFinSF2        53.0\n",
              "BsmtUnfSF        554.0\n",
              "TotalBsmtSF     1046.0\n",
              "BsmtFullBath       0.0\n",
              "BsmtHalfBath       0.0\n",
              "GarageArea       473.0\n",
              "dtype: float64"
            ]
          },
          "metadata": {
            "tags": []
          },
          "execution_count": 77
        }
      ]
    },
    {
      "cell_type": "code",
      "metadata": {
        "id": "AZtoIL4iqelq"
      },
      "source": [
        "test3 = test3.fillna(fill_float)"
      ],
      "execution_count": null,
      "outputs": []
    },
    {
      "cell_type": "markdown",
      "metadata": {
        "id": "SHsChxVzqelr"
      },
      "source": [
        "- Fill the category values with most frequently"
      ]
    },
    {
      "cell_type": "code",
      "metadata": {
        "id": "hAouI_N0qels"
      },
      "source": [
        "test3 = test3.fillna({'MSZoning':test3.MSZoning.value_counts().index[0]})\n",
        "\n",
        "test3 = test3.fillna({'Utilities':test3.Utilities.value_counts().index[0]})\n",
        "\n",
        "test3 = test3.fillna({'Exterior2nd':test3.Exterior2nd.value_counts().index[0]})\n",
        "\n",
        "test3 = test3.fillna({'Exterior1st':test3.Exterior1st.value_counts().index[0]})\n",
        "\n",
        "test3 = test3.fillna({'KitchenQual':test3.KitchenQual.value_counts().index[0]})\n",
        "\n",
        "test3 = test3.fillna({'Functional':test3.Functional.value_counts().index[0]})\n",
        "\n",
        "test3 = test3.fillna({'GarageCars':test3.GarageCars.value_counts().index[0]})\n",
        "\n",
        "test3 = test3.fillna({'SaleType':test3.SaleType.value_counts().index[0]})"
      ],
      "execution_count": null,
      "outputs": []
    },
    {
      "cell_type": "markdown",
      "metadata": {
        "id": "4nQI2n_wBPFw"
      },
      "source": [
        "# Features engineering"
      ]
    },
    {
      "cell_type": "code",
      "metadata": {
        "id": "eLqok7LuBTaF"
      },
      "source": [
        "train_eng = train3.copy()\n",
        "test_eng = test3.copy()"
      ],
      "execution_count": null,
      "outputs": []
    },
    {
      "cell_type": "code",
      "metadata": {
        "id": "RY0_n64N8ebl",
        "colab": {
          "base_uri": "https://localhost:8080/"
        },
        "outputId": "86f1ce22-a75a-44d6-fd64-e49789d546a8"
      },
      "source": [
        "train_eng.info()"
      ],
      "execution_count": null,
      "outputs": [
        {
          "output_type": "stream",
          "text": [
            "<class 'pandas.core.frame.DataFrame'>\n",
            "RangeIndex: 1460 entries, 0 to 1459\n",
            "Data columns (total 81 columns):\n",
            " #   Column         Non-Null Count  Dtype   \n",
            "---  ------         --------------  -----   \n",
            " 0   Id             1460 non-null   int64   \n",
            " 1   MSSubClass     1460 non-null   category\n",
            " 2   MSZoning       1460 non-null   category\n",
            " 3   LotFrontage    1201 non-null   float64 \n",
            " 4   LotArea        1460 non-null   int64   \n",
            " 5   Street         1460 non-null   category\n",
            " 6   Alley          1460 non-null   category\n",
            " 7   LotShape       1460 non-null   category\n",
            " 8   LandContour    1460 non-null   category\n",
            " 9   Utilities      1460 non-null   category\n",
            " 10  LotConfig      1460 non-null   category\n",
            " 11  LandSlope      1460 non-null   category\n",
            " 12  Neighborhood   1460 non-null   category\n",
            " 13  Condition1     1460 non-null   category\n",
            " 14  Condition2     1460 non-null   category\n",
            " 15  BldgType       1460 non-null   category\n",
            " 16  HouseStyle     1460 non-null   category\n",
            " 17  OverallQual    1460 non-null   category\n",
            " 18  OverallCond    1460 non-null   category\n",
            " 19  YearBuilt      1460 non-null   int64   \n",
            " 20  YearRemodAdd   1460 non-null   int64   \n",
            " 21  RoofStyle      1460 non-null   category\n",
            " 22  RoofMatl       1460 non-null   category\n",
            " 23  Exterior1st    1460 non-null   category\n",
            " 24  Exterior2nd    1460 non-null   category\n",
            " 25  MasVnrType     1460 non-null   category\n",
            " 26  MasVnrArea     1460 non-null   float64 \n",
            " 27  ExterQual      1460 non-null   category\n",
            " 28  ExterCond      1460 non-null   category\n",
            " 29  Foundation     1460 non-null   category\n",
            " 30  BsmtQual       1460 non-null   category\n",
            " 31  BsmtCond       1460 non-null   category\n",
            " 32  BsmtExposure   1460 non-null   category\n",
            " 33  BsmtFinType1   1460 non-null   category\n",
            " 34  BsmtFinSF1     1460 non-null   int64   \n",
            " 35  BsmtFinType2   1460 non-null   category\n",
            " 36  BsmtFinSF2     1460 non-null   int64   \n",
            " 37  BsmtUnfSF      1460 non-null   int64   \n",
            " 38  TotalBsmtSF    1460 non-null   int64   \n",
            " 39  Heating        1460 non-null   category\n",
            " 40  HeatingQC      1460 non-null   category\n",
            " 41  CentralAir     1460 non-null   category\n",
            " 42  Electrical     1460 non-null   category\n",
            " 43  1stFlrSF       1460 non-null   int64   \n",
            " 44  2ndFlrSF       1460 non-null   int64   \n",
            " 45  LowQualFinSF   1460 non-null   int64   \n",
            " 46  GrLivArea      1460 non-null   int64   \n",
            " 47  BsmtFullBath   1460 non-null   int64   \n",
            " 48  BsmtHalfBath   1460 non-null   int64   \n",
            " 49  FullBath       1460 non-null   int64   \n",
            " 50  HalfBath       1460 non-null   int64   \n",
            " 51  BedroomAbvGr   1460 non-null   int64   \n",
            " 52  KitchenAbvGr   1460 non-null   int64   \n",
            " 53  KitchenQual    1460 non-null   category\n",
            " 54  TotRmsAbvGrd   1460 non-null   int64   \n",
            " 55  Functional     1460 non-null   category\n",
            " 56  Fireplaces     1460 non-null   category\n",
            " 57  FireplaceQu    1460 non-null   category\n",
            " 58  GarageType     1460 non-null   category\n",
            " 59  GarageYrBlt    1379 non-null   float64 \n",
            " 60  GarageFinish   1460 non-null   category\n",
            " 61  GarageCars     1460 non-null   category\n",
            " 62  GarageArea     1460 non-null   int64   \n",
            " 63  GarageQual     1460 non-null   category\n",
            " 64  GarageCond     1460 non-null   category\n",
            " 65  PavedDrive     1460 non-null   category\n",
            " 66  WoodDeckSF     1460 non-null   int64   \n",
            " 67  OpenPorchSF    1460 non-null   int64   \n",
            " 68  EnclosedPorch  1460 non-null   int64   \n",
            " 69  3SsnPorch      1460 non-null   int64   \n",
            " 70  ScreenPorch    1460 non-null   int64   \n",
            " 71  PoolArea       1460 non-null   int64   \n",
            " 72  PoolQC         1460 non-null   category\n",
            " 73  Fence          1460 non-null   category\n",
            " 74  MiscFeature    1460 non-null   category\n",
            " 75  MiscVal        1460 non-null   int64   \n",
            " 76  MoSold         1460 non-null   category\n",
            " 77  YrSold         1460 non-null   category\n",
            " 78  SaleType       1460 non-null   category\n",
            " 79  SaleCondition  1460 non-null   category\n",
            " 80  SalePrice      1460 non-null   int64   \n",
            "dtypes: category(50), float64(3), int64(28)\n",
            "memory usage: 438.6 KB\n"
          ],
          "name": "stdout"
        }
      ]
    },
    {
      "cell_type": "code",
      "metadata": {
        "id": "rZohUEUrq_IE"
      },
      "source": [
        "train_eng['All_Bath'] = train_eng['FullBath'] + 1/2*train_eng['HalfBath']\n",
        "\n",
        "test_eng['All_Bath'] = test_eng['FullBath'] + 1/2*test_eng['HalfBath']"
      ],
      "execution_count": null,
      "outputs": []
    },
    {
      "cell_type": "code",
      "metadata": {
        "id": "8xqL1CtBGPZ-"
      },
      "source": [
        "train_eng['Have_fireplace'] = train_eng['Fireplaces'].where(train_eng['Fireplaces']==0,1).astype('int')\n",
        "\n",
        "test_eng['Have_fireplace'] = test_eng['Fireplaces'].where(test_eng['Fireplaces']==0,1).astype('int')\n"
      ],
      "execution_count": null,
      "outputs": []
    },
    {
      "cell_type": "code",
      "metadata": {
        "id": "TQ33HQ7RIR_V",
        "colab": {
          "base_uri": "https://localhost:8080/"
        },
        "outputId": "ac3d96c1-0a43-4fa9-8421-46c6ae861dc0"
      },
      "source": [
        "train_eng.corr().SalePrice"
      ],
      "execution_count": null,
      "outputs": [
        {
          "output_type": "execute_result",
          "data": {
            "text/plain": [
              "Id               -0.021917\n",
              "LotFrontage       0.351799\n",
              "LotArea           0.263843\n",
              "YearBuilt         0.522897\n",
              "YearRemodAdd      0.507101\n",
              "MasVnrArea        0.472614\n",
              "BsmtFinSF1        0.386420\n",
              "BsmtFinSF2       -0.011378\n",
              "BsmtUnfSF         0.214479\n",
              "TotalBsmtSF       0.613581\n",
              "1stFlrSF          0.605852\n",
              "2ndFlrSF          0.319334\n",
              "LowQualFinSF     -0.025606\n",
              "GrLivArea         0.708624\n",
              "BsmtFullBath      0.227122\n",
              "BsmtHalfBath     -0.016844\n",
              "FullBath          0.560664\n",
              "HalfBath          0.284108\n",
              "BedroomAbvGr      0.168213\n",
              "KitchenAbvGr     -0.135907\n",
              "TotRmsAbvGrd      0.533723\n",
              "GarageYrBlt       0.486362\n",
              "GarageArea        0.623431\n",
              "WoodDeckSF        0.324413\n",
              "OpenPorchSF       0.315856\n",
              "EnclosedPorch    -0.128578\n",
              "3SsnPorch         0.044584\n",
              "ScreenPorch       0.111447\n",
              "PoolArea          0.092404\n",
              "MiscVal          -0.021190\n",
              "SalePrice         1.000000\n",
              "All_Bath          0.597966\n",
              "Have_fireplace    0.471908\n",
              "Name: SalePrice, dtype: float64"
            ]
          },
          "metadata": {
            "tags": []
          },
          "execution_count": 84
        }
      ]
    },
    {
      "cell_type": "code",
      "metadata": {
        "id": "yY_eHcLrr-lO",
        "colab": {
          "base_uri": "https://localhost:8080/",
          "height": 351
        },
        "outputId": "b6a84739-e308-4f92-8bc3-bcd9cef1b5cc"
      },
      "source": [
        "train_eng[['YearBuilt','YearRemodAdd']].head(10)"
      ],
      "execution_count": null,
      "outputs": [
        {
          "output_type": "execute_result",
          "data": {
            "text/html": [
              "<div>\n",
              "<style scoped>\n",
              "    .dataframe tbody tr th:only-of-type {\n",
              "        vertical-align: middle;\n",
              "    }\n",
              "\n",
              "    .dataframe tbody tr th {\n",
              "        vertical-align: top;\n",
              "    }\n",
              "\n",
              "    .dataframe thead th {\n",
              "        text-align: right;\n",
              "    }\n",
              "</style>\n",
              "<table border=\"1\" class=\"dataframe\">\n",
              "  <thead>\n",
              "    <tr style=\"text-align: right;\">\n",
              "      <th></th>\n",
              "      <th>YearBuilt</th>\n",
              "      <th>YearRemodAdd</th>\n",
              "    </tr>\n",
              "  </thead>\n",
              "  <tbody>\n",
              "    <tr>\n",
              "      <th>0</th>\n",
              "      <td>2003</td>\n",
              "      <td>2003</td>\n",
              "    </tr>\n",
              "    <tr>\n",
              "      <th>1</th>\n",
              "      <td>1976</td>\n",
              "      <td>1976</td>\n",
              "    </tr>\n",
              "    <tr>\n",
              "      <th>2</th>\n",
              "      <td>2001</td>\n",
              "      <td>2002</td>\n",
              "    </tr>\n",
              "    <tr>\n",
              "      <th>3</th>\n",
              "      <td>1915</td>\n",
              "      <td>1970</td>\n",
              "    </tr>\n",
              "    <tr>\n",
              "      <th>4</th>\n",
              "      <td>2000</td>\n",
              "      <td>2000</td>\n",
              "    </tr>\n",
              "    <tr>\n",
              "      <th>5</th>\n",
              "      <td>1993</td>\n",
              "      <td>1995</td>\n",
              "    </tr>\n",
              "    <tr>\n",
              "      <th>6</th>\n",
              "      <td>2004</td>\n",
              "      <td>2005</td>\n",
              "    </tr>\n",
              "    <tr>\n",
              "      <th>7</th>\n",
              "      <td>1973</td>\n",
              "      <td>1973</td>\n",
              "    </tr>\n",
              "    <tr>\n",
              "      <th>8</th>\n",
              "      <td>1931</td>\n",
              "      <td>1950</td>\n",
              "    </tr>\n",
              "    <tr>\n",
              "      <th>9</th>\n",
              "      <td>1939</td>\n",
              "      <td>1950</td>\n",
              "    </tr>\n",
              "  </tbody>\n",
              "</table>\n",
              "</div>"
            ],
            "text/plain": [
              "   YearBuilt  YearRemodAdd\n",
              "0       2003          2003\n",
              "1       1976          1976\n",
              "2       2001          2002\n",
              "3       1915          1970\n",
              "4       2000          2000\n",
              "5       1993          1995\n",
              "6       2004          2005\n",
              "7       1973          1973\n",
              "8       1931          1950\n",
              "9       1939          1950"
            ]
          },
          "metadata": {
            "tags": []
          },
          "execution_count": 85
        }
      ]
    },
    {
      "cell_type": "code",
      "metadata": {
        "id": "2htU6KPR8uC8"
      },
      "source": [
        "train_eng['Year_BuildRem']= (train_eng['YearBuilt'] + train_eng['YearRemodAdd'])/2\n",
        "\n",
        "test_eng['Year_BuildRem']= (test_eng['YearBuilt'] + test_eng['YearRemodAdd'])/2"
      ],
      "execution_count": null,
      "outputs": []
    },
    {
      "cell_type": "code",
      "metadata": {
        "id": "hZoBfWib1GJu"
      },
      "source": [
        "train_eng['Total_SF']=train_eng['TotalBsmtSF'] + train_eng['1stFlrSF'] + train_eng['2ndFlrSF']\n",
        "\n",
        "test_eng['Total_SF']=test_eng['TotalBsmtSF'] + test_eng['1stFlrSF'] + test_eng['2ndFlrSF']\n"
      ],
      "execution_count": null,
      "outputs": []
    },
    {
      "cell_type": "code",
      "metadata": {
        "id": "pUpH_k_J8OO_",
        "colab": {
          "base_uri": "https://localhost:8080/"
        },
        "outputId": "edebb527-cb32-4218-fc71-da0db2a9d255"
      },
      "source": [
        "train_eng.info()"
      ],
      "execution_count": null,
      "outputs": [
        {
          "output_type": "stream",
          "text": [
            "<class 'pandas.core.frame.DataFrame'>\n",
            "RangeIndex: 1460 entries, 0 to 1459\n",
            "Data columns (total 85 columns):\n",
            " #   Column          Non-Null Count  Dtype   \n",
            "---  ------          --------------  -----   \n",
            " 0   Id              1460 non-null   int64   \n",
            " 1   MSSubClass      1460 non-null   category\n",
            " 2   MSZoning        1460 non-null   category\n",
            " 3   LotFrontage     1201 non-null   float64 \n",
            " 4   LotArea         1460 non-null   int64   \n",
            " 5   Street          1460 non-null   category\n",
            " 6   Alley           1460 non-null   category\n",
            " 7   LotShape        1460 non-null   category\n",
            " 8   LandContour     1460 non-null   category\n",
            " 9   Utilities       1460 non-null   category\n",
            " 10  LotConfig       1460 non-null   category\n",
            " 11  LandSlope       1460 non-null   category\n",
            " 12  Neighborhood    1460 non-null   category\n",
            " 13  Condition1      1460 non-null   category\n",
            " 14  Condition2      1460 non-null   category\n",
            " 15  BldgType        1460 non-null   category\n",
            " 16  HouseStyle      1460 non-null   category\n",
            " 17  OverallQual     1460 non-null   category\n",
            " 18  OverallCond     1460 non-null   category\n",
            " 19  YearBuilt       1460 non-null   int64   \n",
            " 20  YearRemodAdd    1460 non-null   int64   \n",
            " 21  RoofStyle       1460 non-null   category\n",
            " 22  RoofMatl        1460 non-null   category\n",
            " 23  Exterior1st     1460 non-null   category\n",
            " 24  Exterior2nd     1460 non-null   category\n",
            " 25  MasVnrType      1460 non-null   category\n",
            " 26  MasVnrArea      1460 non-null   float64 \n",
            " 27  ExterQual       1460 non-null   category\n",
            " 28  ExterCond       1460 non-null   category\n",
            " 29  Foundation      1460 non-null   category\n",
            " 30  BsmtQual        1460 non-null   category\n",
            " 31  BsmtCond        1460 non-null   category\n",
            " 32  BsmtExposure    1460 non-null   category\n",
            " 33  BsmtFinType1    1460 non-null   category\n",
            " 34  BsmtFinSF1      1460 non-null   int64   \n",
            " 35  BsmtFinType2    1460 non-null   category\n",
            " 36  BsmtFinSF2      1460 non-null   int64   \n",
            " 37  BsmtUnfSF       1460 non-null   int64   \n",
            " 38  TotalBsmtSF     1460 non-null   int64   \n",
            " 39  Heating         1460 non-null   category\n",
            " 40  HeatingQC       1460 non-null   category\n",
            " 41  CentralAir      1460 non-null   category\n",
            " 42  Electrical      1460 non-null   category\n",
            " 43  1stFlrSF        1460 non-null   int64   \n",
            " 44  2ndFlrSF        1460 non-null   int64   \n",
            " 45  LowQualFinSF    1460 non-null   int64   \n",
            " 46  GrLivArea       1460 non-null   int64   \n",
            " 47  BsmtFullBath    1460 non-null   int64   \n",
            " 48  BsmtHalfBath    1460 non-null   int64   \n",
            " 49  FullBath        1460 non-null   int64   \n",
            " 50  HalfBath        1460 non-null   int64   \n",
            " 51  BedroomAbvGr    1460 non-null   int64   \n",
            " 52  KitchenAbvGr    1460 non-null   int64   \n",
            " 53  KitchenQual     1460 non-null   category\n",
            " 54  TotRmsAbvGrd    1460 non-null   int64   \n",
            " 55  Functional      1460 non-null   category\n",
            " 56  Fireplaces      1460 non-null   category\n",
            " 57  FireplaceQu     1460 non-null   category\n",
            " 58  GarageType      1460 non-null   category\n",
            " 59  GarageYrBlt     1379 non-null   float64 \n",
            " 60  GarageFinish    1460 non-null   category\n",
            " 61  GarageCars      1460 non-null   category\n",
            " 62  GarageArea      1460 non-null   int64   \n",
            " 63  GarageQual      1460 non-null   category\n",
            " 64  GarageCond      1460 non-null   category\n",
            " 65  PavedDrive      1460 non-null   category\n",
            " 66  WoodDeckSF      1460 non-null   int64   \n",
            " 67  OpenPorchSF     1460 non-null   int64   \n",
            " 68  EnclosedPorch   1460 non-null   int64   \n",
            " 69  3SsnPorch       1460 non-null   int64   \n",
            " 70  ScreenPorch     1460 non-null   int64   \n",
            " 71  PoolArea        1460 non-null   int64   \n",
            " 72  PoolQC          1460 non-null   category\n",
            " 73  Fence           1460 non-null   category\n",
            " 74  MiscFeature     1460 non-null   category\n",
            " 75  MiscVal         1460 non-null   int64   \n",
            " 76  MoSold          1460 non-null   category\n",
            " 77  YrSold          1460 non-null   category\n",
            " 78  SaleType        1460 non-null   category\n",
            " 79  SaleCondition   1460 non-null   category\n",
            " 80  SalePrice       1460 non-null   int64   \n",
            " 81  All_Bath        1460 non-null   float64 \n",
            " 82  Have_fireplace  1460 non-null   int64   \n",
            " 83  Year_BuildRem   1460 non-null   float64 \n",
            " 84  Total_SF        1460 non-null   int64   \n",
            "dtypes: category(50), float64(5), int64(30)\n",
            "memory usage: 484.3 KB\n"
          ],
          "name": "stdout"
        }
      ]
    },
    {
      "cell_type": "code",
      "metadata": {
        "id": "F629FdV5_5JY"
      },
      "source": [
        "train_eng = train_eng.drop(['YearBuilt','YearRemodAdd'],axis=1)\n",
        "train_eng = train_eng.drop(['TotalBsmtSF','1stFlrSF','2ndFlrSF'], axis=1)\n",
        "train_eng = train_eng.drop(['FullBath', 'HalfBath'], axis=1)"
      ],
      "execution_count": null,
      "outputs": []
    },
    {
      "cell_type": "code",
      "metadata": {
        "id": "zlnRaizfBzkh"
      },
      "source": [
        "test_eng = test_eng.drop(['YearBuilt','YearRemodAdd'],axis=1)\n",
        "test_eng = test_eng.drop(['TotalBsmtSF','1stFlrSF','2ndFlrSF'], axis=1)\n",
        "test_eng = test_eng.drop(['FullBath', 'HalfBath'], axis=1)"
      ],
      "execution_count": null,
      "outputs": []
    },
    {
      "cell_type": "code",
      "metadata": {
        "id": "T0Cw0IeuaDJ2"
      },
      "source": [
        "test_eng['GarageYrBlt'] = test_eng['GarageYrBlt'].fillna(0)\n",
        "train_eng['GarageYrBlt'] = train_eng['GarageYrBlt'].fillna(0)"
      ],
      "execution_count": null,
      "outputs": []
    },
    {
      "cell_type": "code",
      "metadata": {
        "id": "b8MheCi1AuRl",
        "colab": {
          "base_uri": "https://localhost:8080/"
        },
        "outputId": "23a528df-4197-4977-ed7b-6f39027168bc"
      },
      "source": [
        "train_eng.info()"
      ],
      "execution_count": null,
      "outputs": [
        {
          "output_type": "stream",
          "text": [
            "<class 'pandas.core.frame.DataFrame'>\n",
            "RangeIndex: 1460 entries, 0 to 1459\n",
            "Data columns (total 78 columns):\n",
            " #   Column          Non-Null Count  Dtype   \n",
            "---  ------          --------------  -----   \n",
            " 0   Id              1460 non-null   int64   \n",
            " 1   MSSubClass      1460 non-null   category\n",
            " 2   MSZoning        1460 non-null   category\n",
            " 3   LotFrontage     1201 non-null   float64 \n",
            " 4   LotArea         1460 non-null   int64   \n",
            " 5   Street          1460 non-null   category\n",
            " 6   Alley           1460 non-null   category\n",
            " 7   LotShape        1460 non-null   category\n",
            " 8   LandContour     1460 non-null   category\n",
            " 9   Utilities       1460 non-null   category\n",
            " 10  LotConfig       1460 non-null   category\n",
            " 11  LandSlope       1460 non-null   category\n",
            " 12  Neighborhood    1460 non-null   category\n",
            " 13  Condition1      1460 non-null   category\n",
            " 14  Condition2      1460 non-null   category\n",
            " 15  BldgType        1460 non-null   category\n",
            " 16  HouseStyle      1460 non-null   category\n",
            " 17  OverallQual     1460 non-null   category\n",
            " 18  OverallCond     1460 non-null   category\n",
            " 19  RoofStyle       1460 non-null   category\n",
            " 20  RoofMatl        1460 non-null   category\n",
            " 21  Exterior1st     1460 non-null   category\n",
            " 22  Exterior2nd     1460 non-null   category\n",
            " 23  MasVnrType      1460 non-null   category\n",
            " 24  MasVnrArea      1460 non-null   float64 \n",
            " 25  ExterQual       1460 non-null   category\n",
            " 26  ExterCond       1460 non-null   category\n",
            " 27  Foundation      1460 non-null   category\n",
            " 28  BsmtQual        1460 non-null   category\n",
            " 29  BsmtCond        1460 non-null   category\n",
            " 30  BsmtExposure    1460 non-null   category\n",
            " 31  BsmtFinType1    1460 non-null   category\n",
            " 32  BsmtFinSF1      1460 non-null   int64   \n",
            " 33  BsmtFinType2    1460 non-null   category\n",
            " 34  BsmtFinSF2      1460 non-null   int64   \n",
            " 35  BsmtUnfSF       1460 non-null   int64   \n",
            " 36  Heating         1460 non-null   category\n",
            " 37  HeatingQC       1460 non-null   category\n",
            " 38  CentralAir      1460 non-null   category\n",
            " 39  Electrical      1460 non-null   category\n",
            " 40  LowQualFinSF    1460 non-null   int64   \n",
            " 41  GrLivArea       1460 non-null   int64   \n",
            " 42  BsmtFullBath    1460 non-null   int64   \n",
            " 43  BsmtHalfBath    1460 non-null   int64   \n",
            " 44  BedroomAbvGr    1460 non-null   int64   \n",
            " 45  KitchenAbvGr    1460 non-null   int64   \n",
            " 46  KitchenQual     1460 non-null   category\n",
            " 47  TotRmsAbvGrd    1460 non-null   int64   \n",
            " 48  Functional      1460 non-null   category\n",
            " 49  Fireplaces      1460 non-null   category\n",
            " 50  FireplaceQu     1460 non-null   category\n",
            " 51  GarageType      1460 non-null   category\n",
            " 52  GarageYrBlt     1460 non-null   float64 \n",
            " 53  GarageFinish    1460 non-null   category\n",
            " 54  GarageCars      1460 non-null   category\n",
            " 55  GarageArea      1460 non-null   int64   \n",
            " 56  GarageQual      1460 non-null   category\n",
            " 57  GarageCond      1460 non-null   category\n",
            " 58  PavedDrive      1460 non-null   category\n",
            " 59  WoodDeckSF      1460 non-null   int64   \n",
            " 60  OpenPorchSF     1460 non-null   int64   \n",
            " 61  EnclosedPorch   1460 non-null   int64   \n",
            " 62  3SsnPorch       1460 non-null   int64   \n",
            " 63  ScreenPorch     1460 non-null   int64   \n",
            " 64  PoolArea        1460 non-null   int64   \n",
            " 65  PoolQC          1460 non-null   category\n",
            " 66  Fence           1460 non-null   category\n",
            " 67  MiscFeature     1460 non-null   category\n",
            " 68  MiscVal         1460 non-null   int64   \n",
            " 69  MoSold          1460 non-null   category\n",
            " 70  YrSold          1460 non-null   category\n",
            " 71  SaleType        1460 non-null   category\n",
            " 72  SaleCondition   1460 non-null   category\n",
            " 73  SalePrice       1460 non-null   int64   \n",
            " 74  All_Bath        1460 non-null   float64 \n",
            " 75  Have_fireplace  1460 non-null   int64   \n",
            " 76  Year_BuildRem   1460 non-null   float64 \n",
            " 77  Total_SF        1460 non-null   int64   \n",
            "dtypes: category(50), float64(5), int64(23)\n",
            "memory usage: 404.4 KB\n"
          ],
          "name": "stdout"
        }
      ]
    },
    {
      "cell_type": "code",
      "metadata": {
        "id": "Olwkkmbr9qtA",
        "colab": {
          "base_uri": "https://localhost:8080/"
        },
        "outputId": "088bc9f9-a263-4dcc-8370-a658fd9c709c"
      },
      "source": [
        "test_eng.info()"
      ],
      "execution_count": null,
      "outputs": [
        {
          "output_type": "stream",
          "text": [
            "<class 'pandas.core.frame.DataFrame'>\n",
            "RangeIndex: 1459 entries, 0 to 1458\n",
            "Data columns (total 77 columns):\n",
            " #   Column          Non-Null Count  Dtype   \n",
            "---  ------          --------------  -----   \n",
            " 0   Id              1459 non-null   int64   \n",
            " 1   MSSubClass      1459 non-null   category\n",
            " 2   MSZoning        1459 non-null   category\n",
            " 3   LotFrontage     1232 non-null   float64 \n",
            " 4   LotArea         1459 non-null   int64   \n",
            " 5   Street          1459 non-null   category\n",
            " 6   Alley           1459 non-null   category\n",
            " 7   LotShape        1459 non-null   category\n",
            " 8   LandContour     1459 non-null   category\n",
            " 9   Utilities       1459 non-null   category\n",
            " 10  LotConfig       1459 non-null   category\n",
            " 11  LandSlope       1459 non-null   category\n",
            " 12  Neighborhood    1459 non-null   category\n",
            " 13  Condition1      1459 non-null   category\n",
            " 14  Condition2      1459 non-null   category\n",
            " 15  BldgType        1459 non-null   category\n",
            " 16  HouseStyle      1459 non-null   category\n",
            " 17  OverallQual     1459 non-null   category\n",
            " 18  OverallCond     1459 non-null   category\n",
            " 19  RoofStyle       1459 non-null   category\n",
            " 20  RoofMatl        1459 non-null   category\n",
            " 21  Exterior1st     1459 non-null   category\n",
            " 22  Exterior2nd     1459 non-null   category\n",
            " 23  MasVnrType      1459 non-null   category\n",
            " 24  MasVnrArea      1459 non-null   float64 \n",
            " 25  ExterQual       1459 non-null   category\n",
            " 26  ExterCond       1459 non-null   category\n",
            " 27  Foundation      1459 non-null   category\n",
            " 28  BsmtQual        1459 non-null   category\n",
            " 29  BsmtCond        1459 non-null   category\n",
            " 30  BsmtExposure    1459 non-null   category\n",
            " 31  BsmtFinType1    1459 non-null   category\n",
            " 32  BsmtFinSF1      1459 non-null   float64 \n",
            " 33  BsmtFinType2    1459 non-null   category\n",
            " 34  BsmtFinSF2      1459 non-null   float64 \n",
            " 35  BsmtUnfSF       1459 non-null   float64 \n",
            " 36  Heating         1459 non-null   category\n",
            " 37  HeatingQC       1459 non-null   category\n",
            " 38  CentralAir      1459 non-null   category\n",
            " 39  Electrical      1459 non-null   category\n",
            " 40  LowQualFinSF    1459 non-null   int64   \n",
            " 41  GrLivArea       1459 non-null   int64   \n",
            " 42  BsmtFullBath    1459 non-null   float64 \n",
            " 43  BsmtHalfBath    1459 non-null   float64 \n",
            " 44  BedroomAbvGr    1459 non-null   int64   \n",
            " 45  KitchenAbvGr    1459 non-null   int64   \n",
            " 46  KitchenQual     1459 non-null   category\n",
            " 47  TotRmsAbvGrd    1459 non-null   int64   \n",
            " 48  Functional      1459 non-null   category\n",
            " 49  Fireplaces      1459 non-null   category\n",
            " 50  FireplaceQu     1459 non-null   category\n",
            " 51  GarageType      1459 non-null   category\n",
            " 52  GarageYrBlt     1459 non-null   float64 \n",
            " 53  GarageFinish    1459 non-null   category\n",
            " 54  GarageCars      1459 non-null   category\n",
            " 55  GarageArea      1459 non-null   float64 \n",
            " 56  GarageQual      1459 non-null   category\n",
            " 57  GarageCond      1459 non-null   category\n",
            " 58  PavedDrive      1459 non-null   category\n",
            " 59  WoodDeckSF      1459 non-null   int64   \n",
            " 60  OpenPorchSF     1459 non-null   int64   \n",
            " 61  EnclosedPorch   1459 non-null   int64   \n",
            " 62  3SsnPorch       1459 non-null   int64   \n",
            " 63  ScreenPorch     1459 non-null   int64   \n",
            " 64  PoolArea        1459 non-null   int64   \n",
            " 65  PoolQC          1459 non-null   category\n",
            " 66  Fence           1459 non-null   category\n",
            " 67  MiscFeature     1459 non-null   category\n",
            " 68  MiscVal         1459 non-null   int64   \n",
            " 69  MoSold          1459 non-null   category\n",
            " 70  YrSold          1459 non-null   category\n",
            " 71  SaleType        1459 non-null   category\n",
            " 72  SaleCondition   1459 non-null   category\n",
            " 73  All_Bath        1459 non-null   float64 \n",
            " 74  Have_fireplace  1459 non-null   int64   \n",
            " 75  Year_BuildRem   1459 non-null   float64 \n",
            " 76  Total_SF        1459 non-null   float64 \n",
            "dtypes: category(50), float64(12), int64(15)\n",
            "memory usage: 392.3 KB\n"
          ],
          "name": "stdout"
        }
      ]
    },
    {
      "cell_type": "markdown",
      "metadata": {
        "id": "EL6SacomYYht"
      },
      "source": [
        "# LotFrontage\n",
        "- This feature have lot of NaN values\n",
        "- Will be fill with the median of the values of each Neghborhood"
      ]
    },
    {
      "cell_type": "code",
      "metadata": {
        "id": "RwZ81Bs2OW5x"
      },
      "source": [
        "train4 = train_eng.copy()\n",
        "test4 = test_eng.copy()"
      ],
      "execution_count": null,
      "outputs": []
    },
    {
      "cell_type": "code",
      "metadata": {
        "id": "dganiTX8OFHj",
        "colab": {
          "base_uri": "https://localhost:8080/",
          "height": 282
        },
        "outputId": "2de50521-2b92-4928-facb-cd0bb29ca774"
      },
      "source": [
        "train4['LotFrontage'].hist()"
      ],
      "execution_count": null,
      "outputs": [
        {
          "output_type": "execute_result",
          "data": {
            "text/plain": [
              "<matplotlib.axes._subplots.AxesSubplot at 0x7f2d07971160>"
            ]
          },
          "metadata": {
            "tags": []
          },
          "execution_count": 95
        },
        {
          "output_type": "display_data",
          "data": {
            "image/png": "[encoded data removed]",
            "text/plain": [
              "<Figure size 432x288 with 1 Axes>"
            ]
          },
          "metadata": {
            "tags": [],
            "needs_background": "light"
          }
        }
      ]
    },
    {
      "cell_type": "code",
      "metadata": {
        "id": "uPGBGLkJ6pB6"
      },
      "source": [
        "\n",
        "train4['LotFrontage'] = train4.groupby('Neighborhood')['LotFrontage'].transform(lambda x: x.fillna(x.median()))\n",
        "\n",
        "test4['LotFrontage'] = test4.groupby('Neighborhood')['LotFrontage'].transform(lambda x: x.fillna(x.median()))"
      ],
      "execution_count": null,
      "outputs": []
    },
    {
      "cell_type": "code",
      "metadata": {
        "id": "oDbA7RRcOyBm",
        "colab": {
          "base_uri": "https://localhost:8080/"
        },
        "outputId": "3333d481-7b00-4fb8-a5fa-186c15858acc"
      },
      "source": [
        "test4.info()"
      ],
      "execution_count": null,
      "outputs": [
        {
          "output_type": "stream",
          "text": [
            "<class 'pandas.core.frame.DataFrame'>\n",
            "RangeIndex: 1459 entries, 0 to 1458\n",
            "Data columns (total 77 columns):\n",
            " #   Column          Non-Null Count  Dtype   \n",
            "---  ------          --------------  -----   \n",
            " 0   Id              1459 non-null   int64   \n",
            " 1   MSSubClass      1459 non-null   category\n",
            " 2   MSZoning        1459 non-null   category\n",
            " 3   LotFrontage     1459 non-null   float64 \n",
            " 4   LotArea         1459 non-null   int64   \n",
            " 5   Street          1459 non-null   category\n",
            " 6   Alley           1459 non-null   category\n",
            " 7   LotShape        1459 non-null   category\n",
            " 8   LandContour     1459 non-null   category\n",
            " 9   Utilities       1459 non-null   category\n",
            " 10  LotConfig       1459 non-null   category\n",
            " 11  LandSlope       1459 non-null   category\n",
            " 12  Neighborhood    1459 non-null   category\n",
            " 13  Condition1      1459 non-null   category\n",
            " 14  Condition2      1459 non-null   category\n",
            " 15  BldgType        1459 non-null   category\n",
            " 16  HouseStyle      1459 non-null   category\n",
            " 17  OverallQual     1459 non-null   category\n",
            " 18  OverallCond     1459 non-null   category\n",
            " 19  RoofStyle       1459 non-null   category\n",
            " 20  RoofMatl        1459 non-null   category\n",
            " 21  Exterior1st     1459 non-null   category\n",
            " 22  Exterior2nd     1459 non-null   category\n",
            " 23  MasVnrType      1459 non-null   category\n",
            " 24  MasVnrArea      1459 non-null   float64 \n",
            " 25  ExterQual       1459 non-null   category\n",
            " 26  ExterCond       1459 non-null   category\n",
            " 27  Foundation      1459 non-null   category\n",
            " 28  BsmtQual        1459 non-null   category\n",
            " 29  BsmtCond        1459 non-null   category\n",
            " 30  BsmtExposure    1459 non-null   category\n",
            " 31  BsmtFinType1    1459 non-null   category\n",
            " 32  BsmtFinSF1      1459 non-null   float64 \n",
            " 33  BsmtFinType2    1459 non-null   category\n",
            " 34  BsmtFinSF2      1459 non-null   float64 \n",
            " 35  BsmtUnfSF       1459 non-null   float64 \n",
            " 36  Heating         1459 non-null   category\n",
            " 37  HeatingQC       1459 non-null   category\n",
            " 38  CentralAir      1459 non-null   category\n",
            " 39  Electrical      1459 non-null   category\n",
            " 40  LowQualFinSF    1459 non-null   int64   \n",
            " 41  GrLivArea       1459 non-null   int64   \n",
            " 42  BsmtFullBath    1459 non-null   float64 \n",
            " 43  BsmtHalfBath    1459 non-null   float64 \n",
            " 44  BedroomAbvGr    1459 non-null   int64   \n",
            " 45  KitchenAbvGr    1459 non-null   int64   \n",
            " 46  KitchenQual     1459 non-null   category\n",
            " 47  TotRmsAbvGrd    1459 non-null   int64   \n",
            " 48  Functional      1459 non-null   category\n",
            " 49  Fireplaces      1459 non-null   category\n",
            " 50  FireplaceQu     1459 non-null   category\n",
            " 51  GarageType      1459 non-null   category\n",
            " 52  GarageYrBlt     1459 non-null   float64 \n",
            " 53  GarageFinish    1459 non-null   category\n",
            " 54  GarageCars      1459 non-null   category\n",
            " 55  GarageArea      1459 non-null   float64 \n",
            " 56  GarageQual      1459 non-null   category\n",
            " 57  GarageCond      1459 non-null   category\n",
            " 58  PavedDrive      1459 non-null   category\n",
            " 59  WoodDeckSF      1459 non-null   int64   \n",
            " 60  OpenPorchSF     1459 non-null   int64   \n",
            " 61  EnclosedPorch   1459 non-null   int64   \n",
            " 62  3SsnPorch       1459 non-null   int64   \n",
            " 63  ScreenPorch     1459 non-null   int64   \n",
            " 64  PoolArea        1459 non-null   int64   \n",
            " 65  PoolQC          1459 non-null   category\n",
            " 66  Fence           1459 non-null   category\n",
            " 67  MiscFeature     1459 non-null   category\n",
            " 68  MiscVal         1459 non-null   int64   \n",
            " 69  MoSold          1459 non-null   category\n",
            " 70  YrSold          1459 non-null   category\n",
            " 71  SaleType        1459 non-null   category\n",
            " 72  SaleCondition   1459 non-null   category\n",
            " 73  All_Bath        1459 non-null   float64 \n",
            " 74  Have_fireplace  1459 non-null   int64   \n",
            " 75  Year_BuildRem   1459 non-null   float64 \n",
            " 76  Total_SF        1459 non-null   float64 \n",
            "dtypes: category(50), float64(12), int64(15)\n",
            "memory usage: 392.3 KB\n"
          ],
          "name": "stdout"
        }
      ]
    },
    {
      "cell_type": "code",
      "metadata": {
        "id": "qy3e-WcdPuOX",
        "colab": {
          "base_uri": "https://localhost:8080/"
        },
        "outputId": "94951b23-5146-4c24-e438-db318cef25e2"
      },
      "source": [
        "train4.info()"
      ],
      "execution_count": null,
      "outputs": [
        {
          "output_type": "stream",
          "text": [
            "<class 'pandas.core.frame.DataFrame'>\n",
            "RangeIndex: 1460 entries, 0 to 1459\n",
            "Data columns (total 78 columns):\n",
            " #   Column          Non-Null Count  Dtype   \n",
            "---  ------          --------------  -----   \n",
            " 0   Id              1460 non-null   int64   \n",
            " 1   MSSubClass      1460 non-null   category\n",
            " 2   MSZoning        1460 non-null   category\n",
            " 3   LotFrontage     1460 non-null   float64 \n",
            " 4   LotArea         1460 non-null   int64   \n",
            " 5   Street          1460 non-null   category\n",
            " 6   Alley           1460 non-null   category\n",
            " 7   LotShape        1460 non-null   category\n",
            " 8   LandContour     1460 non-null   category\n",
            " 9   Utilities       1460 non-null   category\n",
            " 10  LotConfig       1460 non-null   category\n",
            " 11  LandSlope       1460 non-null   category\n",
            " 12  Neighborhood    1460 non-null   category\n",
            " 13  Condition1      1460 non-null   category\n",
            " 14  Condition2      1460 non-null   category\n",
            " 15  BldgType        1460 non-null   category\n",
            " 16  HouseStyle      1460 non-null   category\n",
            " 17  OverallQual     1460 non-null   category\n",
            " 18  OverallCond     1460 non-null   category\n",
            " 19  RoofStyle       1460 non-null   category\n",
            " 20  RoofMatl        1460 non-null   category\n",
            " 21  Exterior1st     1460 non-null   category\n",
            " 22  Exterior2nd     1460 non-null   category\n",
            " 23  MasVnrType      1460 non-null   category\n",
            " 24  MasVnrArea      1460 non-null   float64 \n",
            " 25  ExterQual       1460 non-null   category\n",
            " 26  ExterCond       1460 non-null   category\n",
            " 27  Foundation      1460 non-null   category\n",
            " 28  BsmtQual        1460 non-null   category\n",
            " 29  BsmtCond        1460 non-null   category\n",
            " 30  BsmtExposure    1460 non-null   category\n",
            " 31  BsmtFinType1    1460 non-null   category\n",
            " 32  BsmtFinSF1      1460 non-null   int64   \n",
            " 33  BsmtFinType2    1460 non-null   category\n",
            " 34  BsmtFinSF2      1460 non-null   int64   \n",
            " 35  BsmtUnfSF       1460 non-null   int64   \n",
            " 36  Heating         1460 non-null   category\n",
            " 37  HeatingQC       1460 non-null   category\n",
            " 38  CentralAir      1460 non-null   category\n",
            " 39  Electrical      1460 non-null   category\n",
            " 40  LowQualFinSF    1460 non-null   int64   \n",
            " 41  GrLivArea       1460 non-null   int64   \n",
            " 42  BsmtFullBath    1460 non-null   int64   \n",
            " 43  BsmtHalfBath    1460 non-null   int64   \n",
            " 44  BedroomAbvGr    1460 non-null   int64   \n",
            " 45  KitchenAbvGr    1460 non-null   int64   \n",
            " 46  KitchenQual     1460 non-null   category\n",
            " 47  TotRmsAbvGrd    1460 non-null   int64   \n",
            " 48  Functional      1460 non-null   category\n",
            " 49  Fireplaces      1460 non-null   category\n",
            " 50  FireplaceQu     1460 non-null   category\n",
            " 51  GarageType      1460 non-null   category\n",
            " 52  GarageYrBlt     1460 non-null   float64 \n",
            " 53  GarageFinish    1460 non-null   category\n",
            " 54  GarageCars      1460 non-null   category\n",
            " 55  GarageArea      1460 non-null   int64   \n",
            " 56  GarageQual      1460 non-null   category\n",
            " 57  GarageCond      1460 non-null   category\n",
            " 58  PavedDrive      1460 non-null   category\n",
            " 59  WoodDeckSF      1460 non-null   int64   \n",
            " 60  OpenPorchSF     1460 non-null   int64   \n",
            " 61  EnclosedPorch   1460 non-null   int64   \n",
            " 62  3SsnPorch       1460 non-null   int64   \n",
            " 63  ScreenPorch     1460 non-null   int64   \n",
            " 64  PoolArea        1460 non-null   int64   \n",
            " 65  PoolQC          1460 non-null   category\n",
            " 66  Fence           1460 non-null   category\n",
            " 67  MiscFeature     1460 non-null   category\n",
            " 68  MiscVal         1460 non-null   int64   \n",
            " 69  MoSold          1460 non-null   category\n",
            " 70  YrSold          1460 non-null   category\n",
            " 71  SaleType        1460 non-null   category\n",
            " 72  SaleCondition   1460 non-null   category\n",
            " 73  SalePrice       1460 non-null   int64   \n",
            " 74  All_Bath        1460 non-null   float64 \n",
            " 75  Have_fireplace  1460 non-null   int64   \n",
            " 76  Year_BuildRem   1460 non-null   float64 \n",
            " 77  Total_SF        1460 non-null   int64   \n",
            "dtypes: category(50), float64(5), int64(23)\n",
            "memory usage: 404.4 KB\n"
          ],
          "name": "stdout"
        }
      ]
    },
    {
      "cell_type": "markdown",
      "metadata": {
        "id": "0p9QeHKbcZ3t"
      },
      "source": [
        "# Data analysis of SalePrice (target)"
      ]
    },
    {
      "cell_type": "code",
      "metadata": {
        "id": "PgNTZrYjyEW3"
      },
      "source": [
        "train8 = train4.copy()\n",
        "test8 = test4.copy()"
      ],
      "execution_count": null,
      "outputs": []
    },
    {
      "cell_type": "markdown",
      "metadata": {
        "id": "-SuqZTUgPaBK"
      },
      "source": [
        "SalePrice don't follows de normal distributions, so will be fit"
      ]
    },
    {
      "cell_type": "code",
      "metadata": {
        "id": "H3vdfV1H2TFz",
        "colab": {
          "base_uri": "https://localhost:8080/",
          "height": 362
        },
        "outputId": "ed73f119-946d-4515-c768-36b4808e6a1c"
      },
      "source": [
        "sns.distplot(train8['SalePrice'] , fit=norm)"
      ],
      "execution_count": null,
      "outputs": [
        {
          "output_type": "stream",
          "text": [
            "/usr/local/lib/python3.6/dist-packages/seaborn/distributions.py:2551: FutureWarning: `distplot` is a deprecated function and will be removed in a future version. Please adapt your code to use either `displot` (a figure-level function with similar flexibility) or `histplot` (an axes-level function for histograms).\n",
            "  warnings.warn(msg, FutureWarning)\n"
          ],
          "name": "stderr"
        },
        {
          "output_type": "execute_result",
          "data": {
            "text/plain": [
              "<matplotlib.axes._subplots.AxesSubplot at 0x7f2d078f1e48>"
            ]
          },
          "metadata": {
            "tags": []
          },
          "execution_count": 100
        },
        {
          "output_type": "display_data",
          "data": {
            "image/png": "[encoded data removed]",
            "text/plain": [
              "<Figure size 432x288 with 1 Axes>"
            ]
          },
          "metadata": {
            "tags": [],
            "needs_background": "light"
          }
        }
      ]
    },
    {
      "cell_type": "code",
      "metadata": {
        "id": "ETs-rX8P3jdp",
        "colab": {
          "base_uri": "https://localhost:8080/",
          "height": 295
        },
        "outputId": "2c742231-2517-44ff-f473-da557c58e938"
      },
      "source": [
        "fig = plt.figure()\n",
        "res = stats.probplot(train8['SalePrice'], plot=plt)\n",
        "plt.show()"
      ],
      "execution_count": null,
      "outputs": [
        {
          "output_type": "display_data",
          "data": {
            "image/png": "[encoded data removed]",
            "text/plain": [
              "<Figure size 432x288 with 1 Axes>"
            ]
          },
          "metadata": {
            "tags": [],
            "needs_background": "light"
          }
        }
      ]
    },
    {
      "cell_type": "code",
      "metadata": {
        "id": "tFLdYZml3xdY"
      },
      "source": [
        "train8['SalePrice'] = np.log1p(train8['SalePrice'])"
      ],
      "execution_count": null,
      "outputs": []
    },
    {
      "cell_type": "code",
      "metadata": {
        "id": "VKMdMHmD4DGC",
        "colab": {
          "base_uri": "https://localhost:8080/",
          "height": 386
        },
        "outputId": "c87aba2f-28bc-42f0-936b-2a00e604bf91"
      },
      "source": [
        "sns.distplot(train8['SalePrice'] , fit=norm);\n",
        "(mu, sigma) = norm.fit(train8['SalePrice'])\n",
        "print( '\\n mu = {:.3f} and sigma = {:.3f}\\n'.format(mu, sigma))"
      ],
      "execution_count": null,
      "outputs": [
        {
          "output_type": "stream",
          "text": [
            "/usr/local/lib/python3.6/dist-packages/seaborn/distributions.py:2551: FutureWarning: `distplot` is a deprecated function and will be removed in a future version. Please adapt your code to use either `displot` (a figure-level function with similar flexibility) or `histplot` (an axes-level function for histograms).\n",
            "  warnings.warn(msg, FutureWarning)\n"
          ],
          "name": "stderr"
        },
        {
          "output_type": "stream",
          "text": [
            "\n",
            " mu = 12.024 and sigma = 0.399\n",
            "\n"
          ],
          "name": "stdout"
        },
        {
          "output_type": "display_data",
          "data": {
            "image/png": "[encoded data removed]",
            "text/plain": [
              "<Figure size 432x288 with 1 Axes>"
            ]
          },
          "metadata": {
            "tags": [],
            "needs_background": "light"
          }
        }
      ]
    },
    {
      "cell_type": "code",
      "metadata": {
        "id": "QaBfUHhF4_7v",
        "colab": {
          "base_uri": "https://localhost:8080/",
          "height": 295
        },
        "outputId": "5417fbf6-ca4d-4f8b-a4d9-bc3b31003020"
      },
      "source": [
        "fig = plt.figure()\n",
        "res = stats.probplot(train8['SalePrice'], plot=plt)\n",
        "plt.show()"
      ],
      "execution_count": null,
      "outputs": [
        {
          "output_type": "display_data",
          "data": {
            "image/png": "[encoded data removed]",
            "text/plain": [
              "<Figure size 432x288 with 1 Axes>"
            ]
          },
          "metadata": {
            "tags": [],
            "needs_background": "light"
          }
        }
      ]
    },
    {
      "cell_type": "code",
      "metadata": {
        "id": "F6-LxPAQrVh7",
        "colab": {
          "base_uri": "https://localhost:8080/"
        },
        "outputId": "79d75fab-3f35-4163-a60a-4e7a6791dcab"
      },
      "source": [
        "corr_= train8.corr().drop('Id', axis=1).drop('Id', axis=0)\n",
        "corr_price_ = corr_.SalePrice.sort_values(ascending=False)\n",
        "corr_price_pos = corr_price_[corr_price_>=0].sort_values(ascending=False)\n",
        "corr_price_neg = corr_price_[corr_price_<0].sort_values()\n",
        "\n",
        "corr_price = corr_price_pos.append(corr_price_neg)\n",
        "features_cont_price = list(corr_price.index.drop('SalePrice'))\n",
        "corr_price_"
      ],
      "execution_count": null,
      "outputs": [
        {
          "output_type": "execute_result",
          "data": {
            "text/plain": [
              "SalePrice         1.000000\n",
              "Total_SF          0.777297\n",
              "GrLivArea         0.700927\n",
              "GarageArea        0.650888\n",
              "Year_BuildRem     0.644833\n",
              "All_Bath          0.639320\n",
              "TotRmsAbvGrd      0.534422\n",
              "Have_fireplace    0.510026\n",
              "MasVnrArea        0.426776\n",
              "BsmtFinSF1        0.372023\n",
              "LotFrontage       0.353288\n",
              "GarageYrBlt       0.349013\n",
              "WoodDeckSF        0.334135\n",
              "OpenPorchSF       0.321053\n",
              "LotArea           0.257320\n",
              "BsmtFullBath      0.236224\n",
              "BsmtUnfSF         0.221985\n",
              "BedroomAbvGr      0.209043\n",
              "ScreenPorch       0.121208\n",
              "PoolArea          0.069798\n",
              "3SsnPorch         0.054900\n",
              "BsmtFinSF2        0.004832\n",
              "BsmtHalfBath     -0.005149\n",
              "MiscVal          -0.020021\n",
              "LowQualFinSF     -0.037963\n",
              "KitchenAbvGr     -0.147548\n",
              "EnclosedPorch    -0.149050\n",
              "Name: SalePrice, dtype: float64"
            ]
          },
          "metadata": {
            "tags": []
          },
          "execution_count": 105
        }
      ]
    },
    {
      "cell_type": "code",
      "metadata": {
        "id": "oHcs7-RBUcIZ",
        "colab": {
          "base_uri": "https://localhost:8080/"
        },
        "outputId": "c9f7f8f1-8762-4432-e10c-4827483bee47"
      },
      "source": [
        "features_cont_price"
      ],
      "execution_count": null,
      "outputs": [
        {
          "output_type": "execute_result",
          "data": {
            "text/plain": [
              "['Total_SF',\n",
              " 'GrLivArea',\n",
              " 'GarageArea',\n",
              " 'Year_BuildRem',\n",
              " 'All_Bath',\n",
              " 'TotRmsAbvGrd',\n",
              " 'Have_fireplace',\n",
              " 'MasVnrArea',\n",
              " 'BsmtFinSF1',\n",
              " 'LotFrontage',\n",
              " 'GarageYrBlt',\n",
              " 'WoodDeckSF',\n",
              " 'OpenPorchSF',\n",
              " 'LotArea',\n",
              " 'BsmtFullBath',\n",
              " 'BsmtUnfSF',\n",
              " 'BedroomAbvGr',\n",
              " 'ScreenPorch',\n",
              " 'PoolArea',\n",
              " '3SsnPorch',\n",
              " 'BsmtFinSF2',\n",
              " 'EnclosedPorch',\n",
              " 'KitchenAbvGr',\n",
              " 'LowQualFinSF',\n",
              " 'MiscVal',\n",
              " 'BsmtHalfBath']"
            ]
          },
          "metadata": {
            "tags": []
          },
          "execution_count": 106
        }
      ]
    },
    {
      "cell_type": "markdown",
      "metadata": {
        "id": "Wo4_ApqUQkib"
      },
      "source": [
        "Remove skewness"
      ]
    },
    {
      "cell_type": "code",
      "metadata": {
        "id": "r0kht5r0_xop",
        "colab": {
          "base_uri": "https://localhost:8080/"
        },
        "outputId": "b9580867-0513-421c-d5f0-ee3e2a1229b6"
      },
      "source": [
        "skewed = train8[features_cont_price].apply(lambda x: skew(x.dropna()))\n",
        "skewed=skewed[abs(skewed)>0.75]\n",
        "skewed_data = pd.DataFrame({'Skew' :skewed.sort_values(ascending=False)})\n",
        "print(skewed_data)\n",
        "print(skewed_data.shape[0])\n",
        "\n",
        "\n",
        "\n",
        "skewed_test = test8[features_cont_price].apply(lambda x: skew(x.dropna()))\n",
        "skewed_test=skewed_test[abs(skewed_test)>0.75]\n",
        "skewed_data_test = pd.DataFrame({'Skew' :skewed_test.sort_values(ascending=False)})\n",
        "print(skewed_data_test)\n",
        "print(skewed_data_test.shape[0])\n"
      ],
      "execution_count": null,
      "outputs": [
        {
          "output_type": "stream",
          "text": [
            "                    Skew\n",
            "MiscVal        24.451640\n",
            "PoolArea       14.813135\n",
            "LotArea        12.195142\n",
            "3SsnPorch      10.293752\n",
            "LowQualFinSF    9.002080\n",
            "KitchenAbvGr    4.483784\n",
            "BsmtFinSF2      4.250888\n",
            "ScreenPorch     4.117977\n",
            "BsmtHalfBath    4.099186\n",
            "EnclosedPorch   3.086696\n",
            "MasVnrArea      2.674865\n",
            "OpenPorchSF     2.361912\n",
            "LotFrontage     2.210685\n",
            "Total_SF        1.774874\n",
            "BsmtFinSF1      1.683771\n",
            "WoodDeckSF      1.539792\n",
            "GrLivArea       1.365156\n",
            "BsmtUnfSF       0.919323\n",
            "GarageYrBlt    -3.865524\n",
            "19\n",
            "                    Skew\n",
            "PoolArea       20.176117\n",
            "MiscVal        20.054543\n",
            "LowQualFinSF   16.150628\n",
            "3SsnPorch      12.511336\n",
            "EnclosedPorch   4.664371\n",
            "KitchenAbvGr    4.074860\n",
            "BsmtFinSF2      4.038565\n",
            "ScreenPorch     3.784349\n",
            "BsmtHalfBath    3.779085\n",
            "LotArea         3.112013\n",
            "OpenPorchSF     2.685015\n",
            "MasVnrArea      2.546947\n",
            "WoodDeckSF      2.128569\n",
            "Total_SF        1.214528\n",
            "BsmtFinSF1      1.164877\n",
            "GrLivArea       1.129240\n",
            "BsmtUnfSF       0.919286\n",
            "TotRmsAbvGrd    0.841731\n",
            "GarageYrBlt    -3.947954\n",
            "19\n"
          ],
          "name": "stdout"
        }
      ]
    },
    {
      "cell_type": "code",
      "metadata": {
        "id": "txn3PMV1CLyx"
      },
      "source": [
        "skewed_features = list(skewed_data.index)\n",
        "lam = 0.15\n",
        "for feat in skewed_features:\n",
        "    train8[feat] = boxcox1p(train8[feat],lam)\n",
        "\n",
        "\n",
        "skewed_features_test = list(skewed_data_test.index)\n",
        "lam = 0.15\n",
        "for feat in skewed_features_test:\n",
        "    test8[feat] = boxcox1p(test8[feat],lam)"
      ],
      "execution_count": null,
      "outputs": []
    },
    {
      "cell_type": "code",
      "metadata": {
        "id": "cA5PAdgVfyPO",
        "colab": {
          "base_uri": "https://localhost:8080/",
          "height": 593
        },
        "outputId": "193c6d54-d005-4e18-be09-0200872ab555"
      },
      "source": [
        "f2, ax2 = plt.subplots(figsize=(20,9))\n",
        "sns.heatmap(corr_,annot=True,center=1)"
      ],
      "execution_count": null,
      "outputs": [
        {
          "output_type": "execute_result",
          "data": {
            "text/plain": [
              "<matplotlib.axes._subplots.AxesSubplot at 0x7f2d075c4128>"
            ]
          },
          "metadata": {
            "tags": []
          },
          "execution_count": 109
        },
        {
          "output_type": "display_data",
          "data": {
            "image/png": "[encoded data removed]",
            "text/plain": [
              "<Figure size 1440x648 with 2 Axes>"
            ]
          },
          "metadata": {
            "tags": [],
            "needs_background": "light"
          }
        }
      ]
    },
    {
      "cell_type": "code",
      "metadata": {
        "id": "jh3bumNCxsxp"
      },
      "source": [
        "features_cont_price.append('SalePrice')"
      ],
      "execution_count": null,
      "outputs": []
    },
    {
      "cell_type": "markdown",
      "metadata": {
        "id": "AQO_IB24KPGR"
      },
      "source": [
        "# Drop the outliers"
      ]
    },
    {
      "cell_type": "code",
      "metadata": {
        "id": "Xrb6Q3jSdnwm"
      },
      "source": [
        "train9 = train8.copy()\n",
        "test9 = test8.copy()"
      ],
      "execution_count": null,
      "outputs": []
    },
    {
      "cell_type": "code",
      "metadata": {
        "id": "09qC--C0R1sU",
        "colab": {
          "base_uri": "https://localhost:8080/"
        },
        "outputId": "098c19a8-78e6-4e00-dca7-3ffe94a5b86b"
      },
      "source": [
        "features_cont_price"
      ],
      "execution_count": null,
      "outputs": [
        {
          "output_type": "execute_result",
          "data": {
            "text/plain": [
              "['Total_SF',\n",
              " 'GrLivArea',\n",
              " 'GarageArea',\n",
              " 'Year_BuildRem',\n",
              " 'All_Bath',\n",
              " 'TotRmsAbvGrd',\n",
              " 'Have_fireplace',\n",
              " 'MasVnrArea',\n",
              " 'BsmtFinSF1',\n",
              " 'LotFrontage',\n",
              " 'GarageYrBlt',\n",
              " 'WoodDeckSF',\n",
              " 'OpenPorchSF',\n",
              " 'LotArea',\n",
              " 'BsmtFullBath',\n",
              " 'BsmtUnfSF',\n",
              " 'BedroomAbvGr',\n",
              " 'ScreenPorch',\n",
              " 'PoolArea',\n",
              " '3SsnPorch',\n",
              " 'BsmtFinSF2',\n",
              " 'EnclosedPorch',\n",
              " 'KitchenAbvGr',\n",
              " 'LowQualFinSF',\n",
              " 'MiscVal',\n",
              " 'BsmtHalfBath',\n",
              " 'SalePrice']"
            ]
          },
          "metadata": {
            "tags": []
          },
          "execution_count": 112
        }
      ]
    },
    {
      "cell_type": "code",
      "metadata": {
        "id": "KOFuIyLMHvot",
        "colab": {
          "base_uri": "https://localhost:8080/"
        },
        "outputId": "ed459679-616e-4a74-fa31-075c26e42ef3"
      },
      "source": [
        "g = sns.PairGrid(train9[features_cont_price],x_vars=features_cont_price[:11],y_vars='SalePrice')\n",
        "g.map(sns.scatterplot)\n",
        "g = sns.PairGrid(train9[features_cont_price],x_vars=features_cont_price[11:20],y_vars='SalePrice')\n",
        "g.map(sns.scatterplot)"
      ],
      "execution_count": null,
      "outputs": [
        {
          "output_type": "execute_result",
          "data": {
            "text/plain": [
              "<seaborn.axisgrid.PairGrid at 0x7f2d02e71908>"
            ]
          },
          "metadata": {
            "tags": []
          },
          "execution_count": 113
        }
      ]
    },
    {
      "cell_type": "markdown",
      "metadata": {
        "id": "mIGLu_76R-Ve"
      },
      "source": [
        "Have some outliers in Total_SF"
      ]
    },
    {
      "cell_type": "code",
      "metadata": {
        "id": "GzhlDNZ2IpiN"
      },
      "source": [
        "f1, ax1 = plt.subplots(figsize=(9,9))\n",
        "sns.regplot(x='Total_SF',y='SalePrice',data=train9[features_cont_price])"
      ],
      "execution_count": null,
      "outputs": []
    },
    {
      "cell_type": "code",
      "metadata": {
        "id": "_zqKgfspI1Fv"
      },
      "source": [
        "train9 = train9.drop(train9[train9['Total_SF']>18].index)"
      ],
      "execution_count": null,
      "outputs": []
    },
    {
      "cell_type": "code",
      "metadata": {
        "id": "05dM_cOEJ9Ds"
      },
      "source": [
        "f1, ax1 = plt.subplots(figsize=(9,9))\n",
        "sns.regplot(x='Total_SF',y='SalePrice',data=train9)"
      ],
      "execution_count": null,
      "outputs": []
    },
    {
      "cell_type": "code",
      "metadata": {
        "id": "FfnMzV1hKDWo"
      },
      "source": [
        "g = sns.PairGrid(train9[features_cont_price],x_vars=features_cont_price[:11],y_vars='SalePrice')\n",
        "g.map(sns.scatterplot)\n",
        "g = sns.PairGrid(train9[features_cont_price],x_vars=features_cont_price[11:20],y_vars='SalePrice')\n",
        "g.map(sns.scatterplot)"
      ],
      "execution_count": null,
      "outputs": []
    },
    {
      "cell_type": "code",
      "metadata": {
        "id": "mC70V9Pr1PLE"
      },
      "source": [
        "train9[features_cont_price].corr().SalePrice.sort_values(ascending=False)"
      ],
      "execution_count": null,
      "outputs": []
    },
    {
      "cell_type": "markdown",
      "metadata": {
        "id": "cyP6LMD_cwLa"
      },
      "source": [
        "# Machine Learning to predict the SalePrice values"
      ]
    },
    {
      "cell_type": "markdown",
      "metadata": {
        "id": "shZpoY0h45ve"
      },
      "source": [
        "# Data manipulation for ML Linear Regression\n",
        "\n"
      ]
    },
    {
      "cell_type": "code",
      "metadata": {
        "id": "bgM7p_PC-ddt"
      },
      "source": [
        "#Values to transform in dummies variables\n",
        "\n",
        "encode2 = ['MSSubClass','MSZoning','Street','Alley','LotShape','LandContour','Utilities','LotConfig','LandSlope','Neighborhood','Condition1',\n",
        "'Condition2','BldgType','HouseStyle','RoofStyle','RoofMatl','Exterior1st','Exterior2nd','MasVnrType','Foundation','Heating','HeatingQC',\n",
        " 'CentralAir','Electrical','GarageType','Fence','MiscFeature','SaleType','SaleCondition']\n"
      ],
      "execution_count": null,
      "outputs": []
    },
    {
      "cell_type": "code",
      "metadata": {
        "id": "pYIhAjkZdzo_"
      },
      "source": [
        "test10 = test9.copy()\n",
        "train10 = train9.copy()"
      ],
      "execution_count": null,
      "outputs": []
    },
    {
      "cell_type": "code",
      "metadata": {
        "id": "MLEf0Z_aKw7l",
        "colab": {
          "base_uri": "https://localhost:8080/",
          "height": 1000
        },
        "outputId": "ab7b8e74-05eb-43fd-e71b-0a69f4674207"
      },
      "source": [
        "train10.info()\n",
        "test10.info()"
      ],
      "execution_count": null,
      "outputs": [
        {
          "output_type": "stream",
          "text": [
            "<class 'pandas.core.frame.DataFrame'>\n",
            "Int64Index: 1455 entries, 0 to 1459\n",
            "Data columns (total 78 columns):\n",
            " #   Column          Non-Null Count  Dtype   \n",
            "---  ------          --------------  -----   \n",
            " 0   Id              1455 non-null   int64   \n",
            " 1   MSSubClass      1455 non-null   category\n",
            " 2   MSZoning        1455 non-null   category\n",
            " 3   LotFrontage     1455 non-null   float64 \n",
            " 4   LotArea         1455 non-null   float64 \n",
            " 5   Street          1455 non-null   category\n",
            " 6   Alley           1455 non-null   category\n",
            " 7   LotShape        1455 non-null   category\n",
            " 8   LandContour     1455 non-null   category\n",
            " 9   Utilities       1455 non-null   category\n",
            " 10  LotConfig       1455 non-null   category\n",
            " 11  LandSlope       1455 non-null   category\n",
            " 12  Neighborhood    1455 non-null   category\n",
            " 13  Condition1      1455 non-null   category\n",
            " 14  Condition2      1455 non-null   category\n",
            " 15  BldgType        1455 non-null   category\n",
            " 16  HouseStyle      1455 non-null   category\n",
            " 17  OverallQual     1455 non-null   category\n",
            " 18  OverallCond     1455 non-null   category\n",
            " 19  RoofStyle       1455 non-null   category\n",
            " 20  RoofMatl        1455 non-null   category\n",
            " 21  Exterior1st     1455 non-null   category\n",
            " 22  Exterior2nd     1455 non-null   category\n",
            " 23  MasVnrType      1455 non-null   category\n",
            " 24  MasVnrArea      1455 non-null   float64 \n",
            " 25  ExterQual       1455 non-null   category\n",
            " 26  ExterCond       1455 non-null   category\n",
            " 27  Foundation      1455 non-null   category\n",
            " 28  BsmtQual        1455 non-null   category\n",
            " 29  BsmtCond        1455 non-null   category\n",
            " 30  BsmtExposure    1455 non-null   category\n",
            " 31  BsmtFinType1    1455 non-null   category\n",
            " 32  BsmtFinSF1      1455 non-null   float64 \n",
            " 33  BsmtFinType2    1455 non-null   category\n",
            " 34  BsmtFinSF2      1455 non-null   float64 \n",
            " 35  BsmtUnfSF       1455 non-null   float64 \n",
            " 36  Heating         1455 non-null   category\n",
            " 37  HeatingQC       1455 non-null   category\n",
            " 38  CentralAir      1455 non-null   category\n",
            " 39  Electrical      1455 non-null   category\n",
            " 40  LowQualFinSF    1455 non-null   float64 \n",
            " 41  GrLivArea       1455 non-null   float64 \n",
            " 42  BsmtFullBath    1455 non-null   int64   \n",
            " 43  BsmtHalfBath    1455 non-null   float64 \n",
            " 44  BedroomAbvGr    1455 non-null   int64   \n",
            " 45  KitchenAbvGr    1455 non-null   float64 \n",
            " 46  KitchenQual     1455 non-null   category\n",
            " 47  TotRmsAbvGrd    1455 non-null   int64   \n",
            " 48  Functional      1455 non-null   category\n",
            " 49  Fireplaces      1455 non-null   category\n",
            " 50  FireplaceQu     1455 non-null   category\n",
            " 51  GarageType      1455 non-null   category\n",
            " 52  GarageYrBlt     1455 non-null   float64 \n",
            " 53  GarageFinish    1455 non-null   category\n",
            " 54  GarageCars      1455 non-null   category\n",
            " 55  GarageArea      1455 non-null   int64   \n",
            " 56  GarageQual      1455 non-null   category\n",
            " 57  GarageCond      1455 non-null   category\n",
            " 58  PavedDrive      1455 non-null   category\n",
            " 59  WoodDeckSF      1455 non-null   float64 \n",
            " 60  OpenPorchSF     1455 non-null   float64 \n",
            " 61  EnclosedPorch   1455 non-null   float64 \n",
            " 62  3SsnPorch       1455 non-null   float64 \n",
            " 63  ScreenPorch     1455 non-null   float64 \n",
            " 64  PoolArea        1455 non-null   float64 \n",
            " 65  PoolQC          1455 non-null   category\n",
            " 66  Fence           1455 non-null   category\n",
            " 67  MiscFeature     1455 non-null   category\n",
            " 68  MiscVal         1455 non-null   float64 \n",
            " 69  MoSold          1455 non-null   category\n",
            " 70  YrSold          1455 non-null   category\n",
            " 71  SaleType        1455 non-null   category\n",
            " 72  SaleCondition   1455 non-null   category\n",
            " 73  SalePrice       1455 non-null   float64 \n",
            " 74  All_Bath        1455 non-null   float64 \n",
            " 75  Have_fireplace  1455 non-null   int64   \n",
            " 76  Year_BuildRem   1455 non-null   float64 \n",
            " 77  Total_SF        1455 non-null   float64 \n",
            "dtypes: category(50), float64(22), int64(6)\n",
            "memory usage: 414.3 KB\n",
            "<class 'pandas.core.frame.DataFrame'>\n",
            "RangeIndex: 1459 entries, 0 to 1458\n",
            "Data columns (total 77 columns):\n",
            " #   Column          Non-Null Count  Dtype   \n",
            "---  ------          --------------  -----   \n",
            " 0   Id              1459 non-null   int64   \n",
            " 1   MSSubClass      1459 non-null   category\n",
            " 2   MSZoning        1459 non-null   category\n",
            " 3   LotFrontage     1459 non-null   float64 \n",
            " 4   LotArea         1459 non-null   float64 \n",
            " 5   Street          1459 non-null   category\n",
            " 6   Alley           1459 non-null   category\n",
            " 7   LotShape        1459 non-null   category\n",
            " 8   LandContour     1459 non-null   category\n",
            " 9   Utilities       1459 non-null   category\n",
            " 10  LotConfig       1459 non-null   category\n",
            " 11  LandSlope       1459 non-null   category\n",
            " 12  Neighborhood    1459 non-null   category\n",
            " 13  Condition1      1459 non-null   category\n",
            " 14  Condition2      1459 non-null   category\n",
            " 15  BldgType        1459 non-null   category\n",
            " 16  HouseStyle      1459 non-null   category\n",
            " 17  OverallQual     1459 non-null   category\n",
            " 18  OverallCond     1459 non-null   category\n",
            " 19  RoofStyle       1459 non-null   category\n",
            " 20  RoofMatl        1459 non-null   category\n",
            " 21  Exterior1st     1459 non-null   category\n",
            " 22  Exterior2nd     1459 non-null   category\n",
            " 23  MasVnrType      1459 non-null   category\n",
            " 24  MasVnrArea      1459 non-null   float64 \n",
            " 25  ExterQual       1459 non-null   category\n",
            " 26  ExterCond       1459 non-null   category\n",
            " 27  Foundation      1459 non-null   category\n",
            " 28  BsmtQual        1459 non-null   category\n",
            " 29  BsmtCond        1459 non-null   category\n",
            " 30  BsmtExposure    1459 non-null   category\n",
            " 31  BsmtFinType1    1459 non-null   category\n",
            " 32  BsmtFinSF1      1459 non-null   float64 \n",
            " 33  BsmtFinType2    1459 non-null   category\n",
            " 34  BsmtFinSF2      1459 non-null   float64 \n",
            " 35  BsmtUnfSF       1459 non-null   float64 \n",
            " 36  Heating         1459 non-null   category\n",
            " 37  HeatingQC       1459 non-null   category\n",
            " 38  CentralAir      1459 non-null   category\n",
            " 39  Electrical      1459 non-null   category\n",
            " 40  LowQualFinSF    1459 non-null   float64 \n",
            " 41  GrLivArea       1459 non-null   float64 \n",
            " 42  BsmtFullBath    1459 non-null   float64 \n",
            " 43  BsmtHalfBath    1459 non-null   float64 \n",
            " 44  BedroomAbvGr    1459 non-null   int64   \n",
            " 45  KitchenAbvGr    1459 non-null   float64 \n",
            " 46  KitchenQual     1459 non-null   category\n",
            " 47  TotRmsAbvGrd    1459 non-null   float64 \n",
            " 48  Functional      1459 non-null   category\n",
            " 49  Fireplaces      1459 non-null   category\n",
            " 50  FireplaceQu     1459 non-null   category\n",
            " 51  GarageType      1459 non-null   category\n",
            " 52  GarageYrBlt     1459 non-null   float64 \n",
            " 53  GarageFinish    1459 non-null   category\n",
            " 54  GarageCars      1459 non-null   category\n",
            " 55  GarageArea      1459 non-null   float64 \n",
            " 56  GarageQual      1459 non-null   category\n",
            " 57  GarageCond      1459 non-null   category\n",
            " 58  PavedDrive      1459 non-null   category\n",
            " 59  WoodDeckSF      1459 non-null   float64 \n",
            " 60  OpenPorchSF     1459 non-null   float64 \n",
            " 61  EnclosedPorch   1459 non-null   float64 \n",
            " 62  3SsnPorch       1459 non-null   float64 \n",
            " 63  ScreenPorch     1459 non-null   float64 \n",
            " 64  PoolArea        1459 non-null   float64 \n",
            " 65  PoolQC          1459 non-null   category\n",
            " 66  Fence           1459 non-null   category\n",
            " 67  MiscFeature     1459 non-null   category\n",
            " 68  MiscVal         1459 non-null   float64 \n",
            " 69  MoSold          1459 non-null   category\n",
            " 70  YrSold          1459 non-null   category\n",
            " 71  SaleType        1459 non-null   category\n",
            " 72  SaleCondition   1459 non-null   category\n",
            " 73  All_Bath        1459 non-null   float64 \n",
            " 74  Have_fireplace  1459 non-null   int64   \n",
            " 75  Year_BuildRem   1459 non-null   float64 \n",
            " 76  Total_SF        1459 non-null   float64 \n",
            "dtypes: category(50), float64(24), int64(3)\n",
            "memory usage: 392.3 KB\n"
          ],
          "name": "stdout"
        }
      ]
    },
    {
      "cell_type": "code",
      "metadata": {
        "id": "xfQwioNi-XuV"
      },
      "source": [
        "train_reg = pd.get_dummies(train10,columns=encode2,drop_first=True)\n",
        "test_reg = pd.get_dummies(test10,columns=encode2, drop_first=True)"
      ],
      "execution_count": null,
      "outputs": []
    },
    {
      "cell_type": "code",
      "metadata": {
        "id": "AHTztwpU1XOL",
        "colab": {
          "base_uri": "https://localhost:8080/",
          "height": 34
        },
        "outputId": "894a97c8-8540-492c-cda6-48c6be40259d"
      },
      "source": [
        "train_reg.shape"
      ],
      "execution_count": null,
      "outputs": [
        {
          "output_type": "execute_result",
          "data": {
            "text/plain": [
              "(1455, 223)"
            ]
          },
          "metadata": {
            "tags": []
          },
          "execution_count": 332
        }
      ]
    },
    {
      "cell_type": "code",
      "metadata": {
        "id": "tGIx-oyA1sHd",
        "colab": {
          "base_uri": "https://localhost:8080/",
          "height": 34
        },
        "outputId": "23eb549c-5a03-469c-cee9-66413fa43513"
      },
      "source": [
        "test_reg.shape"
      ],
      "execution_count": null,
      "outputs": [
        {
          "output_type": "execute_result",
          "data": {
            "text/plain": [
              "(1459, 207)"
            ]
          },
          "metadata": {
            "tags": []
          },
          "execution_count": 333
        }
      ]
    },
    {
      "cell_type": "code",
      "metadata": {
        "id": "G3i6kuyGZQuM",
        "colab": {
          "base_uri": "https://localhost:8080/",
          "height": 34
        },
        "outputId": "b7973db7-662b-41c1-a097-bebdfb75dd61"
      },
      "source": [
        "#Find the features that have in both datasets (test and train)\n",
        "encode_test = [ele for ele in train_reg.columns if ele in test_reg.columns] \n",
        "len(encode_test)"
      ],
      "execution_count": null,
      "outputs": [
        {
          "output_type": "execute_result",
          "data": {
            "text/plain": [
              "206"
            ]
          },
          "metadata": {
            "tags": []
          },
          "execution_count": 334
        }
      ]
    },
    {
      "cell_type": "code",
      "metadata": {
        "id": "gWVJNfNBZ-uR",
        "colab": {
          "base_uri": "https://localhost:8080/",
          "height": 54
        },
        "outputId": "e153121a-73a6-464f-8113-4cc6bb571e14"
      },
      "source": [
        "print(encode_test)"
      ],
      "execution_count": null,
      "outputs": [
        {
          "output_type": "stream",
          "text": [
            "['Id', 'LotFrontage', 'LotArea', 'OverallQual', 'OverallCond', 'MasVnrArea', 'ExterQual', 'ExterCond', 'BsmtQual', 'BsmtCond', 'BsmtExposure', 'BsmtFinType1', 'BsmtFinSF1', 'BsmtFinType2', 'BsmtFinSF2', 'BsmtUnfSF', 'LowQualFinSF', 'GrLivArea', 'BsmtFullBath', 'BsmtHalfBath', 'BedroomAbvGr', 'KitchenAbvGr', 'KitchenQual', 'TotRmsAbvGrd', 'Functional', 'Fireplaces', 'FireplaceQu', 'GarageYrBlt', 'GarageFinish', 'GarageCars', 'GarageArea', 'GarageQual', 'GarageCond', 'PavedDrive', 'WoodDeckSF', 'OpenPorchSF', 'EnclosedPorch', '3SsnPorch', 'ScreenPorch', 'PoolArea', 'PoolQC', 'MiscVal', 'MoSold', 'YrSold', 'All_Bath', 'Have_fireplace', 'Year_BuildRem', 'Total_SF', 'MSSubClass_B', 'MSSubClass_C', 'MSSubClass_D', 'MSSubClass_E', 'MSSubClass_F', 'MSSubClass_G', 'MSSubClass_H', 'MSSubClass_I', 'MSSubClass_J', 'MSSubClass_L', 'MSSubClass_M', 'MSSubClass_O', 'MSSubClass_P', 'MSSubClass_Q', 'MSZoning_FV', 'MSZoning_RH', 'MSZoning_RL', 'MSZoning_RM', 'Street_Pave', 'Alley_NA', 'Alley_Pave', 'LotShape_IR2', 'LotShape_IR3', 'LotShape_Reg', 'LandContour_HLS', 'LandContour_Low', 'LandContour_Lvl', 'LotConfig_CulDSac', 'LotConfig_FR2', 'LotConfig_FR3', 'LotConfig_Inside', 'LandSlope_Mod', 'LandSlope_Sev', 'Neighborhood_Blueste', 'Neighborhood_BrDale', 'Neighborhood_BrkSide', 'Neighborhood_ClearCr', 'Neighborhood_CollgCr', 'Neighborhood_Crawfor', 'Neighborhood_Edwards', 'Neighborhood_Gilbert', 'Neighborhood_IDOTRR', 'Neighborhood_MeadowV', 'Neighborhood_Mitchel', 'Neighborhood_NAmes', 'Neighborhood_NPkVill', 'Neighborhood_NWAmes', 'Neighborhood_NoRidge', 'Neighborhood_NridgHt', 'Neighborhood_OldTown', 'Neighborhood_SWISU', 'Neighborhood_Sawyer', 'Neighborhood_SawyerW', 'Neighborhood_Somerst', 'Neighborhood_StoneBr', 'Neighborhood_Timber', 'Neighborhood_Veenker', 'Condition1_Feedr', 'Condition1_Norm', 'Condition1_PosA', 'Condition1_PosN', 'Condition1_RRAe', 'Condition1_RRAn', 'Condition1_RRNe', 'Condition1_RRNn', 'Condition2_Feedr', 'Condition2_Norm', 'Condition2_PosA', 'Condition2_PosN', 'BldgType_2fmCon', 'BldgType_Duplex', 'BldgType_Twnhs', 'BldgType_TwnhsE', 'HouseStyle_1.5Unf', 'HouseStyle_1Story', 'HouseStyle_2.5Unf', 'HouseStyle_2Story', 'HouseStyle_SFoyer', 'HouseStyle_SLvl', 'RoofStyle_Gable', 'RoofStyle_Gambrel', 'RoofStyle_Hip', 'RoofStyle_Mansard', 'RoofStyle_Shed', 'RoofMatl_Tar&Grv', 'RoofMatl_WdShake', 'RoofMatl_WdShngl', 'Exterior1st_AsphShn', 'Exterior1st_BrkComm', 'Exterior1st_BrkFace', 'Exterior1st_CBlock', 'Exterior1st_CemntBd', 'Exterior1st_HdBoard', 'Exterior1st_MetalSd', 'Exterior1st_Plywood', 'Exterior1st_Stucco', 'Exterior1st_VinylSd', 'Exterior1st_Wd Sdng', 'Exterior1st_WdShing', 'Exterior2nd_AsphShn', 'Exterior2nd_Brk Cmn', 'Exterior2nd_BrkFace', 'Exterior2nd_CBlock', 'Exterior2nd_CmentBd', 'Exterior2nd_HdBoard', 'Exterior2nd_ImStucc', 'Exterior2nd_MetalSd', 'Exterior2nd_Plywood', 'Exterior2nd_Stone', 'Exterior2nd_Stucco', 'Exterior2nd_VinylSd', 'Exterior2nd_Wd Sdng', 'Exterior2nd_Wd Shng', 'MasVnrType_BrkFace', 'MasVnrType_None', 'MasVnrType_Stone', 'Foundation_CBlock', 'Foundation_PConc', 'Foundation_Slab', 'Foundation_Stone', 'Foundation_Wood', 'Heating_GasW', 'Heating_Grav', 'Heating_Wall', 'HeatingQC_2', 'HeatingQC_4', 'HeatingQC_1', 'HeatingQC_3', 'CentralAir_1', 'Electrical_FuseF', 'Electrical_FuseP', 'Electrical_SBrkr', 'GarageType_Attchd', 'GarageType_Basment', 'GarageType_BuiltIn', 'GarageType_CarPort', 'GarageType_Detchd', 'GarageType_NA', 'Fence_GdWo', 'Fence_MnPrv', 'Fence_MnWw', 'Fence_NA', 'MiscFeature_NA', 'MiscFeature_Othr', 'MiscFeature_Shed', 'SaleType_CWD', 'SaleType_Con', 'SaleType_ConLD', 'SaleType_ConLI', 'SaleType_ConLw', 'SaleType_New', 'SaleType_Oth', 'SaleType_WD', 'SaleCondition_AdjLand', 'SaleCondition_Alloca', 'SaleCondition_Family', 'SaleCondition_Normal', 'SaleCondition_Partial']\n"
          ],
          "name": "stdout"
        }
      ]
    },
    {
      "cell_type": "code",
      "metadata": {
        "id": "lGo-GwxCMaZ9"
      },
      "source": [
        "#Put the same features of test set plus the SalePrice\n",
        "encode_train =['Id','SalePrice','LotFrontage', 'LotArea', 'OverallQual', 'OverallCond', 'MasVnrArea', 'ExterQual', 'ExterCond', 'BsmtQual', 'BsmtCond', 'BsmtExposure', 'BsmtFinType1', 'BsmtFinSF1', 'BsmtFinType2', 'BsmtFinSF2', 'BsmtUnfSF', 'LowQualFinSF', 'GrLivArea', 'BsmtFullBath', 'BsmtHalfBath', 'BedroomAbvGr', 'KitchenAbvGr', 'KitchenQual', 'TotRmsAbvGrd', 'Functional', 'Fireplaces', 'FireplaceQu', 'GarageYrBlt', 'GarageFinish', 'GarageCars', 'GarageArea', 'GarageQual', 'GarageCond', 'PavedDrive', 'WoodDeckSF', 'OpenPorchSF', 'EnclosedPorch', '3SsnPorch', 'ScreenPorch', 'PoolArea', 'PoolQC', 'MiscVal', 'MoSold', 'YrSold', 'All_Bath', 'Have_fireplace', 'Year_BuildRem', 'Total_SF', 'MSSubClass_B', 'MSSubClass_C', 'MSSubClass_D', 'MSSubClass_E', 'MSSubClass_F', 'MSSubClass_G', 'MSSubClass_H', 'MSSubClass_I', 'MSSubClass_J', 'MSSubClass_L', 'MSSubClass_M', 'MSSubClass_O', 'MSSubClass_P', 'MSSubClass_Q', 'MSZoning_FV', 'MSZoning_RH', 'MSZoning_RL', 'MSZoning_RM', 'Street_Pave', 'Alley_NA', 'Alley_Pave', 'LotShape_IR2', 'LotShape_IR3', 'LotShape_Reg', 'LandContour_HLS', 'LandContour_Low', 'LandContour_Lvl', 'LotConfig_CulDSac', 'LotConfig_FR2', 'LotConfig_FR3', 'LotConfig_Inside', 'LandSlope_Mod', 'LandSlope_Sev', 'Neighborhood_Blueste', 'Neighborhood_BrDale', 'Neighborhood_BrkSide', 'Neighborhood_ClearCr', 'Neighborhood_CollgCr', 'Neighborhood_Crawfor', 'Neighborhood_Edwards', 'Neighborhood_Gilbert', 'Neighborhood_IDOTRR', 'Neighborhood_MeadowV', 'Neighborhood_Mitchel', 'Neighborhood_NAmes', 'Neighborhood_NPkVill', 'Neighborhood_NWAmes', 'Neighborhood_NoRidge', 'Neighborhood_NridgHt', 'Neighborhood_OldTown', 'Neighborhood_SWISU', 'Neighborhood_Sawyer', 'Neighborhood_SawyerW', 'Neighborhood_Somerst', 'Neighborhood_StoneBr', 'Neighborhood_Timber', 'Neighborhood_Veenker', 'Condition1_Feedr', 'Condition1_Norm', 'Condition1_PosA', 'Condition1_PosN', 'Condition1_RRAe', 'Condition1_RRAn', 'Condition1_RRNe', 'Condition1_RRNn', 'Condition2_Feedr', 'Condition2_Norm', 'Condition2_PosA', 'Condition2_PosN', 'BldgType_2fmCon', 'BldgType_Duplex', 'BldgType_Twnhs', 'BldgType_TwnhsE', 'HouseStyle_1.5Unf', 'HouseStyle_1Story', 'HouseStyle_2.5Unf', 'HouseStyle_2Story', 'HouseStyle_SFoyer', 'HouseStyle_SLvl', 'RoofStyle_Gable', 'RoofStyle_Gambrel', 'RoofStyle_Hip', 'RoofStyle_Mansard', 'RoofStyle_Shed', 'RoofMatl_Tar&Grv', 'RoofMatl_WdShake', 'RoofMatl_WdShngl', 'Exterior1st_AsphShn', 'Exterior1st_BrkComm', 'Exterior1st_BrkFace', 'Exterior1st_CBlock', 'Exterior1st_CemntBd', 'Exterior1st_HdBoard', 'Exterior1st_MetalSd', 'Exterior1st_Plywood', 'Exterior1st_Stucco', 'Exterior1st_VinylSd', 'Exterior1st_Wd Sdng', 'Exterior1st_WdShing', 'Exterior2nd_AsphShn', 'Exterior2nd_Brk Cmn', 'Exterior2nd_BrkFace', 'Exterior2nd_CBlock', 'Exterior2nd_CmentBd', 'Exterior2nd_HdBoard', 'Exterior2nd_ImStucc', 'Exterior2nd_MetalSd', 'Exterior2nd_Plywood', 'Exterior2nd_Stone', 'Exterior2nd_Stucco', 'Exterior2nd_VinylSd', 'Exterior2nd_Wd Sdng', 'Exterior2nd_Wd Shng', 'MasVnrType_BrkFace', 'MasVnrType_None', 'MasVnrType_Stone', 'Foundation_CBlock', 'Foundation_PConc', 'Foundation_Slab', 'Foundation_Stone', 'Foundation_Wood', 'Heating_GasW', 'Heating_Grav', 'Heating_Wall', 'HeatingQC_2', 'HeatingQC_4', 'HeatingQC_1', 'HeatingQC_3', 'CentralAir_1', 'Electrical_FuseF', 'Electrical_FuseP', 'Electrical_SBrkr', 'GarageType_Attchd', 'GarageType_Basment', 'GarageType_BuiltIn', 'GarageType_CarPort', 'GarageType_Detchd', 'GarageType_NA', 'Fence_GdWo', 'Fence_MnPrv', 'Fence_MnWw', 'Fence_NA', 'MiscFeature_NA', 'MiscFeature_Othr', 'MiscFeature_Shed', 'SaleType_CWD', 'SaleType_Con', 'SaleType_ConLD', 'SaleType_ConLI', 'SaleType_ConLw', 'SaleType_New', 'SaleType_Oth', 'SaleType_WD', 'SaleCondition_AdjLand', 'SaleCondition_Alloca', 'SaleCondition_Family', 'SaleCondition_Normal', 'SaleCondition_Partial']"
      ],
      "execution_count": null,
      "outputs": []
    },
    {
      "cell_type": "code",
      "metadata": {
        "id": "Nbxbfq95Fem5",
        "colab": {
          "base_uri": "https://localhost:8080/",
          "height": 34
        },
        "outputId": "d4cc2aa8-24f4-41b5-df1c-ce62c6229156"
      },
      "source": [
        "train_reg[encode_train].shape"
      ],
      "execution_count": null,
      "outputs": [
        {
          "output_type": "execute_result",
          "data": {
            "text/plain": [
              "(1455, 207)"
            ]
          },
          "metadata": {
            "tags": []
          },
          "execution_count": 340
        }
      ]
    },
    {
      "cell_type": "code",
      "metadata": {
        "id": "9CeaesGgFf9R",
        "colab": {
          "base_uri": "https://localhost:8080/",
          "height": 34
        },
        "outputId": "1075e17e-4312-4427-eab4-62e000a6e482"
      },
      "source": [
        "test_reg[encode_test].shape"
      ],
      "execution_count": null,
      "outputs": [
        {
          "output_type": "execute_result",
          "data": {
            "text/plain": [
              "(1459, 206)"
            ]
          },
          "metadata": {
            "tags": []
          },
          "execution_count": 341
        }
      ]
    },
    {
      "cell_type": "code",
      "metadata": {
        "id": "-7oXbTs26yGN",
        "colab": {
          "base_uri": "https://localhost:8080/",
          "height": 1000
        },
        "outputId": "baa63598-5e1d-482a-94a5-2b8df0249082"
      },
      "source": [
        "#See the correlation and sorting in descending order - absolute values\n",
        "corr2= train_reg[encode_train].corr().SalePrice.drop(['Id'])\n",
        "features = list((abs(corr2).sort_values(ascending=False)).index)\n",
        "corr_all = corr2[features]\n",
        "features = features[1:]\n",
        "print(features)\n",
        "print(corr_all[:100])"
      ],
      "execution_count": null,
      "outputs": [
        {
          "output_type": "stream",
          "text": [
            "['Total_SF', 'GrLivArea', 'GarageArea', 'Year_BuildRem', 'All_Bath', 'TotRmsAbvGrd', 'Foundation_PConc', 'Have_fireplace', 'OpenPorchSF', 'MasVnrArea', 'GarageType_Attchd', 'LotArea', 'MSSubClass_F', 'MasVnrType_None', 'GarageType_Detchd', 'LotFrontage', 'Neighborhood_NridgHt', 'CentralAir_1', 'MSZoning_RM', 'Exterior2nd_VinylSd', 'Exterior1st_VinylSd', 'WoodDeckSF', 'SaleType_New', 'Foundation_CBlock', 'HeatingQC_3', 'SaleCondition_Partial', 'MSSubClass_B', 'GarageYrBlt', 'GarageType_NA', 'MasVnrType_Stone', 'Electrical_SBrkr', 'MSZoning_RL', 'LotShape_Reg', 'HouseStyle_2Story', 'Neighborhood_NoRidge', 'BsmtFullBath', 'Neighborhood_IDOTRR', 'MasVnrType_BrkFace', 'Neighborhood_OldTown', 'BsmtFinSF1', 'GarageType_BuiltIn', 'SaleType_WD', 'Neighborhood_Edwards', 'BsmtUnfSF', 'EnclosedPorch', 'BedroomAbvGr', 'Exterior1st_Wd Sdng', 'RoofStyle_Hip', 'Neighborhood_StoneBr', 'RoofStyle_Gable', 'Exterior2nd_Wd Sdng', 'Fence_NA', 'HeatingQC_2', 'Neighborhood_BrkSide', 'Neighborhood_Somerst', 'MSSubClass_E', 'Exterior1st_MetalSd', 'Electrical_FuseF', 'Exterior2nd_MetalSd', 'Neighborhood_NAmes', 'Foundation_Slab', 'Fence_MnPrv', 'LotConfig_CulDSac', 'Heating_Grav', 'Neighborhood_MeadowV', 'KitchenAbvGr', 'Neighborhood_Timber', 'Alley_NA', 'LotShape_IR2', 'Neighborhood_BrDale', 'Condition1_Feedr', 'HeatingQC_4', 'MSZoning_FV', 'Neighborhood_Sawyer', 'Neighborhood_CollgCr', 'Condition1_Norm', 'Fence_GdWo', 'BldgType_Duplex', 'MSSubClass_L', 'MSSubClass_O', 'LandContour_HLS', 'ScreenPorch', 'BldgType_2fmCon', 'MSSubClass_P', 'BldgType_Twnhs', 'HouseStyle_1.5Unf', 'MSSubClass_Q', 'MSSubClass_D', 'SaleCondition_Normal', 'Exterior1st_CemntBd', 'HouseStyle_SFoyer', 'MSSubClass_M', 'Exterior2nd_CmentBd', 'Neighborhood_Crawfor', 'RoofMatl_WdShngl', 'GarageType_CarPort', 'LotConfig_Inside', 'Exterior1st_HdBoard', 'Neighborhood_Gilbert', 'Exterior1st_BrkComm', 'Heating_Wall', 'Neighborhood_ClearCr', 'MiscFeature_NA', 'HouseStyle_1Story', 'MSZoning_RH', 'MiscFeature_Shed', 'Neighborhood_Veenker', 'Electrical_FuseP', 'SaleCondition_AdjLand', 'Neighborhood_NWAmes', 'Condition1_PosN', 'MiscVal', 'MiscFeature_Othr', 'Neighborhood_SWISU', '3SsnPorch', 'Exterior1st_WdShing', 'Exterior2nd_Stucco', 'Street_Pave', 'Exterior2nd_Brk Cmn', 'Condition2_Feedr', 'Condition2_PosN', 'Exterior2nd_HdBoard', 'RoofMatl_WdShake', 'Condition1_PosA', 'Exterior2nd_Wd Shng', 'LowQualFinSF', 'Fence_MnWw', 'SaleType_ConLD', 'RoofStyle_Gambrel', 'Condition2_Norm', 'SaleCondition_Family', 'Condition2_PosA', 'Condition1_RRAe', 'Exterior1st_Stucco', 'SaleType_Con', 'HeatingQC_1', 'LotShape_IR3', 'Neighborhood_Mitchel', 'PoolArea', 'LandContour_Low', 'SaleType_Oth', 'MSSubClass_J', 'SaleType_ConLw', 'Neighborhood_SawyerW', 'Exterior1st_AsphShn', 'Neighborhood_NPkVill', 'GarageType_Basment', 'Exterior2nd_CBlock', 'Exterior1st_CBlock', 'LandSlope_Mod', 'MSSubClass_G', 'BldgType_TwnhsE', 'RoofStyle_Shed', 'LandSlope_Sev', 'Heating_GasW', 'BsmtFinSF2', 'HouseStyle_2.5Unf', 'SaleCondition_Alloca', 'Exterior2nd_AsphShn', 'SaleType_CWD', 'Condition1_RRNn', 'LotConfig_FR3', 'Exterior1st_BrkFace', 'Exterior2nd_Plywood', 'MSSubClass_C', 'Neighborhood_Blueste', 'Exterior2nd_Stone', 'Condition1_RRAn', 'Exterior2nd_ImStucc', 'BsmtHalfBath', 'Foundation_Stone', 'Exterior1st_Plywood', 'Condition1_RRNe', 'LandContour_Lvl', 'MSSubClass_H', 'Alley_Pave', 'HouseStyle_SLvl', 'RoofMatl_Tar&Grv', 'Foundation_Wood', 'RoofStyle_Mansard', 'LotConfig_FR2', 'SaleType_ConLI', 'Exterior2nd_BrkFace', 'MSSubClass_I']\n",
            "SalePrice                1.000000\n",
            "Total_SF                 0.818691\n",
            "GrLivArea                0.731785\n",
            "GarageArea               0.655958\n",
            "Year_BuildRem            0.648470\n",
            "All_Bath                 0.635021\n",
            "TotRmsAbvGrd             0.531782\n",
            "Foundation_PConc         0.530462\n",
            "Have_fireplace           0.510260\n",
            "OpenPorchSF              0.455833\n",
            "MasVnrArea               0.427817\n",
            "GarageType_Attchd        0.415945\n",
            "LotArea                  0.399850\n",
            "MSSubClass_F             0.398748\n",
            "MasVnrType_None         -0.393368\n",
            "GarageType_Detchd       -0.389303\n",
            "LotFrontage              0.362279\n",
            "Neighborhood_NridgHt     0.357674\n",
            "CentralAir_1             0.353981\n",
            "MSZoning_RM             -0.348755\n",
            "Exterior2nd_VinylSd      0.346853\n",
            "Exterior1st_VinylSd      0.345627\n",
            "WoodDeckSF               0.344935\n",
            "SaleType_New             0.337377\n",
            "Foundation_CBlock       -0.336150\n",
            "HeatingQC_3             -0.335155\n",
            "SaleCondition_Partial    0.332533\n",
            "MSSubClass_B            -0.331599\n",
            "GarageYrBlt              0.331028\n",
            "GarageType_NA           -0.325179\n",
            "MasVnrType_Stone         0.319149\n",
            "Electrical_SBrkr         0.307543\n",
            "MSZoning_RL              0.298932\n",
            "LotShape_Reg            -0.284730\n",
            "HouseStyle_2Story        0.260049\n",
            "Neighborhood_NoRidge     0.249433\n",
            "BsmtFullBath             0.237586\n",
            "Neighborhood_IDOTRR     -0.234722\n",
            "MasVnrType_BrkFace       0.233450\n",
            "Neighborhood_OldTown    -0.233014\n",
            "BsmtFinSF1               0.228789\n",
            "GarageType_BuiltIn       0.227421\n",
            "SaleType_WD             -0.217600\n",
            "Neighborhood_Edwards    -0.214805\n",
            "BsmtUnfSF                0.209785\n",
            "EnclosedPorch           -0.208291\n",
            "BedroomAbvGr             0.202357\n",
            "Exterior1st_Wd Sdng     -0.195666\n",
            "RoofStyle_Hip            0.194153\n",
            "Neighborhood_StoneBr     0.188716\n",
            "RoofStyle_Gable         -0.185045\n",
            "Exterior2nd_Wd Sdng     -0.183009\n",
            "Fence_NA                 0.182837\n",
            "HeatingQC_2             -0.181469\n",
            "Neighborhood_BrkSide    -0.176061\n",
            "Neighborhood_Somerst     0.174494\n",
            "MSSubClass_E            -0.173345\n",
            "Exterior1st_MetalSd     -0.172461\n",
            "Electrical_FuseF        -0.167548\n",
            "Exterior2nd_MetalSd     -0.167035\n",
            "Neighborhood_NAmes      -0.165808\n",
            "Foundation_Slab         -0.159984\n",
            "Fence_MnPrv             -0.159030\n",
            "LotConfig_CulDSac        0.151927\n",
            "Heating_Grav            -0.150457\n",
            "Neighborhood_MeadowV    -0.150392\n",
            "KitchenAbvGr            -0.145291\n",
            "Neighborhood_Timber      0.141749\n",
            "Alley_NA                 0.132123\n",
            "LotShape_IR2             0.128007\n",
            "Neighborhood_BrDale     -0.126287\n",
            "Condition1_Feedr        -0.125099\n",
            "HeatingQC_4             -0.125022\n",
            "MSZoning_FV              0.123264\n",
            "Neighborhood_Sawyer     -0.122871\n",
            "Neighborhood_CollgCr     0.122089\n",
            "Condition1_Norm          0.118075\n",
            "Fence_GdWo              -0.117736\n",
            "BldgType_Duplex         -0.117066\n",
            "MSSubClass_L            -0.117066\n",
            "MSSubClass_O            -0.115225\n",
            "LandContour_HLS          0.113564\n",
            "ScreenPorch              0.111598\n",
            "BldgType_2fmCon         -0.110459\n",
            "MSSubClass_P            -0.109336\n",
            "BldgType_Twnhs          -0.109211\n",
            "HouseStyle_1.5Unf       -0.106289\n",
            "MSSubClass_Q            -0.105138\n",
            "MSSubClass_D            -0.102026\n",
            "SaleCondition_Normal    -0.099719\n",
            "Exterior1st_CemntBd      0.097025\n",
            "HouseStyle_SFoyer       -0.095953\n",
            "MSSubClass_M             0.095862\n",
            "Exterior2nd_CmentBd      0.094618\n",
            "Neighborhood_Crawfor     0.089375\n",
            "RoofMatl_WdShngl         0.087296\n",
            "GarageType_CarPort      -0.086477\n",
            "LotConfig_Inside        -0.083230\n",
            "Exterior1st_HdBoard     -0.081956\n",
            "Neighborhood_Gilbert     0.081535\n",
            "Name: SalePrice, dtype: float64\n"
          ],
          "name": "stdout"
        }
      ]
    },
    {
      "cell_type": "code",
      "metadata": {
        "id": "8BDA7xSc8MJl",
        "colab": {
          "base_uri": "https://localhost:8080/",
          "height": 34
        },
        "outputId": "01984b1e-18cb-4031-af03-5402240f146a"
      },
      "source": [
        "train_reg[features].shape"
      ],
      "execution_count": null,
      "outputs": [
        {
          "output_type": "execute_result",
          "data": {
            "text/plain": [
              "(1455, 184)"
            ]
          },
          "metadata": {
            "tags": []
          },
          "execution_count": 343
        }
      ]
    },
    {
      "cell_type": "code",
      "metadata": {
        "id": "yMdFahEgfQ3i",
        "colab": {
          "base_uri": "https://localhost:8080/",
          "height": 34
        },
        "outputId": "ee1b2ba2-5207-40ba-c185-6837b397fedd"
      },
      "source": [
        "test_reg[features].shape"
      ],
      "execution_count": null,
      "outputs": [
        {
          "output_type": "execute_result",
          "data": {
            "text/plain": [
              "(1459, 184)"
            ]
          },
          "metadata": {
            "tags": []
          },
          "execution_count": 344
        }
      ]
    },
    {
      "cell_type": "markdown",
      "metadata": {
        "id": "AYhvLmyOooOD"
      },
      "source": [
        "# Machine Learning\n",
        "1. Lasso to decrease the multicollinearity by put coefficients = 0 in to features not important. \n",
        "2. Prediction LinearRegression with Lasso features (or Lasso predict) \n",
        "2. XgboostRegressor with Bayesian optimizator BayesSearchCV"
      ]
    },
    {
      "cell_type": "markdown",
      "metadata": {
        "id": "k1GwdbBqaDbs"
      },
      "source": [
        "#Lasso\n"
      ]
    },
    {
      "cell_type": "code",
      "metadata": {
        "id": "Ii9PnEzDsS5v"
      },
      "source": [
        "y = train_reg['SalePrice']\n",
        "X = train_reg[features]\n",
        "X_train, X_test, y_train, y_test = train_test_split(X,y,random_state=0,test_size=0.25)"
      ],
      "execution_count": null,
      "outputs": []
    },
    {
      "cell_type": "code",
      "metadata": {
        "id": "JvThzBRmEu6G"
      },
      "source": [
        "ls = Lasso(random_state=0, max_iter=-1)\n",
        "\n",
        "param = {'ls__alpha': np.linspace(0.00016,0.00017,201)}\n",
        "                    \n",
        "pipe = Pipeline([('RobustScaler',RobustScaler()),('ls',ls)])"
      ],
      "execution_count": null,
      "outputs": []
    },
    {
      "cell_type": "code",
      "metadata": {
        "id": "kZRlg0kKsS55",
        "colab": {
          "base_uri": "https://localhost:8080/",
          "height": 437
        },
        "outputId": "7f040afa-bb0a-4a1d-c7be-ce4382f79754"
      },
      "source": [
        "cv = GridSearchCV(pipe,param,cv=5, scoring='neg_root_mean_squared_error').fit(X_train,y_train)\n",
        "\n",
        "print('Best params Lasso: {}'.format(ls_cv.best_params_))\n",
        "print('Best score Lasso: {}'.format(-ls_cv.best_score_))\n"
      ],
      "execution_count": null,
      "outputs": [
        {
          "output_type": "error",
          "ename": "KeyboardInterrupt",
          "evalue": "ignored",
          "traceback": [
            "\u001b[0;31m---------------------------------------------------------------------------\u001b[0m",
            "\u001b[0;31mKeyboardInterrupt\u001b[0m                         Traceback (most recent call last)",
            "\u001b[0;32m<ipython-input-138-c8a8e466ba20>\u001b[0m in \u001b[0;36m<module>\u001b[0;34m()\u001b[0m\n\u001b[0;32m----> 1\u001b[0;31m \u001b[0mcv\u001b[0m \u001b[0;34m=\u001b[0m \u001b[0mGridSearchCV\u001b[0m\u001b[0;34m(\u001b[0m\u001b[0mpipe\u001b[0m\u001b[0;34m,\u001b[0m\u001b[0mparam\u001b[0m\u001b[0;34m,\u001b[0m\u001b[0mcv\u001b[0m\u001b[0;34m=\u001b[0m\u001b[0;36m5\u001b[0m\u001b[0;34m,\u001b[0m \u001b[0mscoring\u001b[0m\u001b[0;34m=\u001b[0m\u001b[0;34m'neg_root_mean_squared_error'\u001b[0m\u001b[0;34m)\u001b[0m\u001b[0;34m.\u001b[0m\u001b[0mfit\u001b[0m\u001b[0;34m(\u001b[0m\u001b[0mX_train\u001b[0m\u001b[0;34m,\u001b[0m\u001b[0my_train\u001b[0m\u001b[0;34m)\u001b[0m\u001b[0;34m\u001b[0m\u001b[0;34m\u001b[0m\u001b[0m\n\u001b[0m\u001b[1;32m      2\u001b[0m \u001b[0;34m\u001b[0m\u001b[0m\n\u001b[1;32m      3\u001b[0m \u001b[0mprint\u001b[0m\u001b[0;34m(\u001b[0m\u001b[0;34m'Best params Lasso: {}'\u001b[0m\u001b[0;34m.\u001b[0m\u001b[0mformat\u001b[0m\u001b[0;34m(\u001b[0m\u001b[0mls_cv\u001b[0m\u001b[0;34m.\u001b[0m\u001b[0mbest_params_\u001b[0m\u001b[0;34m)\u001b[0m\u001b[0;34m)\u001b[0m\u001b[0;34m\u001b[0m\u001b[0;34m\u001b[0m\u001b[0m\n\u001b[1;32m      4\u001b[0m \u001b[0mprint\u001b[0m\u001b[0;34m(\u001b[0m\u001b[0;34m'Best score Lasso: {}'\u001b[0m\u001b[0;34m.\u001b[0m\u001b[0mformat\u001b[0m\u001b[0;34m(\u001b[0m\u001b[0;34m-\u001b[0m\u001b[0mls_cv\u001b[0m\u001b[0;34m.\u001b[0m\u001b[0mbest_score_\u001b[0m\u001b[0;34m)\u001b[0m\u001b[0;34m)\u001b[0m\u001b[0;34m\u001b[0m\u001b[0;34m\u001b[0m\u001b[0m\n",
            "\u001b[0;32m/usr/local/lib/python3.6/dist-packages/sklearn/model_selection/_search.py\u001b[0m in \u001b[0;36mfit\u001b[0;34m(self, X, y, groups, **fit_params)\u001b[0m\n\u001b[1;32m    708\u001b[0m                 \u001b[0;32mreturn\u001b[0m \u001b[0mresults\u001b[0m\u001b[0;34m\u001b[0m\u001b[0;34m\u001b[0m\u001b[0m\n\u001b[1;32m    709\u001b[0m \u001b[0;34m\u001b[0m\u001b[0m\n\u001b[0;32m--> 710\u001b[0;31m             \u001b[0mself\u001b[0m\u001b[0;34m.\u001b[0m\u001b[0m_run_search\u001b[0m\u001b[0;34m(\u001b[0m\u001b[0mevaluate_candidates\u001b[0m\u001b[0;34m)\u001b[0m\u001b[0;34m\u001b[0m\u001b[0;34m\u001b[0m\u001b[0m\n\u001b[0m\u001b[1;32m    711\u001b[0m \u001b[0;34m\u001b[0m\u001b[0m\n\u001b[1;32m    712\u001b[0m         \u001b[0;31m# For multi-metric evaluation, store the best_index_, best_params_ and\u001b[0m\u001b[0;34m\u001b[0m\u001b[0;34m\u001b[0m\u001b[0;34m\u001b[0m\u001b[0m\n",
            "\u001b[0;32m/usr/local/lib/python3.6/dist-packages/sklearn/model_selection/_search.py\u001b[0m in \u001b[0;36m_run_search\u001b[0;34m(self, evaluate_candidates)\u001b[0m\n\u001b[1;32m   1149\u001b[0m     \u001b[0;32mdef\u001b[0m \u001b[0m_run_search\u001b[0m\u001b[0;34m(\u001b[0m\u001b[0mself\u001b[0m\u001b[0;34m,\u001b[0m \u001b[0mevaluate_candidates\u001b[0m\u001b[0;34m)\u001b[0m\u001b[0;34m:\u001b[0m\u001b[0;34m\u001b[0m\u001b[0;34m\u001b[0m\u001b[0m\n\u001b[1;32m   1150\u001b[0m         \u001b[0;34m\"\"\"Search all candidates in param_grid\"\"\"\u001b[0m\u001b[0;34m\u001b[0m\u001b[0;34m\u001b[0m\u001b[0m\n\u001b[0;32m-> 1151\u001b[0;31m         \u001b[0mevaluate_candidates\u001b[0m\u001b[0;34m(\u001b[0m\u001b[0mParameterGrid\u001b[0m\u001b[0;34m(\u001b[0m\u001b[0mself\u001b[0m\u001b[0;34m.\u001b[0m\u001b[0mparam_grid\u001b[0m\u001b[0;34m)\u001b[0m\u001b[0;34m)\u001b[0m\u001b[0;34m\u001b[0m\u001b[0;34m\u001b[0m\u001b[0m\n\u001b[0m\u001b[1;32m   1152\u001b[0m \u001b[0;34m\u001b[0m\u001b[0m\n\u001b[1;32m   1153\u001b[0m \u001b[0;34m\u001b[0m\u001b[0m\n",
            "\u001b[0;32m/usr/local/lib/python3.6/dist-packages/sklearn/model_selection/_search.py\u001b[0m in \u001b[0;36mevaluate_candidates\u001b[0;34m(candidate_params)\u001b[0m\n\u001b[1;32m    687\u001b[0m                                \u001b[0;32mfor\u001b[0m \u001b[0mparameters\u001b[0m\u001b[0;34m,\u001b[0m \u001b[0;34m(\u001b[0m\u001b[0mtrain\u001b[0m\u001b[0;34m,\u001b[0m \u001b[0mtest\u001b[0m\u001b[0;34m)\u001b[0m\u001b[0;34m\u001b[0m\u001b[0;34m\u001b[0m\u001b[0m\n\u001b[1;32m    688\u001b[0m                                in product(candidate_params,\n\u001b[0;32m--> 689\u001b[0;31m                                           cv.split(X, y, groups)))\n\u001b[0m\u001b[1;32m    690\u001b[0m \u001b[0;34m\u001b[0m\u001b[0m\n\u001b[1;32m    691\u001b[0m                 \u001b[0;32mif\u001b[0m \u001b[0mlen\u001b[0m\u001b[0;34m(\u001b[0m\u001b[0mout\u001b[0m\u001b[0;34m)\u001b[0m \u001b[0;34m<\u001b[0m \u001b[0;36m1\u001b[0m\u001b[0;34m:\u001b[0m\u001b[0;34m\u001b[0m\u001b[0;34m\u001b[0m\u001b[0m\n",
            "\u001b[0;32m/usr/local/lib/python3.6/dist-packages/joblib/parallel.py\u001b[0m in \u001b[0;36m__call__\u001b[0;34m(self, iterable)\u001b[0m\n\u001b[1;32m   1030\u001b[0m                 \u001b[0mself\u001b[0m\u001b[0;34m.\u001b[0m\u001b[0m_iterating\u001b[0m \u001b[0;34m=\u001b[0m \u001b[0mself\u001b[0m\u001b[0;34m.\u001b[0m\u001b[0m_original_iterator\u001b[0m \u001b[0;32mis\u001b[0m \u001b[0;32mnot\u001b[0m \u001b[0;32mNone\u001b[0m\u001b[0;34m\u001b[0m\u001b[0;34m\u001b[0m\u001b[0m\n\u001b[1;32m   1031\u001b[0m \u001b[0;34m\u001b[0m\u001b[0m\n\u001b[0;32m-> 1032\u001b[0;31m             \u001b[0;32mwhile\u001b[0m \u001b[0mself\u001b[0m\u001b[0;34m.\u001b[0m\u001b[0mdispatch_one_batch\u001b[0m\u001b[0;34m(\u001b[0m\u001b[0miterator\u001b[0m\u001b[0;34m)\u001b[0m\u001b[0;34m:\u001b[0m\u001b[0;34m\u001b[0m\u001b[0;34m\u001b[0m\u001b[0m\n\u001b[0m\u001b[1;32m   1033\u001b[0m                 \u001b[0;32mpass\u001b[0m\u001b[0;34m\u001b[0m\u001b[0;34m\u001b[0m\u001b[0m\n\u001b[1;32m   1034\u001b[0m \u001b[0;34m\u001b[0m\u001b[0m\n",
            "\u001b[0;32m/usr/local/lib/python3.6/dist-packages/joblib/parallel.py\u001b[0m in \u001b[0;36mdispatch_one_batch\u001b[0;34m(self, iterator)\u001b[0m\n\u001b[1;32m    845\u001b[0m                 \u001b[0;32mreturn\u001b[0m \u001b[0;32mFalse\u001b[0m\u001b[0;34m\u001b[0m\u001b[0;34m\u001b[0m\u001b[0m\n\u001b[1;32m    846\u001b[0m             \u001b[0;32melse\u001b[0m\u001b[0;34m:\u001b[0m\u001b[0;34m\u001b[0m\u001b[0;34m\u001b[0m\u001b[0m\n\u001b[0;32m--> 847\u001b[0;31m                 \u001b[0mself\u001b[0m\u001b[0;34m.\u001b[0m\u001b[0m_dispatch\u001b[0m\u001b[0;34m(\u001b[0m\u001b[0mtasks\u001b[0m\u001b[0;34m)\u001b[0m\u001b[0;34m\u001b[0m\u001b[0;34m\u001b[0m\u001b[0m\n\u001b[0m\u001b[1;32m    848\u001b[0m                 \u001b[0;32mreturn\u001b[0m \u001b[0;32mTrue\u001b[0m\u001b[0;34m\u001b[0m\u001b[0;34m\u001b[0m\u001b[0m\n\u001b[1;32m    849\u001b[0m \u001b[0;34m\u001b[0m\u001b[0m\n",
            "\u001b[0;32m/usr/local/lib/python3.6/dist-packages/joblib/parallel.py\u001b[0m in \u001b[0;36m_dispatch\u001b[0;34m(self, batch)\u001b[0m\n\u001b[1;32m    763\u001b[0m         \u001b[0;32mwith\u001b[0m \u001b[0mself\u001b[0m\u001b[0;34m.\u001b[0m\u001b[0m_lock\u001b[0m\u001b[0;34m:\u001b[0m\u001b[0;34m\u001b[0m\u001b[0;34m\u001b[0m\u001b[0m\n\u001b[1;32m    764\u001b[0m             \u001b[0mjob_idx\u001b[0m \u001b[0;34m=\u001b[0m \u001b[0mlen\u001b[0m\u001b[0;34m(\u001b[0m\u001b[0mself\u001b[0m\u001b[0;34m.\u001b[0m\u001b[0m_jobs\u001b[0m\u001b[0;34m)\u001b[0m\u001b[0;34m\u001b[0m\u001b[0;34m\u001b[0m\u001b[0m\n\u001b[0;32m--> 765\u001b[0;31m             \u001b[0mjob\u001b[0m \u001b[0;34m=\u001b[0m \u001b[0mself\u001b[0m\u001b[0;34m.\u001b[0m\u001b[0m_backend\u001b[0m\u001b[0;34m.\u001b[0m\u001b[0mapply_async\u001b[0m\u001b[0;34m(\u001b[0m\u001b[0mbatch\u001b[0m\u001b[0;34m,\u001b[0m \u001b[0mcallback\u001b[0m\u001b[0;34m=\u001b[0m\u001b[0mcb\u001b[0m\u001b[0;34m)\u001b[0m\u001b[0;34m\u001b[0m\u001b[0;34m\u001b[0m\u001b[0m\n\u001b[0m\u001b[1;32m    766\u001b[0m             \u001b[0;31m# A job can complete so quickly than its callback is\u001b[0m\u001b[0;34m\u001b[0m\u001b[0;34m\u001b[0m\u001b[0;34m\u001b[0m\u001b[0m\n\u001b[1;32m    767\u001b[0m             \u001b[0;31m# called before we get here, causing self._jobs to\u001b[0m\u001b[0;34m\u001b[0m\u001b[0;34m\u001b[0m\u001b[0;34m\u001b[0m\u001b[0m\n",
            "\u001b[0;32m/usr/local/lib/python3.6/dist-packages/joblib/_parallel_backends.py\u001b[0m in \u001b[0;36mapply_async\u001b[0;34m(self, func, callback)\u001b[0m\n\u001b[1;32m    206\u001b[0m     \u001b[0;32mdef\u001b[0m \u001b[0mapply_async\u001b[0m\u001b[0;34m(\u001b[0m\u001b[0mself\u001b[0m\u001b[0;34m,\u001b[0m \u001b[0mfunc\u001b[0m\u001b[0;34m,\u001b[0m \u001b[0mcallback\u001b[0m\u001b[0;34m=\u001b[0m\u001b[0;32mNone\u001b[0m\u001b[0;34m)\u001b[0m\u001b[0;34m:\u001b[0m\u001b[0;34m\u001b[0m\u001b[0;34m\u001b[0m\u001b[0m\n\u001b[1;32m    207\u001b[0m         \u001b[0;34m\"\"\"Schedule a func to be run\"\"\"\u001b[0m\u001b[0;34m\u001b[0m\u001b[0;34m\u001b[0m\u001b[0m\n\u001b[0;32m--> 208\u001b[0;31m         \u001b[0mresult\u001b[0m \u001b[0;34m=\u001b[0m \u001b[0mImmediateResult\u001b[0m\u001b[0;34m(\u001b[0m\u001b[0mfunc\u001b[0m\u001b[0;34m)\u001b[0m\u001b[0;34m\u001b[0m\u001b[0;34m\u001b[0m\u001b[0m\n\u001b[0m\u001b[1;32m    209\u001b[0m         \u001b[0;32mif\u001b[0m \u001b[0mcallback\u001b[0m\u001b[0;34m:\u001b[0m\u001b[0;34m\u001b[0m\u001b[0;34m\u001b[0m\u001b[0m\n\u001b[1;32m    210\u001b[0m             \u001b[0mcallback\u001b[0m\u001b[0;34m(\u001b[0m\u001b[0mresult\u001b[0m\u001b[0;34m)\u001b[0m\u001b[0;34m\u001b[0m\u001b[0;34m\u001b[0m\u001b[0m\n",
            "\u001b[0;32m/usr/local/lib/python3.6/dist-packages/joblib/_parallel_backends.py\u001b[0m in \u001b[0;36m__init__\u001b[0;34m(self, batch)\u001b[0m\n\u001b[1;32m    570\u001b[0m         \u001b[0;31m# Don't delay the application, to avoid keeping the input\u001b[0m\u001b[0;34m\u001b[0m\u001b[0;34m\u001b[0m\u001b[0;34m\u001b[0m\u001b[0m\n\u001b[1;32m    571\u001b[0m         \u001b[0;31m# arguments in memory\u001b[0m\u001b[0;34m\u001b[0m\u001b[0;34m\u001b[0m\u001b[0;34m\u001b[0m\u001b[0m\n\u001b[0;32m--> 572\u001b[0;31m         \u001b[0mself\u001b[0m\u001b[0;34m.\u001b[0m\u001b[0mresults\u001b[0m \u001b[0;34m=\u001b[0m \u001b[0mbatch\u001b[0m\u001b[0;34m(\u001b[0m\u001b[0;34m)\u001b[0m\u001b[0;34m\u001b[0m\u001b[0;34m\u001b[0m\u001b[0m\n\u001b[0m\u001b[1;32m    573\u001b[0m \u001b[0;34m\u001b[0m\u001b[0m\n\u001b[1;32m    574\u001b[0m     \u001b[0;32mdef\u001b[0m \u001b[0mget\u001b[0m\u001b[0;34m(\u001b[0m\u001b[0mself\u001b[0m\u001b[0;34m)\u001b[0m\u001b[0;34m:\u001b[0m\u001b[0;34m\u001b[0m\u001b[0;34m\u001b[0m\u001b[0m\n",
            "\u001b[0;32m/usr/local/lib/python3.6/dist-packages/joblib/parallel.py\u001b[0m in \u001b[0;36m__call__\u001b[0;34m(self)\u001b[0m\n\u001b[1;32m    251\u001b[0m         \u001b[0;32mwith\u001b[0m \u001b[0mparallel_backend\u001b[0m\u001b[0;34m(\u001b[0m\u001b[0mself\u001b[0m\u001b[0;34m.\u001b[0m\u001b[0m_backend\u001b[0m\u001b[0;34m,\u001b[0m \u001b[0mn_jobs\u001b[0m\u001b[0;34m=\u001b[0m\u001b[0mself\u001b[0m\u001b[0;34m.\u001b[0m\u001b[0m_n_jobs\u001b[0m\u001b[0;34m)\u001b[0m\u001b[0;34m:\u001b[0m\u001b[0;34m\u001b[0m\u001b[0;34m\u001b[0m\u001b[0m\n\u001b[1;32m    252\u001b[0m             return [func(*args, **kwargs)\n\u001b[0;32m--> 253\u001b[0;31m                     for func, args, kwargs in self.items]\n\u001b[0m\u001b[1;32m    254\u001b[0m \u001b[0;34m\u001b[0m\u001b[0m\n\u001b[1;32m    255\u001b[0m     \u001b[0;32mdef\u001b[0m \u001b[0m__reduce__\u001b[0m\u001b[0;34m(\u001b[0m\u001b[0mself\u001b[0m\u001b[0;34m)\u001b[0m\u001b[0;34m:\u001b[0m\u001b[0;34m\u001b[0m\u001b[0;34m\u001b[0m\u001b[0m\n",
            "\u001b[0;32m/usr/local/lib/python3.6/dist-packages/joblib/parallel.py\u001b[0m in \u001b[0;36m<listcomp>\u001b[0;34m(.0)\u001b[0m\n\u001b[1;32m    251\u001b[0m         \u001b[0;32mwith\u001b[0m \u001b[0mparallel_backend\u001b[0m\u001b[0;34m(\u001b[0m\u001b[0mself\u001b[0m\u001b[0;34m.\u001b[0m\u001b[0m_backend\u001b[0m\u001b[0;34m,\u001b[0m \u001b[0mn_jobs\u001b[0m\u001b[0;34m=\u001b[0m\u001b[0mself\u001b[0m\u001b[0;34m.\u001b[0m\u001b[0m_n_jobs\u001b[0m\u001b[0;34m)\u001b[0m\u001b[0;34m:\u001b[0m\u001b[0;34m\u001b[0m\u001b[0;34m\u001b[0m\u001b[0m\n\u001b[1;32m    252\u001b[0m             return [func(*args, **kwargs)\n\u001b[0;32m--> 253\u001b[0;31m                     for func, args, kwargs in self.items]\n\u001b[0m\u001b[1;32m    254\u001b[0m \u001b[0;34m\u001b[0m\u001b[0m\n\u001b[1;32m    255\u001b[0m     \u001b[0;32mdef\u001b[0m \u001b[0m__reduce__\u001b[0m\u001b[0;34m(\u001b[0m\u001b[0mself\u001b[0m\u001b[0;34m)\u001b[0m\u001b[0;34m:\u001b[0m\u001b[0;34m\u001b[0m\u001b[0;34m\u001b[0m\u001b[0m\n",
            "\u001b[0;32m/usr/local/lib/python3.6/dist-packages/sklearn/model_selection/_validation.py\u001b[0m in \u001b[0;36m_fit_and_score\u001b[0;34m(estimator, X, y, scorer, train, test, verbose, parameters, fit_params, return_train_score, return_parameters, return_n_test_samples, return_times, return_estimator, error_score)\u001b[0m\n\u001b[1;32m    513\u001b[0m             \u001b[0mestimator\u001b[0m\u001b[0;34m.\u001b[0m\u001b[0mfit\u001b[0m\u001b[0;34m(\u001b[0m\u001b[0mX_train\u001b[0m\u001b[0;34m,\u001b[0m \u001b[0;34m**\u001b[0m\u001b[0mfit_params\u001b[0m\u001b[0;34m)\u001b[0m\u001b[0;34m\u001b[0m\u001b[0;34m\u001b[0m\u001b[0m\n\u001b[1;32m    514\u001b[0m         \u001b[0;32melse\u001b[0m\u001b[0;34m:\u001b[0m\u001b[0;34m\u001b[0m\u001b[0;34m\u001b[0m\u001b[0m\n\u001b[0;32m--> 515\u001b[0;31m             \u001b[0mestimator\u001b[0m\u001b[0;34m.\u001b[0m\u001b[0mfit\u001b[0m\u001b[0;34m(\u001b[0m\u001b[0mX_train\u001b[0m\u001b[0;34m,\u001b[0m \u001b[0my_train\u001b[0m\u001b[0;34m,\u001b[0m \u001b[0;34m**\u001b[0m\u001b[0mfit_params\u001b[0m\u001b[0;34m)\u001b[0m\u001b[0;34m\u001b[0m\u001b[0;34m\u001b[0m\u001b[0m\n\u001b[0m\u001b[1;32m    516\u001b[0m \u001b[0;34m\u001b[0m\u001b[0m\n\u001b[1;32m    517\u001b[0m     \u001b[0;32mexcept\u001b[0m \u001b[0mException\u001b[0m \u001b[0;32mas\u001b[0m \u001b[0me\u001b[0m\u001b[0;34m:\u001b[0m\u001b[0;34m\u001b[0m\u001b[0;34m\u001b[0m\u001b[0m\n",
            "\u001b[0;32m/usr/local/lib/python3.6/dist-packages/sklearn/pipeline.py\u001b[0m in \u001b[0;36mfit\u001b[0;34m(self, X, y, **fit_params)\u001b[0m\n\u001b[1;32m    348\u001b[0m             \u001b[0mThis\u001b[0m \u001b[0mestimator\u001b[0m\u001b[0;34m\u001b[0m\u001b[0;34m\u001b[0m\u001b[0m\n\u001b[1;32m    349\u001b[0m         \"\"\"\n\u001b[0;32m--> 350\u001b[0;31m         \u001b[0mXt\u001b[0m\u001b[0;34m,\u001b[0m \u001b[0mfit_params\u001b[0m \u001b[0;34m=\u001b[0m \u001b[0mself\u001b[0m\u001b[0;34m.\u001b[0m\u001b[0m_fit\u001b[0m\u001b[0;34m(\u001b[0m\u001b[0mX\u001b[0m\u001b[0;34m,\u001b[0m \u001b[0my\u001b[0m\u001b[0;34m,\u001b[0m \u001b[0;34m**\u001b[0m\u001b[0mfit_params\u001b[0m\u001b[0;34m)\u001b[0m\u001b[0;34m\u001b[0m\u001b[0;34m\u001b[0m\u001b[0m\n\u001b[0m\u001b[1;32m    351\u001b[0m         with _print_elapsed_time('Pipeline',\n\u001b[1;32m    352\u001b[0m                                  self._log_message(len(self.steps) - 1)):\n",
            "\u001b[0;32m/usr/local/lib/python3.6/dist-packages/sklearn/pipeline.py\u001b[0m in \u001b[0;36m_fit\u001b[0;34m(self, X, y, **fit_params)\u001b[0m\n\u001b[1;32m    313\u001b[0m                 \u001b[0mmessage_clsname\u001b[0m\u001b[0;34m=\u001b[0m\u001b[0;34m'Pipeline'\u001b[0m\u001b[0;34m,\u001b[0m\u001b[0;34m\u001b[0m\u001b[0;34m\u001b[0m\u001b[0m\n\u001b[1;32m    314\u001b[0m                 \u001b[0mmessage\u001b[0m\u001b[0;34m=\u001b[0m\u001b[0mself\u001b[0m\u001b[0;34m.\u001b[0m\u001b[0m_log_message\u001b[0m\u001b[0;34m(\u001b[0m\u001b[0mstep_idx\u001b[0m\u001b[0;34m)\u001b[0m\u001b[0;34m,\u001b[0m\u001b[0;34m\u001b[0m\u001b[0;34m\u001b[0m\u001b[0m\n\u001b[0;32m--> 315\u001b[0;31m                 **fit_params_steps[name])\n\u001b[0m\u001b[1;32m    316\u001b[0m             \u001b[0;31m# Replace the transformer of the step with the fitted\u001b[0m\u001b[0;34m\u001b[0m\u001b[0;34m\u001b[0m\u001b[0;34m\u001b[0m\u001b[0m\n\u001b[1;32m    317\u001b[0m             \u001b[0;31m# transformer. This is necessary when loading the transformer\u001b[0m\u001b[0;34m\u001b[0m\u001b[0;34m\u001b[0m\u001b[0;34m\u001b[0m\u001b[0m\n",
            "\u001b[0;32m/usr/local/lib/python3.6/dist-packages/joblib/memory.py\u001b[0m in \u001b[0;36m__call__\u001b[0;34m(self, *args, **kwargs)\u001b[0m\n\u001b[1;32m    350\u001b[0m \u001b[0;34m\u001b[0m\u001b[0m\n\u001b[1;32m    351\u001b[0m     \u001b[0;32mdef\u001b[0m \u001b[0m__call__\u001b[0m\u001b[0;34m(\u001b[0m\u001b[0mself\u001b[0m\u001b[0;34m,\u001b[0m \u001b[0;34m*\u001b[0m\u001b[0margs\u001b[0m\u001b[0;34m,\u001b[0m \u001b[0;34m**\u001b[0m\u001b[0mkwargs\u001b[0m\u001b[0;34m)\u001b[0m\u001b[0;34m:\u001b[0m\u001b[0;34m\u001b[0m\u001b[0;34m\u001b[0m\u001b[0m\n\u001b[0;32m--> 352\u001b[0;31m         \u001b[0;32mreturn\u001b[0m \u001b[0mself\u001b[0m\u001b[0;34m.\u001b[0m\u001b[0mfunc\u001b[0m\u001b[0;34m(\u001b[0m\u001b[0;34m*\u001b[0m\u001b[0margs\u001b[0m\u001b[0;34m,\u001b[0m \u001b[0;34m**\u001b[0m\u001b[0mkwargs\u001b[0m\u001b[0;34m)\u001b[0m\u001b[0;34m\u001b[0m\u001b[0;34m\u001b[0m\u001b[0m\n\u001b[0m\u001b[1;32m    353\u001b[0m \u001b[0;34m\u001b[0m\u001b[0m\n\u001b[1;32m    354\u001b[0m     \u001b[0;32mdef\u001b[0m \u001b[0mcall_and_shelve\u001b[0m\u001b[0;34m(\u001b[0m\u001b[0mself\u001b[0m\u001b[0;34m,\u001b[0m \u001b[0;34m*\u001b[0m\u001b[0margs\u001b[0m\u001b[0;34m,\u001b[0m \u001b[0;34m**\u001b[0m\u001b[0mkwargs\u001b[0m\u001b[0;34m)\u001b[0m\u001b[0;34m:\u001b[0m\u001b[0;34m\u001b[0m\u001b[0;34m\u001b[0m\u001b[0m\n",
            "\u001b[0;32m/usr/local/lib/python3.6/dist-packages/sklearn/pipeline.py\u001b[0m in \u001b[0;36m_fit_transform_one\u001b[0;34m(transformer, X, y, weight, message_clsname, message, **fit_params)\u001b[0m\n\u001b[1;32m    726\u001b[0m     \u001b[0;32mwith\u001b[0m \u001b[0m_print_elapsed_time\u001b[0m\u001b[0;34m(\u001b[0m\u001b[0mmessage_clsname\u001b[0m\u001b[0;34m,\u001b[0m \u001b[0mmessage\u001b[0m\u001b[0;34m)\u001b[0m\u001b[0;34m:\u001b[0m\u001b[0;34m\u001b[0m\u001b[0;34m\u001b[0m\u001b[0m\n\u001b[1;32m    727\u001b[0m         \u001b[0;32mif\u001b[0m \u001b[0mhasattr\u001b[0m\u001b[0;34m(\u001b[0m\u001b[0mtransformer\u001b[0m\u001b[0;34m,\u001b[0m \u001b[0;34m'fit_transform'\u001b[0m\u001b[0;34m)\u001b[0m\u001b[0;34m:\u001b[0m\u001b[0;34m\u001b[0m\u001b[0;34m\u001b[0m\u001b[0m\n\u001b[0;32m--> 728\u001b[0;31m             \u001b[0mres\u001b[0m \u001b[0;34m=\u001b[0m \u001b[0mtransformer\u001b[0m\u001b[0;34m.\u001b[0m\u001b[0mfit_transform\u001b[0m\u001b[0;34m(\u001b[0m\u001b[0mX\u001b[0m\u001b[0;34m,\u001b[0m \u001b[0my\u001b[0m\u001b[0;34m,\u001b[0m \u001b[0;34m**\u001b[0m\u001b[0mfit_params\u001b[0m\u001b[0;34m)\u001b[0m\u001b[0;34m\u001b[0m\u001b[0;34m\u001b[0m\u001b[0m\n\u001b[0m\u001b[1;32m    729\u001b[0m         \u001b[0;32melse\u001b[0m\u001b[0;34m:\u001b[0m\u001b[0;34m\u001b[0m\u001b[0;34m\u001b[0m\u001b[0m\n\u001b[1;32m    730\u001b[0m             \u001b[0mres\u001b[0m \u001b[0;34m=\u001b[0m \u001b[0mtransformer\u001b[0m\u001b[0;34m.\u001b[0m\u001b[0mfit\u001b[0m\u001b[0;34m(\u001b[0m\u001b[0mX\u001b[0m\u001b[0;34m,\u001b[0m \u001b[0my\u001b[0m\u001b[0;34m,\u001b[0m \u001b[0;34m**\u001b[0m\u001b[0mfit_params\u001b[0m\u001b[0;34m)\u001b[0m\u001b[0;34m.\u001b[0m\u001b[0mtransform\u001b[0m\u001b[0;34m(\u001b[0m\u001b[0mX\u001b[0m\u001b[0;34m)\u001b[0m\u001b[0;34m\u001b[0m\u001b[0;34m\u001b[0m\u001b[0m\n",
            "\u001b[0;32m/usr/local/lib/python3.6/dist-packages/sklearn/base.py\u001b[0m in \u001b[0;36mfit_transform\u001b[0;34m(self, X, y, **fit_params)\u001b[0m\n\u001b[1;32m    572\u001b[0m         \u001b[0;32melse\u001b[0m\u001b[0;34m:\u001b[0m\u001b[0;34m\u001b[0m\u001b[0;34m\u001b[0m\u001b[0m\n\u001b[1;32m    573\u001b[0m             \u001b[0;31m# fit method of arity 2 (supervised transformation)\u001b[0m\u001b[0;34m\u001b[0m\u001b[0;34m\u001b[0m\u001b[0;34m\u001b[0m\u001b[0m\n\u001b[0;32m--> 574\u001b[0;31m             \u001b[0;32mreturn\u001b[0m \u001b[0mself\u001b[0m\u001b[0;34m.\u001b[0m\u001b[0mfit\u001b[0m\u001b[0;34m(\u001b[0m\u001b[0mX\u001b[0m\u001b[0;34m,\u001b[0m \u001b[0my\u001b[0m\u001b[0;34m,\u001b[0m \u001b[0;34m**\u001b[0m\u001b[0mfit_params\u001b[0m\u001b[0;34m)\u001b[0m\u001b[0;34m.\u001b[0m\u001b[0mtransform\u001b[0m\u001b[0;34m(\u001b[0m\u001b[0mX\u001b[0m\u001b[0;34m)\u001b[0m\u001b[0;34m\u001b[0m\u001b[0;34m\u001b[0m\u001b[0m\n\u001b[0m\u001b[1;32m    575\u001b[0m \u001b[0;34m\u001b[0m\u001b[0m\n\u001b[1;32m    576\u001b[0m \u001b[0;34m\u001b[0m\u001b[0m\n",
            "\u001b[0;32m/usr/local/lib/python3.6/dist-packages/sklearn/preprocessing/_data.py\u001b[0m in \u001b[0;36mfit\u001b[0;34m(self, X, y)\u001b[0m\n\u001b[1;32m   1226\u001b[0m \u001b[0;34m\u001b[0m\u001b[0m\n\u001b[1;32m   1227\u001b[0m                 quantiles.append(np.nanpercentile(column_data,\n\u001b[0;32m-> 1228\u001b[0;31m                                                   self.quantile_range))\n\u001b[0m\u001b[1;32m   1229\u001b[0m \u001b[0;34m\u001b[0m\u001b[0m\n\u001b[1;32m   1230\u001b[0m             \u001b[0mquantiles\u001b[0m \u001b[0;34m=\u001b[0m \u001b[0mnp\u001b[0m\u001b[0;34m.\u001b[0m\u001b[0mtranspose\u001b[0m\u001b[0;34m(\u001b[0m\u001b[0mquantiles\u001b[0m\u001b[0;34m)\u001b[0m\u001b[0;34m\u001b[0m\u001b[0;34m\u001b[0m\u001b[0m\n",
            "\u001b[0;32m<__array_function__ internals>\u001b[0m in \u001b[0;36mnanpercentile\u001b[0;34m(*args, **kwargs)\u001b[0m\n",
            "\u001b[0;32m/usr/local/lib/python3.6/dist-packages/numpy/lib/nanfunctions.py\u001b[0m in \u001b[0;36mnanpercentile\u001b[0;34m(a, q, axis, out, overwrite_input, interpolation, keepdims)\u001b[0m\n\u001b[1;32m   1244\u001b[0m         \u001b[0;32mraise\u001b[0m \u001b[0mValueError\u001b[0m\u001b[0;34m(\u001b[0m\u001b[0;34m\"Percentiles must be in the range [0, 100]\"\u001b[0m\u001b[0;34m)\u001b[0m\u001b[0;34m\u001b[0m\u001b[0;34m\u001b[0m\u001b[0m\n\u001b[1;32m   1245\u001b[0m     return _nanquantile_unchecked(\n\u001b[0;32m-> 1246\u001b[0;31m         a, q, axis, out, overwrite_input, interpolation, keepdims)\n\u001b[0m\u001b[1;32m   1247\u001b[0m \u001b[0;34m\u001b[0m\u001b[0m\n\u001b[1;32m   1248\u001b[0m \u001b[0;34m\u001b[0m\u001b[0m\n",
            "\u001b[0;32m/usr/local/lib/python3.6/dist-packages/numpy/lib/nanfunctions.py\u001b[0m in \u001b[0;36m_nanquantile_unchecked\u001b[0;34m(a, q, axis, out, overwrite_input, interpolation, keepdims)\u001b[0m\n\u001b[1;32m   1370\u001b[0m     r, k = function_base._ureduce(\n\u001b[1;32m   1371\u001b[0m         \u001b[0ma\u001b[0m\u001b[0;34m,\u001b[0m \u001b[0mfunc\u001b[0m\u001b[0;34m=\u001b[0m\u001b[0m_nanquantile_ureduce_func\u001b[0m\u001b[0;34m,\u001b[0m \u001b[0mq\u001b[0m\u001b[0;34m=\u001b[0m\u001b[0mq\u001b[0m\u001b[0;34m,\u001b[0m \u001b[0maxis\u001b[0m\u001b[0;34m=\u001b[0m\u001b[0maxis\u001b[0m\u001b[0;34m,\u001b[0m \u001b[0mout\u001b[0m\u001b[0;34m=\u001b[0m\u001b[0mout\u001b[0m\u001b[0;34m,\u001b[0m\u001b[0;34m\u001b[0m\u001b[0;34m\u001b[0m\u001b[0m\n\u001b[0;32m-> 1372\u001b[0;31m         \u001b[0moverwrite_input\u001b[0m\u001b[0;34m=\u001b[0m\u001b[0moverwrite_input\u001b[0m\u001b[0;34m,\u001b[0m \u001b[0minterpolation\u001b[0m\u001b[0;34m=\u001b[0m\u001b[0minterpolation\u001b[0m\u001b[0;34m\u001b[0m\u001b[0;34m\u001b[0m\u001b[0m\n\u001b[0m\u001b[1;32m   1373\u001b[0m     )\n\u001b[1;32m   1374\u001b[0m     \u001b[0;32mif\u001b[0m \u001b[0mkeepdims\u001b[0m \u001b[0;32mand\u001b[0m \u001b[0mkeepdims\u001b[0m \u001b[0;32mis\u001b[0m \u001b[0;32mnot\u001b[0m \u001b[0mnp\u001b[0m\u001b[0;34m.\u001b[0m\u001b[0m_NoValue\u001b[0m\u001b[0;34m:\u001b[0m\u001b[0;34m\u001b[0m\u001b[0;34m\u001b[0m\u001b[0m\n",
            "\u001b[0;32m/usr/local/lib/python3.6/dist-packages/numpy/lib/function_base.py\u001b[0m in \u001b[0;36m_ureduce\u001b[0;34m(a, func, **kwargs)\u001b[0m\n\u001b[1;32m   3401\u001b[0m         \u001b[0mkeepdim\u001b[0m \u001b[0;34m=\u001b[0m \u001b[0;34m(\u001b[0m\u001b[0;36m1\u001b[0m\u001b[0;34m,\u001b[0m\u001b[0;34m)\u001b[0m \u001b[0;34m*\u001b[0m \u001b[0ma\u001b[0m\u001b[0;34m.\u001b[0m\u001b[0mndim\u001b[0m\u001b[0;34m\u001b[0m\u001b[0;34m\u001b[0m\u001b[0m\n\u001b[1;32m   3402\u001b[0m \u001b[0;34m\u001b[0m\u001b[0m\n\u001b[0;32m-> 3403\u001b[0;31m     \u001b[0mr\u001b[0m \u001b[0;34m=\u001b[0m \u001b[0mfunc\u001b[0m\u001b[0;34m(\u001b[0m\u001b[0ma\u001b[0m\u001b[0;34m,\u001b[0m \u001b[0;34m**\u001b[0m\u001b[0mkwargs\u001b[0m\u001b[0;34m)\u001b[0m\u001b[0;34m\u001b[0m\u001b[0;34m\u001b[0m\u001b[0m\n\u001b[0m\u001b[1;32m   3404\u001b[0m     \u001b[0;32mreturn\u001b[0m \u001b[0mr\u001b[0m\u001b[0;34m,\u001b[0m \u001b[0mkeepdim\u001b[0m\u001b[0;34m\u001b[0m\u001b[0;34m\u001b[0m\u001b[0m\n\u001b[1;32m   3405\u001b[0m \u001b[0;34m\u001b[0m\u001b[0m\n",
            "\u001b[0;32m/usr/local/lib/python3.6/dist-packages/numpy/lib/nanfunctions.py\u001b[0m in \u001b[0;36m_nanquantile_ureduce_func\u001b[0;34m(a, q, axis, out, overwrite_input, interpolation)\u001b[0m\n\u001b[1;32m   1387\u001b[0m     \u001b[0;32mif\u001b[0m \u001b[0maxis\u001b[0m \u001b[0;32mis\u001b[0m \u001b[0;32mNone\u001b[0m \u001b[0;32mor\u001b[0m \u001b[0ma\u001b[0m\u001b[0;34m.\u001b[0m\u001b[0mndim\u001b[0m \u001b[0;34m==\u001b[0m \u001b[0;36m1\u001b[0m\u001b[0;34m:\u001b[0m\u001b[0;34m\u001b[0m\u001b[0;34m\u001b[0m\u001b[0m\n\u001b[1;32m   1388\u001b[0m         \u001b[0mpart\u001b[0m \u001b[0;34m=\u001b[0m \u001b[0ma\u001b[0m\u001b[0;34m.\u001b[0m\u001b[0mravel\u001b[0m\u001b[0;34m(\u001b[0m\u001b[0;34m)\u001b[0m\u001b[0;34m\u001b[0m\u001b[0;34m\u001b[0m\u001b[0m\n\u001b[0;32m-> 1389\u001b[0;31m         \u001b[0mresult\u001b[0m \u001b[0;34m=\u001b[0m \u001b[0m_nanquantile_1d\u001b[0m\u001b[0;34m(\u001b[0m\u001b[0mpart\u001b[0m\u001b[0;34m,\u001b[0m \u001b[0mq\u001b[0m\u001b[0;34m,\u001b[0m \u001b[0moverwrite_input\u001b[0m\u001b[0;34m,\u001b[0m \u001b[0minterpolation\u001b[0m\u001b[0;34m)\u001b[0m\u001b[0;34m\u001b[0m\u001b[0;34m\u001b[0m\u001b[0m\n\u001b[0m\u001b[1;32m   1390\u001b[0m     \u001b[0;32melse\u001b[0m\u001b[0;34m:\u001b[0m\u001b[0;34m\u001b[0m\u001b[0;34m\u001b[0m\u001b[0m\n\u001b[1;32m   1391\u001b[0m         result = np.apply_along_axis(_nanquantile_1d, axis, a, q,\n",
            "\u001b[0;32m/usr/local/lib/python3.6/dist-packages/numpy/lib/nanfunctions.py\u001b[0m in \u001b[0;36m_nanquantile_1d\u001b[0;34m(arr1d, q, overwrite_input, interpolation)\u001b[0m\n\u001b[1;32m   1413\u001b[0m \u001b[0;34m\u001b[0m\u001b[0m\n\u001b[1;32m   1414\u001b[0m     return function_base._quantile_unchecked(\n\u001b[0;32m-> 1415\u001b[0;31m         arr1d, q, overwrite_input=overwrite_input, interpolation=interpolation)\n\u001b[0m\u001b[1;32m   1416\u001b[0m \u001b[0;34m\u001b[0m\u001b[0m\n\u001b[1;32m   1417\u001b[0m \u001b[0;34m\u001b[0m\u001b[0m\n",
            "\u001b[0;32m/usr/local/lib/python3.6/dist-packages/numpy/lib/function_base.py\u001b[0m in \u001b[0;36m_quantile_unchecked\u001b[0;34m(a, q, axis, out, overwrite_input, interpolation, keepdims)\u001b[0m\n\u001b[1;32m   3824\u001b[0m     r, k = _ureduce(a, func=_quantile_ureduce_func, q=q, axis=axis, out=out,\n\u001b[1;32m   3825\u001b[0m                     \u001b[0moverwrite_input\u001b[0m\u001b[0;34m=\u001b[0m\u001b[0moverwrite_input\u001b[0m\u001b[0;34m,\u001b[0m\u001b[0;34m\u001b[0m\u001b[0;34m\u001b[0m\u001b[0m\n\u001b[0;32m-> 3826\u001b[0;31m                     interpolation=interpolation)\n\u001b[0m\u001b[1;32m   3827\u001b[0m     \u001b[0;32mif\u001b[0m \u001b[0mkeepdims\u001b[0m\u001b[0;34m:\u001b[0m\u001b[0;34m\u001b[0m\u001b[0;34m\u001b[0m\u001b[0m\n\u001b[1;32m   3828\u001b[0m         \u001b[0;32mreturn\u001b[0m \u001b[0mr\u001b[0m\u001b[0;34m.\u001b[0m\u001b[0mreshape\u001b[0m\u001b[0;34m(\u001b[0m\u001b[0mq\u001b[0m\u001b[0;34m.\u001b[0m\u001b[0mshape\u001b[0m \u001b[0;34m+\u001b[0m \u001b[0mk\u001b[0m\u001b[0;34m)\u001b[0m\u001b[0;34m\u001b[0m\u001b[0;34m\u001b[0m\u001b[0m\n",
            "\u001b[0;32m/usr/local/lib/python3.6/dist-packages/numpy/lib/function_base.py\u001b[0m in \u001b[0;36m_ureduce\u001b[0;34m(a, func, **kwargs)\u001b[0m\n\u001b[1;32m   3401\u001b[0m         \u001b[0mkeepdim\u001b[0m \u001b[0;34m=\u001b[0m \u001b[0;34m(\u001b[0m\u001b[0;36m1\u001b[0m\u001b[0;34m,\u001b[0m\u001b[0;34m)\u001b[0m \u001b[0;34m*\u001b[0m \u001b[0ma\u001b[0m\u001b[0;34m.\u001b[0m\u001b[0mndim\u001b[0m\u001b[0;34m\u001b[0m\u001b[0;34m\u001b[0m\u001b[0m\n\u001b[1;32m   3402\u001b[0m \u001b[0;34m\u001b[0m\u001b[0m\n\u001b[0;32m-> 3403\u001b[0;31m     \u001b[0mr\u001b[0m \u001b[0;34m=\u001b[0m \u001b[0mfunc\u001b[0m\u001b[0;34m(\u001b[0m\u001b[0ma\u001b[0m\u001b[0;34m,\u001b[0m \u001b[0;34m**\u001b[0m\u001b[0mkwargs\u001b[0m\u001b[0;34m)\u001b[0m\u001b[0;34m\u001b[0m\u001b[0;34m\u001b[0m\u001b[0m\n\u001b[0m\u001b[1;32m   3404\u001b[0m     \u001b[0;32mreturn\u001b[0m \u001b[0mr\u001b[0m\u001b[0;34m,\u001b[0m \u001b[0mkeepdim\u001b[0m\u001b[0;34m\u001b[0m\u001b[0;34m\u001b[0m\u001b[0m\n\u001b[1;32m   3405\u001b[0m \u001b[0;34m\u001b[0m\u001b[0m\n",
            "\u001b[0;32m/usr/local/lib/python3.6/dist-packages/numpy/lib/function_base.py\u001b[0m in \u001b[0;36m_quantile_ureduce_func\u001b[0;34m(a, q, axis, out, overwrite_input, interpolation, keepdims)\u001b[0m\n\u001b[1;32m   3930\u001b[0m         \u001b[0;31m# ensure axis with q-th is first\u001b[0m\u001b[0;34m\u001b[0m\u001b[0;34m\u001b[0m\u001b[0;34m\u001b[0m\u001b[0m\n\u001b[1;32m   3931\u001b[0m         \u001b[0map\u001b[0m \u001b[0;34m=\u001b[0m \u001b[0mnp\u001b[0m\u001b[0;34m.\u001b[0m\u001b[0mmoveaxis\u001b[0m\u001b[0;34m(\u001b[0m\u001b[0map\u001b[0m\u001b[0;34m,\u001b[0m \u001b[0maxis\u001b[0m\u001b[0;34m,\u001b[0m \u001b[0;36m0\u001b[0m\u001b[0;34m)\u001b[0m\u001b[0;34m\u001b[0m\u001b[0;34m\u001b[0m\u001b[0m\n\u001b[0;32m-> 3932\u001b[0;31m         \u001b[0mweights_below\u001b[0m \u001b[0;34m=\u001b[0m \u001b[0mnp\u001b[0m\u001b[0;34m.\u001b[0m\u001b[0mmoveaxis\u001b[0m\u001b[0;34m(\u001b[0m\u001b[0mweights_below\u001b[0m\u001b[0;34m,\u001b[0m \u001b[0maxis\u001b[0m\u001b[0;34m,\u001b[0m \u001b[0;36m0\u001b[0m\u001b[0;34m)\u001b[0m\u001b[0;34m\u001b[0m\u001b[0;34m\u001b[0m\u001b[0m\n\u001b[0m\u001b[1;32m   3933\u001b[0m         \u001b[0mweights_above\u001b[0m \u001b[0;34m=\u001b[0m \u001b[0mnp\u001b[0m\u001b[0;34m.\u001b[0m\u001b[0mmoveaxis\u001b[0m\u001b[0;34m(\u001b[0m\u001b[0mweights_above\u001b[0m\u001b[0;34m,\u001b[0m \u001b[0maxis\u001b[0m\u001b[0;34m,\u001b[0m \u001b[0;36m0\u001b[0m\u001b[0;34m)\u001b[0m\u001b[0;34m\u001b[0m\u001b[0;34m\u001b[0m\u001b[0m\n\u001b[1;32m   3934\u001b[0m         \u001b[0maxis\u001b[0m \u001b[0;34m=\u001b[0m \u001b[0;36m0\u001b[0m\u001b[0;34m\u001b[0m\u001b[0;34m\u001b[0m\u001b[0m\n",
            "\u001b[0;32m<__array_function__ internals>\u001b[0m in \u001b[0;36mmoveaxis\u001b[0;34m(*args, **kwargs)\u001b[0m\n",
            "\u001b[0;32m/usr/local/lib/python3.6/dist-packages/numpy/core/numeric.py\u001b[0m in \u001b[0;36mmoveaxis\u001b[0;34m(a, source, destination)\u001b[0m\n\u001b[1;32m   1395\u001b[0m         \u001b[0mtranspose\u001b[0m \u001b[0;34m=\u001b[0m \u001b[0ma\u001b[0m\u001b[0;34m.\u001b[0m\u001b[0mtranspose\u001b[0m\u001b[0;34m\u001b[0m\u001b[0;34m\u001b[0m\u001b[0m\n\u001b[1;32m   1396\u001b[0m \u001b[0;34m\u001b[0m\u001b[0m\n\u001b[0;32m-> 1397\u001b[0;31m     \u001b[0msource\u001b[0m \u001b[0;34m=\u001b[0m \u001b[0mnormalize_axis_tuple\u001b[0m\u001b[0;34m(\u001b[0m\u001b[0msource\u001b[0m\u001b[0;34m,\u001b[0m \u001b[0ma\u001b[0m\u001b[0;34m.\u001b[0m\u001b[0mndim\u001b[0m\u001b[0;34m,\u001b[0m \u001b[0;34m'source'\u001b[0m\u001b[0;34m)\u001b[0m\u001b[0;34m\u001b[0m\u001b[0;34m\u001b[0m\u001b[0m\n\u001b[0m\u001b[1;32m   1398\u001b[0m     \u001b[0mdestination\u001b[0m \u001b[0;34m=\u001b[0m \u001b[0mnormalize_axis_tuple\u001b[0m\u001b[0;34m(\u001b[0m\u001b[0mdestination\u001b[0m\u001b[0;34m,\u001b[0m \u001b[0ma\u001b[0m\u001b[0;34m.\u001b[0m\u001b[0mndim\u001b[0m\u001b[0;34m,\u001b[0m \u001b[0;34m'destination'\u001b[0m\u001b[0;34m)\u001b[0m\u001b[0;34m\u001b[0m\u001b[0;34m\u001b[0m\u001b[0m\n\u001b[1;32m   1399\u001b[0m     \u001b[0;32mif\u001b[0m \u001b[0mlen\u001b[0m\u001b[0;34m(\u001b[0m\u001b[0msource\u001b[0m\u001b[0;34m)\u001b[0m \u001b[0;34m!=\u001b[0m \u001b[0mlen\u001b[0m\u001b[0;34m(\u001b[0m\u001b[0mdestination\u001b[0m\u001b[0;34m)\u001b[0m\u001b[0;34m:\u001b[0m\u001b[0;34m\u001b[0m\u001b[0;34m\u001b[0m\u001b[0m\n",
            "\u001b[0;32m/usr/local/lib/python3.6/dist-packages/numpy/core/numeric.py\u001b[0m in \u001b[0;36mnormalize_axis_tuple\u001b[0;34m(axis, ndim, argname, allow_duplicate)\u001b[0m\n\u001b[1;32m   1326\u001b[0m     \u001b[0;31m# Going via an iterator directly is slower than via list comprehension.\u001b[0m\u001b[0;34m\u001b[0m\u001b[0;34m\u001b[0m\u001b[0;34m\u001b[0m\u001b[0m\n\u001b[1;32m   1327\u001b[0m     \u001b[0maxis\u001b[0m \u001b[0;34m=\u001b[0m \u001b[0mtuple\u001b[0m\u001b[0;34m(\u001b[0m\u001b[0;34m[\u001b[0m\u001b[0mnormalize_axis_index\u001b[0m\u001b[0;34m(\u001b[0m\u001b[0max\u001b[0m\u001b[0;34m,\u001b[0m \u001b[0mndim\u001b[0m\u001b[0;34m,\u001b[0m \u001b[0margname\u001b[0m\u001b[0;34m)\u001b[0m \u001b[0;32mfor\u001b[0m \u001b[0max\u001b[0m \u001b[0;32min\u001b[0m \u001b[0maxis\u001b[0m\u001b[0;34m]\u001b[0m\u001b[0;34m)\u001b[0m\u001b[0;34m\u001b[0m\u001b[0;34m\u001b[0m\u001b[0m\n\u001b[0;32m-> 1328\u001b[0;31m     \u001b[0;32mif\u001b[0m \u001b[0;32mnot\u001b[0m \u001b[0mallow_duplicate\u001b[0m \u001b[0;32mand\u001b[0m \u001b[0mlen\u001b[0m\u001b[0;34m(\u001b[0m\u001b[0mset\u001b[0m\u001b[0;34m(\u001b[0m\u001b[0maxis\u001b[0m\u001b[0;34m)\u001b[0m\u001b[0;34m)\u001b[0m \u001b[0;34m!=\u001b[0m \u001b[0mlen\u001b[0m\u001b[0;34m(\u001b[0m\u001b[0maxis\u001b[0m\u001b[0;34m)\u001b[0m\u001b[0;34m:\u001b[0m\u001b[0;34m\u001b[0m\u001b[0;34m\u001b[0m\u001b[0m\n\u001b[0m\u001b[1;32m   1329\u001b[0m         \u001b[0;32mif\u001b[0m \u001b[0margname\u001b[0m\u001b[0;34m:\u001b[0m\u001b[0;34m\u001b[0m\u001b[0;34m\u001b[0m\u001b[0m\n\u001b[1;32m   1330\u001b[0m             \u001b[0;32mraise\u001b[0m \u001b[0mValueError\u001b[0m\u001b[0;34m(\u001b[0m\u001b[0;34m'repeated axis in `{}` argument'\u001b[0m\u001b[0;34m.\u001b[0m\u001b[0mformat\u001b[0m\u001b[0;34m(\u001b[0m\u001b[0margname\u001b[0m\u001b[0;34m)\u001b[0m\u001b[0;34m)\u001b[0m\u001b[0;34m\u001b[0m\u001b[0;34m\u001b[0m\u001b[0m\n",
            "\u001b[0;31mKeyboardInterrupt\u001b[0m: "
          ]
        }
      ]
    },
    {
      "cell_type": "markdown",
      "metadata": {
        "id": "MG8MW8rIlS6q"
      },
      "source": [
        "Best params Lasso: {'alpha': 0.00016315}\n",
        "Best score Lasso: 0.12905565062032714"
      ]
    },
    {
      "cell_type": "code",
      "metadata": {
        "id": "Zz2EXTvoaDb3",
        "colab": {
          "base_uri": "https://localhost:8080/",
          "height": 157
        },
        "outputId": "af560542-1d8b-43cd-b9ed-1f5c2183b6cc"
      },
      "source": [
        "ls = Lasso(alpha=0.00016315,random_state=0).fit(X_train,y_train)\n",
        "\n",
        "ls_cv = cross_val_score(ls,X_train,y_train,n_jobs=-1,cv=5,scoring='neg_root_mean_squared_error')\n",
        "\n",
        "\n",
        "RMSE = (-ls_cv) \n",
        "print('Cross validation Scores:\\n', (RMSE))\n",
        "print('Cross validation Scores Média:\\n', (RMSE.mean()))\n",
        "\n",
        "y_pred_ls = ls.predict(X_test)\n",
        "\n",
        "RMSLE_pred = math.sqrt(mean_squared_error(y_test,y_pred_ls))\n",
        "\n",
        "print('RMSE', RMSLE_pred)\n",
        "print('Score test {:.4f}'.format(ls.score(X_test,y_test)))\n",
        "print('Score train: {:.4f}'.format(ls.score(X_train,y_train)))\n",
        "print(\"Number of features used: {}\".format(np.sum(ls.coef_!= 0)))\n",
        "\n"
      ],
      "execution_count": null,
      "outputs": [
        {
          "output_type": "stream",
          "text": [
            "Cross validation Scores:\n",
            " [0.14188149 0.14613616 0.16147681 0.12328722 0.13052455]\n",
            "Cross validation Scores Média:\n",
            " 0.140661244529091\n",
            "RMSE 0.1256170271404205\n",
            "Score test 0.8918\n",
            "Score train: 0.9226\n",
            "Number of features used: 131\n"
          ],
          "name": "stdout"
        }
      ]
    },
    {
      "cell_type": "code",
      "metadata": {
        "id": "8Adj6L_waDcC"
      },
      "source": [
        "all_features_lasso = list(zip(features,ls.coef_))\n",
        "all_features_lasso\n",
        "coef_ls = [list(x) for x in all_features_lasso]\n",
        "coef_ls\n",
        "\n",
        "coef_ls = pd.DataFrame(coef_ls,columns=['feature','coef'])\n",
        "\n",
        "#Just the coef different of zero\n",
        "coef_importance = coef_ls[coef_ls['coef']!=0].set_index('feature')\n",
        "\n",
        "#For ordering de importance without influence of negative coef, will be use the absolute values\n",
        "coef_importance = abs(coef_importance).sort_values(by='coef', ascending=False)\n",
        "features_importance_ls = list(coef_importance.index)"
      ],
      "execution_count": null,
      "outputs": []
    },
    {
      "cell_type": "code",
      "metadata": {
        "id": "mh_6pHoMvpr-",
        "colab": {
          "base_uri": "https://localhost:8080/",
          "height": 34
        },
        "outputId": "f58bdf2a-3cf9-49a5-921b-4202c4bb505d"
      },
      "source": [
        "len(features_importance_ls)"
      ],
      "execution_count": null,
      "outputs": [
        {
          "output_type": "execute_result",
          "data": {
            "text/plain": [
              "131"
            ]
          },
          "metadata": {
            "tags": []
          },
          "execution_count": 348
        }
      ]
    },
    {
      "cell_type": "code",
      "metadata": {
        "id": "4GTtlyG-FOPi",
        "colab": {
          "base_uri": "https://localhost:8080/",
          "height": 34
        },
        "outputId": "1c4915cc-4173-4f1c-b1d9-32b837f5a863"
      },
      "source": [
        "#Confirming if these features are the best for linear regression\n",
        "#scoring='neg_root_mean_squared_error'\n",
        "\n",
        "result = {}\n",
        "best_params = {}\n",
        "features_ = [] \n",
        "\n",
        "\n",
        "for feature in features_importance_ls:\n",
        "\n",
        "  features_.append(feature)\n",
        "  y = train_reg['SalePrice']\n",
        "  X = RobustScaler().fit_transform(train_reg[features_])\n",
        "\n",
        "  lr = LinearRegression()\n",
        "  lr.fit(X_train,y_train)\n",
        "\n",
        "  lr_gr= cross_val_score(lr,X_train,y_train,n_jobs=-1,cv=5)\n",
        "\n",
        "  result[len(features_)]= lr_gr.mean()\n",
        "\n",
        "best_score = max(zip(result.values(),result.keys()))\n",
        "print(best_score)"
      ],
      "execution_count": null,
      "outputs": [
        {
          "output_type": "stream",
          "text": [
            "(0.8752457144263994, 131)\n"
          ],
          "name": "stdout"
        }
      ]
    },
    {
      "cell_type": "code",
      "metadata": {
        "id": "FY96kNLYxmGk"
      },
      "source": [
        "y = train_reg['SalePrice']\n",
        "X = train_reg[features_importance_ls]\n",
        "X_train, X_test, y_train, y_test = train_test_split(X,y,random_state=0,test_size=0.25)\n",
        "X_train = RobustScaler().fit_transform(X_train)\n",
        "X_test = RobustScaler().fit_transform(X_test)"
      ],
      "execution_count": null,
      "outputs": []
    },
    {
      "cell_type": "markdown",
      "metadata": {
        "id": "ZwKXgadHHagx"
      },
      "source": [
        "#LinearRegression"
      ]
    },
    {
      "cell_type": "code",
      "metadata": {
        "id": "ZfoPtu4-HdAT",
        "colab": {
          "base_uri": "https://localhost:8080/",
          "height": 87
        },
        "outputId": "f2a0d6e9-1450-430e-f392-ce7b4ebdea34"
      },
      "source": [
        "#scoring='neg_root_mean_squared_error'\n",
        "lr = LinearRegression().fit(X_train,y_train)\n",
        "\n",
        "lr_cv = cross_val_score(lr,X_train,y_train,n_jobs=-1,cv=5,scoring='neg_root_mean_squared_error')\n",
        "\n",
        "print('Linear Regression RMSE:{}'.format(lr_cv))\n",
        "print('Linear Regression Mean RMSE:{}'.format(lr_cv.mean()))\n",
        "print('R2 Train:{}'.format(lr.score(X_train,y_train)))\n",
        "print('R2 Test: {}'.format(lr.score(X_test,y_test)))"
      ],
      "execution_count": null,
      "outputs": [
        {
          "output_type": "stream",
          "text": [
            "Linear Regression RMSE:[-0.1379446  -0.1407962  -0.16512439 -0.12104286 -0.13351455]\n",
            "Linear Regression Mean RMSE:-0.13968451962522702\n",
            "R2 Train:0.9254903890550269\n",
            "R2 Test: 0.8708893893606112\n"
          ],
          "name": "stdout"
        }
      ]
    },
    {
      "cell_type": "markdown",
      "metadata": {
        "id": "kPav6XvvUr7V"
      },
      "source": [
        "#LR predict\n",
        "Kaggle = 0.16962"
      ]
    },
    {
      "cell_type": "code",
      "metadata": {
        "id": "aUlNIMyhUcZE"
      },
      "source": [
        "X_true = RobustScaler().fit_transform(test_reg[features_importance_ls])\n",
        "\n",
        "lr_true = LinearRegression().fit(X_train,y_train)\n",
        "\n",
        "y_pred_lr = np.expm1(lr_true.predict(X_true))\n",
        "\n",
        "output = pd.DataFrame({'Id':test_reg.Id, 'SalePrice': y_pred_lr})\n",
        "output.to_csv('Sale_Price[8]_lr6.csv', index=False)\n"
      ],
      "execution_count": null,
      "outputs": []
    },
    {
      "cell_type": "markdown",
      "metadata": {
        "id": "ir_OfWOSfhQC"
      },
      "source": [
        "# BayesSearchCV with XGBoostRegressor\n",
        "Kaggle = 0.15257"
      ]
    },
    {
      "cell_type": "code",
      "metadata": {
        "id": "mZZI6eDvWPTM"
      },
      "source": [
        "xgb_reg = XGBRegressor(random_state=0, n_jobs=-1, objective='reg:squarederror')\n",
        "\n",
        "space = {'max_depth': [2,3,4,5,6,7,8,9,10],\n",
        "         'n_estimators':(3000,5500,'uniform'),\n",
        "         'learning_rate':(0.0001,0.001,'uniform'),\n",
        "         'colsample_bytree':(0.1,0.99,'uniform'),\n",
        "         'subsample':(0.1,0.99,'uniform'),\n",
        "         'min_child_weight':(0.1,0.99,'uniform')}\n",
        "\n",
        "\n",
        "opt = BayesSearchCV(xgb_reg,search_spaces=space,random_state=0,n_iter=100,scoring='neg_root_mean_squared_error').fit(X_train,y_train)"
      ],
      "execution_count": null,
      "outputs": []
    },
    {
      "cell_type": "code",
      "metadata": {
        "id": "k26rZySxnRsO",
        "colab": {
          "base_uri": "https://localhost:8080/",
          "height": 157
        },
        "outputId": "a55356f0-e2eb-4967-cd97-b47b74b6332e"
      },
      "source": [
        "print('Best params achieve a test score of', abs(opt.score(X_test, y_test)), ':')\n",
        "print('Best params achieve a train score of', abs(opt.best_score_),':')\n",
        "opt.best_params_\n"
      ],
      "execution_count": null,
      "outputs": [
        {
          "output_type": "stream",
          "text": [
            "Best params achieve a test score of 0.1299428741488591 :\n",
            "Best params achieve a train score of 0.1340001159689223 :\n"
          ],
          "name": "stdout"
        },
        {
          "output_type": "execute_result",
          "data": {
            "text/plain": [
              "OrderedDict([('colsample_bytree', 0.24422594358535155),\n",
              "             ('learning_rate', 0.005349798812018981),\n",
              "             ('max_depth', 7),\n",
              "             ('min_child_weight', 0),\n",
              "             ('n_estimators', 4227),\n",
              "             ('subsample', 0.3036166233116627)])"
            ]
          },
          "metadata": {
            "tags": []
          },
          "execution_count": 171
        }
      ]
    },
    {
      "cell_type": "code",
      "metadata": {
        "id": "X20efKU0chWq"
      },
      "source": [
        "mtrain = xgb.DMatrix(X_train,label=y_train)\n",
        "mtest = xgb.DMatrix(X_test,label=y_test)"
      ],
      "execution_count": null,
      "outputs": []
    },
    {
      "cell_type": "code",
      "metadata": {
        "id": "o64NyAoBZvdT",
        "colab": {
          "base_uri": "https://localhost:8080/",
          "height": 280
        },
        "outputId": "45b5fc25-85c4-497b-83c6-214e675ffc35"
      },
      "source": [
        "params = {'colsample_bytree': 0.3676,\n",
        " 'learning_rate': 0.004964,\n",
        " 'max_depth': 6,\n",
        " 'min_child_weight': 0.243,\n",
        " 'n_estimators': 3000,\n",
        " 'subsample': 0.1838}\n",
        "\n",
        "\n",
        "\n",
        "\n",
        "cv_results = xgb.cv(dtrain=mtrain,params=params,metrics='rmse',early_stopping_rounds=25,num_boost_round=5000, seed=123,\n",
        "                    as_pandas=True, nfold=5)\n",
        "print(cv_results[\"test-rmse-mean\"])#.tail().values[-1])\n",
        "\n",
        "\n",
        "\n",
        "\n",
        "xg_reg = XGBRegressor(objective=\"reg:squarederror\",colsample_bytree=0.3676,learning_rate=0.004964,max_depth=6,\n",
        "                          min_child_weight=0.243,n_estimators=3000,subsample=0.1838,random_state=0,n_jobs=-1,\n",
        "                      early_stopping_rounds=25,num_boost_round=5000).fit(X_train, y_train)\n",
        "\n",
        "xg_pred = xg_reg.predict(X_test)\n",
        "\n",
        "\n",
        "print(\"Root Mean Squared Error:\", np.sqrt(mean_squared_error(y_test, xg_pred)))\n",
        "print('R train: {}'.format(xg_reg.score(X_train,y_train)))\n",
        "print('R test: {}'.format(xg_reg.score(X_test,y_test)))\n"
      ],
      "execution_count": null,
      "outputs": [
        {
          "output_type": "stream",
          "text": [
            "0       11.482096\n",
            "1       11.425584\n",
            "2       11.369253\n",
            "3       11.313354\n",
            "4       11.257629\n",
            "          ...    \n",
            "2378     0.135031\n",
            "2379     0.135047\n",
            "2380     0.135035\n",
            "2381     0.135022\n",
            "2382     0.135021\n",
            "Name: test-rmse-mean, Length: 2383, dtype: float64\n",
            "Root Mean Squared Error: 0.12570734736698327\n",
            "R train: 0.9719487803802809\n",
            "R test: 0.8916893532269452\n"
          ],
          "name": "stdout"
        }
      ]
    },
    {
      "cell_type": "code",
      "metadata": {
        "id": "Y9yjyc3WdivO",
        "colab": {
          "base_uri": "https://localhost:8080/",
          "height": 1000
        },
        "outputId": "173dadce-2afd-4190-d2c2-4d2117aefd5a"
      },
      "source": [
        "xgb_features_imp  = pd.DataFrame({'features':features_importance_ls,'importances': xg_reg.feature_importances_})\n",
        "xgb_features_imp = xgb_features_imp.sort_values(by='importances',ascending=False)\n",
        "print(xgb_features_imp)"
      ],
      "execution_count": null,
      "outputs": [
        {
          "output_type": "stream",
          "text": [
            "                  features  importances\n",
            "13                Total_SF     0.028329\n",
            "43       RoofStyle_Gambrel     0.026321\n",
            "0      Exterior1st_BrkComm     0.026121\n",
            "18            CentralAir_1     0.025312\n",
            "116          Year_BuildRem     0.024561\n",
            "73          Have_fireplace     0.024061\n",
            "129             GarageArea     0.019874\n",
            "30     Neighborhood_IDOTRR     0.019751\n",
            "36               GrLivArea     0.018232\n",
            "63                All_Bath     0.015528\n",
            "130           MSSubClass_L     0.014697\n",
            "53     Exterior2nd_BrkFace     0.014662\n",
            "25            MSSubClass_B     0.013875\n",
            "121            GarageYrBlt     0.013802\n",
            "72        Foundation_PConc     0.013653\n",
            "16      GarageType_CarPort     0.012265\n",
            "22              Fence_GdWo     0.011771\n",
            "9              Street_Pave     0.011725\n",
            "118        BldgType_Duplex     0.011683\n",
            "85              Alley_Pave     0.011237\n",
            "35    SaleCondition_Alloca     0.011020\n",
            "10     Exterior1st_BrkFace     0.010985\n",
            "6         RoofMatl_WdShngl     0.010092\n",
            "112             BsmtFinSF1     0.010053\n",
            "102       Electrical_SBrkr     0.009817\n",
            "125                MiscVal     0.009804\n",
            "113            OpenPorchSF     0.009400\n",
            "91                PoolArea     0.009396\n",
            "65          SaleType_ConLw     0.009100\n",
            "11    Neighborhood_Crawfor     0.009023\n",
            "54        RoofMatl_Tar&Grv     0.008924\n",
            "127           MSSubClass_H     0.008891\n",
            "47           LandSlope_Sev     0.008840\n",
            "62    Neighborhood_OldTown     0.008503\n",
            "81                 LotArea     0.008452\n",
            "128          EnclosedPorch     0.008372\n",
            "99            TotRmsAbvGrd     0.008187\n",
            "117        LandContour_HLS     0.008152\n",
            "84         Condition1_PosA     0.007955\n",
            "97           LandSlope_Mod     0.007876\n",
            "82          SaleType_ConLI     0.007666\n",
            "110            ScreenPorch     0.007610\n",
            "41         LandContour_Low     0.007584\n",
            "119      Foundation_CBlock     0.007538\n",
            "60     Exterior1st_Plywood     0.007535\n",
            "39    SaleCondition_Normal     0.007452\n",
            "69            MSSubClass_G     0.007443\n",
            "38      Exterior1st_Stucco     0.007236\n",
            "33     Neighborhood_Sawyer     0.007197\n",
            "114              BsmtUnfSF     0.007185\n",
            "105        BldgType_2fmCon     0.007004\n",
            "90            BedroomAbvGr     0.006851\n",
            "115             WoodDeckSF     0.006797\n",
            "8     Neighborhood_MeadowV     0.006755\n",
            "68     Exterior2nd_Plywood     0.006753\n",
            "93            BsmtFullBath     0.006721\n",
            "5             KitchenAbvGr     0.006569\n",
            "34             HeatingQC_3     0.006563\n",
            "124           LowQualFinSF     0.006546\n",
            "15    Neighborhood_Edwards     0.006482\n",
            "19            SaleType_New     0.006419\n",
            "106             MasVnrArea     0.006401\n",
            "95             LotFrontage     0.006318\n",
            "4              MSZoning_RM     0.006242\n",
            "24          SaleType_ConLD     0.006113\n",
            "120           LotShape_Reg     0.006089\n",
            "101           LotShape_IR2     0.006086\n",
            "61            MSSubClass_C     0.006046\n",
            "56             HeatingQC_2     0.006018\n",
            "100               Fence_NA     0.005984\n",
            "78        Condition1_Feedr     0.005913\n",
            "66         RoofStyle_Gable     0.005851\n",
            "49      Neighborhood_NAmes     0.005837\n",
            "103           MSSubClass_I     0.005790\n",
            "111         BldgType_Twnhs     0.005784\n",
            "122             BsmtFinSF2     0.005757\n",
            "26            MSSubClass_O     0.005749\n",
            "83         LandContour_Lvl     0.005726\n",
            "108           MSSubClass_E     0.005697\n",
            "23        Foundation_Stone     0.005639\n",
            "64       LotConfig_CulDSac     0.005634\n",
            "109      HouseStyle_2Story     0.005627\n",
            "71             SaleType_WD     0.005609\n",
            "74       HouseStyle_2.5Unf     0.005533\n",
            "48    Neighborhood_BrkSide     0.005530\n",
            "14    Neighborhood_Mitchel     0.005435\n",
            "98            BsmtHalfBath     0.005289\n",
            "42     Neighborhood_NWAmes     0.005264\n",
            "80   SaleCondition_AdjLand     0.005197\n",
            "89        MiscFeature_Shed     0.005172\n",
            "40        MasVnrType_Stone     0.004999\n",
            "50         Condition2_Norm     0.004945\n",
            "92     Exterior2nd_MetalSd     0.004882\n",
            "59     Exterior1st_Wd Sdng     0.004744\n",
            "77       HouseStyle_1Story     0.004635\n",
            "76           LotConfig_FR2     0.004630\n",
            "107           MSSubClass_M     0.004508\n",
            "55         Condition1_Norm     0.004370\n",
            "32       GarageType_Detchd     0.004296\n",
            "70             HeatingQC_4     0.004247\n",
            "86      MasVnrType_BrkFace     0.004165\n",
            "37       GarageType_Attchd     0.004082\n",
            "17    Neighborhood_NridgHt     0.004081\n",
            "79     Exterior1st_MetalSd     0.004015\n",
            "7             SaleType_CWD     0.003997\n",
            "58        RoofMatl_WdShake     0.003976\n",
            "75     Exterior2nd_VinylSd     0.003960\n",
            "31         Condition1_RRAe     0.003913\n",
            "104       LotConfig_Inside     0.003895\n",
            "12    Neighborhood_StoneBr     0.003853\n",
            "88       Exterior2nd_Stone     0.003745\n",
            "96     Exterior2nd_HdBoard     0.003733\n",
            "27     Exterior2nd_Wd Sdng     0.003715\n",
            "44       HouseStyle_1.5Unf     0.003682\n",
            "46    Neighborhood_SawyerW     0.003681\n",
            "52     Exterior1st_HdBoard     0.003587\n",
            "20     Exterior2nd_CmentBd     0.003473\n",
            "126              3SsnPorch     0.003235\n",
            "94            MSSubClass_F     0.003136\n",
            "2              MSZoning_RL     0.002973\n",
            "45    Neighborhood_Gilbert     0.002963\n",
            "67         Condition1_PosN     0.002793\n",
            "3              MSZoning_RH     0.002789\n",
            "57    Neighborhood_CollgCr     0.002673\n",
            "21         MasVnrType_None     0.002393\n",
            "29      GarageType_BuiltIn     0.002285\n",
            "28    Neighborhood_NoRidge     0.002096\n",
            "1              MSZoning_FV     0.002032\n",
            "123        Condition1_RRNn     0.001481\n",
            "87     Exterior2nd_ImStucc     0.001120\n",
            "51    Neighborhood_NPkVill     0.000686\n"
          ],
          "name": "stdout"
        }
      ]
    },
    {
      "cell_type": "code",
      "metadata": {
        "id": "uLiwT8W5gxlu",
        "colab": {
          "base_uri": "https://localhost:8080/",
          "height": 34
        },
        "outputId": "b8ee2ba5-fe23-4006-8edb-856feb68853d"
      },
      "source": [
        "test_reg[features_importance_ls].shape"
      ],
      "execution_count": null,
      "outputs": [
        {
          "output_type": "execute_result",
          "data": {
            "text/plain": [
              "(1459, 131)"
            ]
          },
          "metadata": {
            "tags": []
          },
          "execution_count": 354
        }
      ]
    },
    {
      "cell_type": "code",
      "metadata": {
        "id": "Q9f2ehD1g4lu",
        "colab": {
          "base_uri": "https://localhost:8080/",
          "height": 34
        },
        "outputId": "abaf5ce2-dbf6-45af-f8b8-fff2d36b8f1b"
      },
      "source": [
        "train_reg[features_importance_ls].shape"
      ],
      "execution_count": null,
      "outputs": [
        {
          "output_type": "execute_result",
          "data": {
            "text/plain": [
              "(1455, 131)"
            ]
          },
          "metadata": {
            "tags": []
          },
          "execution_count": 355
        }
      ]
    },
    {
      "cell_type": "code",
      "metadata": {
        "id": "0OZUtg5CeBZB"
      },
      "source": [
        "X_true = RobustScaler().fit_transform(test_reg[features_importance_ls])\n",
        "\n",
        "predict_xgb = np.expm1(xg_reg.predict(X_true))"
      ],
      "execution_count": null,
      "outputs": []
    },
    {
      "cell_type": "code",
      "metadata": {
        "id": "irUxtgvvjAcw"
      },
      "source": [
        "output = pd.DataFrame({'Id': test_id, 'SalePrice': predict_xgb})\n",
        "output.to_csv('Sale_Price[8]_XGB2.csv', index=False)"
      ],
      "execution_count": null,
      "outputs": []
    },
    {
      "cell_type": "code",
      "metadata": {
        "id": "Z4HQm6xMi3lY",
        "colab": {
          "base_uri": "https://localhost:8080/",
          "height": 34
        },
        "outputId": "722aff04-1856-4002-85c7-3cba7c668000"
      },
      "source": [
        "min(predict_xgb)"
      ],
      "execution_count": null,
      "outputs": [
        {
          "output_type": "execute_result",
          "data": {
            "text/plain": [
              "49347.59"
            ]
          },
          "metadata": {
            "tags": []
          },
          "execution_count": 400
        }
      ]
    },
    {
      "cell_type": "code",
      "metadata": {
        "id": "RaalgSjNi7VR",
        "colab": {
          "base_uri": "https://localhost:8080/",
          "height": 34
        },
        "outputId": "3b972256-ed09-4eb5-d953-11a9a1fe24f8"
      },
      "source": [
        "max(predict_xgb)"
      ],
      "execution_count": null,
      "outputs": [
        {
          "output_type": "execute_result",
          "data": {
            "text/plain": [
              "596176.7"
            ]
          },
          "metadata": {
            "tags": []
          },
          "execution_count": 401
        }
      ]
    }
  ]
}